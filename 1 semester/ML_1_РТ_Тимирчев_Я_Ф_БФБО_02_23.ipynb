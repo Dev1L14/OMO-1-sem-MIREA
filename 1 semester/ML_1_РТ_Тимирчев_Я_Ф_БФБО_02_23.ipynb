{
  "cells": [
    {
      "cell_type": "markdown",
      "id": "f46fd63e",
      "metadata": {
        "id": "f46fd63e"
      },
      "source": [
        "# **Типы данных** #\n",
        "\n",
        "Все типы данных в Python относятся к одной из 2-х категорий:\n",
        "изменяемые (mutable) и неизменяемые (immutable).\n",
        "\n",
        "Неизменяемые объекты:\n",
        "\n",
        "    − числовые данные (int, float),\n",
        "    − bool,\n",
        "    − None,\n",
        "    − символьные строки (class 'str'),\n",
        "    − кортежи (tuple).\n",
        "Изменяемые объекты:\n",
        "\n",
        "    − списки (list),\n",
        "    − множества (set),\n",
        "    − словари (dict).\n",
        "Определить тип переменной можно с помощью функции type()."
      ]
    },
    {
      "cell_type": "markdown",
      "id": "23e17c43",
      "metadata": {
        "id": "23e17c43"
      },
      "source": [
        " **Пример 1**"
      ]
    },
    {
      "cell_type": "markdown",
      "id": "0bd085f9",
      "metadata": {
        "id": "0bd085f9"
      },
      "source": [
        "**Задача:**\n",
        "\n",
        "Выведите на печать и определите тип переменной x=5."
      ]
    },
    {
      "cell_type": "code",
      "execution_count": null,
      "id": "79767439",
      "metadata": {
        "id": "79767439",
        "outputId": "34bb4572-3e1c-40d5-c4a2-b89435a00697"
      },
      "outputs": [
        {
          "name": "stdout",
          "output_type": "stream",
          "text": [
            "5 <class 'int'>\n"
          ]
        }
      ],
      "source": [
        "x = 5\n",
        "print(x,type(x))"
      ]
    },
    {
      "cell_type": "markdown",
      "id": "d2a0421f",
      "metadata": {
        "id": "d2a0421f"
      },
      "source": [
        "# **Теоретический материал - тип int.** #"
      ]
    },
    {
      "cell_type": "markdown",
      "id": "f4bc2197",
      "metadata": {
        "id": "f4bc2197"
      },
      "source": [
        "  C переменными типа int можно производить стандартные\n",
        "математические операции – сложение, вычитание, умножение, деление,\n",
        "возведение в степень, взятие остатка при делении на число.\n",
        "\n",
        "  Деление переменных типа int бывает двух типов – целочисленное (с\n",
        "помощью символа //) и нецелочисленное (символ /). Результатом первого\n",
        "типа деления будет целое число, второго – дробное."
      ]
    },
    {
      "cell_type": "markdown",
      "id": "3e139441",
      "metadata": {
        "id": "3e139441"
      },
      "source": [
        "**Пример 2**"
      ]
    },
    {
      "cell_type": "markdown",
      "id": "7e011dac",
      "metadata": {
        "id": "7e011dac"
      },
      "source": [
        "**Задача:**\n",
        "\n",
        "Выполнить стандартные операции."
      ]
    },
    {
      "cell_type": "code",
      "execution_count": null,
      "id": "f6d7d15a",
      "metadata": {
        "id": "f6d7d15a",
        "outputId": "0a936093-dcee-401d-85de-870cd985ee25"
      },
      "outputs": [
        {
          "name": "stdout",
          "output_type": "stream",
          "text": [
            "9 20 1 1.25 625 1\n"
          ]
        }
      ],
      "source": [
        "a = 4 + 5\n",
        "b = 4 * 5\n",
        "c = 5 // 4\n",
        "d = 5 / 4\n",
        "e = 5**4\n",
        "f = 5%4\n",
        "print(a,b,c,d,e,f)"
      ]
    },
    {
      "cell_type": "markdown",
      "id": "579b4a5b",
      "metadata": {
        "id": "579b4a5b"
      },
      "source": [
        "**Задание 1.**\n",
        "\n",
        "**Задача:**\n",
        "\n",
        "Приведите пример стандартных математических операций с переменной int."
      ]
    },
    {
      "cell_type": "code",
      "execution_count": null,
      "id": "b8ff504f",
      "metadata": {
        "id": "b8ff504f",
        "outputId": "cd2c7c68-f179-41c2-a040-1a4b3dc5ce67"
      },
      "outputs": [
        {
          "name": "stdout",
          "output_type": "stream",
          "text": [
            "18 20 12748236216396078174437376 17\n"
          ]
        }
      ],
      "source": [
        "x = 5\n",
        "y = 4\n",
        "x += 13\n",
        "y *= 5\n",
        "print(x, y, x**y, x+y-21)"
      ]
    },
    {
      "cell_type": "markdown",
      "id": "1a738e9c",
      "metadata": {
        "id": "1a738e9c"
      },
      "source": [
        "  Язык питон удобен в работе с большими числами.\n",
        "\n",
        "  Во многих других языках (например, С++) присвоение большого числа\n",
        "  переменной int вызвало ошибку - возникло бы переполнение.\n",
        "  \n",
        "  Давайте присвоим переменной большое число.\n"
      ]
    },
    {
      "cell_type": "markdown",
      "id": "97ad4220",
      "metadata": {
        "id": "97ad4220"
      },
      "source": [
        "**Пример 3.**\n",
        "\n",
        "**Задача:**\n",
        "\n",
        "Присвоим переменной большое число 5000000000000000000000000001."
      ]
    },
    {
      "cell_type": "code",
      "execution_count": null,
      "id": "5be9794a",
      "metadata": {
        "id": "5be9794a",
        "outputId": "184acce5-e7c7-4f7c-c416-9a40a4f9c2c5"
      },
      "outputs": [
        {
          "name": "stdout",
          "output_type": "stream",
          "text": [
            "5000000000000000000000000001 | <class 'int'>\n"
          ]
        }
      ],
      "source": [
        "x = 5 * 1000000000 * 1000000000 * 10**9 + 1\n",
        "print(x, '|', type(x))"
      ]
    },
    {
      "cell_type": "markdown",
      "id": "f44db261",
      "metadata": {
        "id": "f44db261"
      },
      "source": [
        "**Задание 2.**\n",
        "\n",
        "**Задача:**\n",
        "\n",
        "Присвойте переменной типа int большое число (значение указать\n",
        "больше, чем значение целочисленной переменной на языках класса СИ)."
      ]
    },
    {
      "cell_type": "code",
      "execution_count": null,
      "id": "b02d3baa",
      "metadata": {
        "id": "b02d3baa",
        "outputId": "41ab0a25-4c06-43a5-ed04-aa0378e137f3"
      },
      "outputs": [
        {
          "name": "stdout",
          "output_type": "stream",
          "text": [
            "6546781215792283740026379393655198304433284092086129578966582736192267592809349109766540184651808314301773368255120142018434513091770786106657055178752000000000000000000000000000000000000000000000000000000000000000000000000000000000000000000000000000000000000000000000000000000000000000000000000000000000000000000000000000000000000000000000000000000000000000000000000000000000000000000000000000000000000000000000000000000000000000000000000000000000000000000000000000000000000000000000000000000000000000000000000000000000000000000000000000000000000000000000000000000000000000000000000000000000000000000000000000000000000000000000000000000000000000000000\n"
          ]
        }
      ],
      "source": [
        "x = 20\n",
        "y = 501\n",
        "z = x ** y\n",
        "print(z)"
      ]
    },
    {
      "cell_type": "markdown",
      "id": "a469961f",
      "metadata": {
        "id": "a469961f"
      },
      "source": [
        "# **Теоретический материал – Тип float** #\n",
        "\n",
        "   C переменными типа float можно производить стандартные\n",
        "математические операции – сложение, вычитание, умножение, деление,\n",
        "возведение в степень, взятие остатка от деления на число.\n",
        "Переменную типа int можно привести к типу float."
      ]
    },
    {
      "cell_type": "markdown",
      "id": "4547dc1c",
      "metadata": {
        "id": "4547dc1c"
      },
      "source": [
        "a = 5\n",
        "print(a, type(a))\n",
        "a = float(a)\n",
        "print(a, type(a))"
      ]
    },
    {
      "cell_type": "markdown",
      "id": "d12b4c2f",
      "metadata": {
        "id": "d12b4c2f"
      },
      "source": [
        "**Пример 4.**\n",
        "\n",
        "**Задача:**\n",
        "\n",
        "Инициализируем переменную типа float. Разделитель точка."
      ]
    },
    {
      "cell_type": "code",
      "execution_count": null,
      "id": "e1d58db1",
      "metadata": {
        "id": "e1d58db1",
        "outputId": "b605201d-2358-4202-ef59-95eb2623a10f"
      },
      "outputs": [
        {
          "name": "stdout",
          "output_type": "stream",
          "text": [
            "12.345 | <class 'float'>\n"
          ]
        }
      ],
      "source": [
        "y = 12.345\n",
        "print(y, '|', type(y))"
      ]
    },
    {
      "cell_type": "markdown",
      "id": "daf29de4",
      "metadata": {
        "id": "daf29de4"
      },
      "source": [
        "**Пример 5.**\n",
        "\n",
        "**Задача:**\n",
        "\n",
        "Основные операции с переменной типа float."
      ]
    },
    {
      "cell_type": "code",
      "execution_count": null,
      "id": "2f3a4cc6",
      "metadata": {
        "id": "2f3a4cc6",
        "outputId": "1feb1cfb-3580-45ef-d467-c0f7405c59d9"
      },
      "outputs": [
        {
          "name": "stdout",
          "output_type": "stream",
          "text": [
            "9.3 21.419999999999998 1.25 1.0 759.69140625 3.1099999999999994\n"
          ]
        }
      ],
      "source": [
        "af = 4.2 + 5.1\n",
        "bf = 4.2 * 5.1\n",
        "cf = 5.0 / 4.0\n",
        "df = 5.25 // 4.0\n",
        "ef = 5.25 ** 4.0\n",
        "ff = 7.35 % 4.24\n",
        "print(af,bf,cf,df,ef,ff)"
      ]
    },
    {
      "cell_type": "markdown",
      "id": "818f4a0f",
      "metadata": {
        "id": "818f4a0f"
      },
      "source": [
        "**Задание 3.**\n",
        "\n",
        "**Задача:**\n",
        "\n",
        "Приведите пример стандартных операций с переменной типа float.\n",
        "Напишите комментарии к операциям в строке с операцией.\n",
        "Пример: af = 4.2 + 5.1 # сложение вещественных чисел."
      ]
    },
    {
      "cell_type": "code",
      "execution_count": null,
      "id": "79dd1170",
      "metadata": {
        "id": "79dd1170",
        "outputId": "dbced208-7c11-4ad1-b291-16dd3b01ccdc"
      },
      "outputs": [
        {
          "name": "stdout",
          "output_type": "stream",
          "text": [
            "24288.739488609644 -24270.191488609646 3.4400000000000013\n"
          ]
        }
      ],
      "source": [
        "a = float(4) ** 7.284 #возведение в степень\n",
        "b = 18.548 - a # вычитание вещественных чисел\n",
        "xy = 15.8 % 6.18 # остаток от деления\n",
        "print(a, b, xy)"
      ]
    },
    {
      "cell_type": "markdown",
      "id": "20286a85",
      "metadata": {
        "id": "20286a85"
      },
      "source": [
        "# **Теоретический материал – Тип bool** #\n",
        "\n",
        "Логический тип данных – принимает два значения: True или False.\n",
        "У типа bool существует связь с типом int – переменная со значением True\n",
        "соответствует int-овой переменной со значением 1, а переменная со значением\n",
        "False – int'овой переменной со значением 0"
      ]
    },
    {
      "cell_type": "markdown",
      "id": "2698cc5b",
      "metadata": {
        "id": "2698cc5b"
      },
      "source": [
        "**Пример 6.**\n",
        "\n",
        "**Задача:**\n",
        "\n",
        "Инициализируем переменные типа bool. Определим тип и убедимся, что тип\n",
        "bool."
      ]
    },
    {
      "cell_type": "code",
      "execution_count": null,
      "id": "7b898504",
      "metadata": {
        "id": "7b898504",
        "outputId": "c86715c7-b45f-4614-d3e9-a28883891a1d"
      },
      "outputs": [
        {
          "name": "stdout",
          "output_type": "stream",
          "text": [
            "True | <class 'bool'>\n",
            "False | <class 'bool'>\n"
          ]
        }
      ],
      "source": [
        "a = True\n",
        "b = False\n",
        "print(a, '|', type(a))\n",
        "print(b, '|', type(b))"
      ]
    },
    {
      "cell_type": "markdown",
      "id": "743fdd2f",
      "metadata": {
        "id": "743fdd2f"
      },
      "source": [
        "**Пример 7.**\n",
        "\n",
        "**Задача:**\n",
        "\n",
        "У типа bool существует связь с типом int."
      ]
    },
    {
      "cell_type": "code",
      "execution_count": null,
      "id": "9d3c05fc",
      "metadata": {
        "id": "9d3c05fc",
        "outputId": "7d959001-4efc-498f-876a-a6ff0adfe712"
      },
      "outputs": [
        {
          "name": "stdout",
          "output_type": "stream",
          "text": [
            "1\n",
            "2\n",
            "0\n"
          ]
        }
      ],
      "source": [
        "print(a + b)\n",
        "print(a + a)\n",
        "print(b + b)"
      ]
    },
    {
      "cell_type": "markdown",
      "id": "13236abe",
      "metadata": {
        "id": "13236abe"
      },
      "source": [
        "**Задание 4.**\n",
        "\n",
        "**Задача:**\n",
        "\n",
        "Приведите примеры переменных типа bool.\n",
        "У типа bool существует связь с типом int - переменная со значением True\n",
        "соответствует int'овой переменной со значением 1, а переменная со\n",
        "значением False - int'овой переменной со значением 0.\n",
        "Пример дополнить демонстрацией взаимосвязи с типом int."
      ]
    },
    {
      "cell_type": "code",
      "execution_count": null,
      "id": "317549fb",
      "metadata": {
        "id": "317549fb",
        "outputId": "b70c2ba7-69a5-46b3-aad8-65d5ce846931"
      },
      "outputs": [
        {
          "name": "stdout",
          "output_type": "stream",
          "text": [
            "True False 3 False True -4\n"
          ]
        }
      ],
      "source": [
        "x = True\n",
        "y = False\n",
        "z = True\n",
        "xy = x&y\n",
        "xz = x&z\n",
        "print(x, y, x+2*z, xy, xz, y-4*x)"
      ]
    },
    {
      "cell_type": "markdown",
      "id": "29ca0b87",
      "metadata": {
        "id": "29ca0b87"
      },
      "source": [
        "**Пример 8.**\n",
        "\n",
        "**Задача:**\n",
        "\n",
        "У типа bool существует связь с типом int."
      ]
    },
    {
      "cell_type": "code",
      "execution_count": null,
      "id": "958a5904",
      "metadata": {
        "id": "958a5904",
        "outputId": "5141f52e-5920-48cb-f76a-70ebd6f2bbbc"
      },
      "outputs": [
        {
          "name": "stdout",
          "output_type": "stream",
          "text": [
            "1 0\n"
          ]
        }
      ],
      "source": [
        "a = True\n",
        "b = False\n",
        "print(int(a), int(b))"
      ]
    },
    {
      "cell_type": "markdown",
      "id": "d6a3328f",
      "metadata": {
        "id": "d6a3328f"
      },
      "source": [
        "**Пример 9.**\n",
        "\n",
        "**Задача:**\n",
        "\n",
        "Проверим основные тождества."
      ]
    },
    {
      "cell_type": "code",
      "execution_count": null,
      "id": "f6ae7536",
      "metadata": {
        "id": "f6ae7536",
        "outputId": "cf1dcd44-986f-4370-f687-20a5e85b2fad"
      },
      "outputs": [
        {
          "name": "stdout",
          "output_type": "stream",
          "text": [
            "False\n",
            "True\n",
            "True\n"
          ]
        }
      ],
      "source": [
        "print(True and False)\n",
        "print(True or False)\n",
        "print(not False)"
      ]
    },
    {
      "cell_type": "markdown",
      "id": "c038004e",
      "metadata": {
        "id": "c038004e"
      },
      "source": [
        "**Пример 10.**\n",
        "\n",
        "**Задача:**\n",
        "\n",
        "Записать выражения\n",
        "\n",
        "a = (2 == 3)\n",
        "\n",
        "b = (4 < 5)\n",
        "\n",
        "Проверить тип результата. Комментарии приветствуются всегда."
      ]
    },
    {
      "cell_type": "code",
      "execution_count": null,
      "id": "b89a2be2",
      "metadata": {
        "id": "b89a2be2",
        "outputId": "d5629fee-736a-492a-b28d-7501020e80f3"
      },
      "outputs": [
        {
          "name": "stdout",
          "output_type": "stream",
          "text": [
            "False <class 'bool'>\n",
            "True <class 'bool'>\n"
          ]
        }
      ],
      "source": [
        "a = (2==3)\n",
        "b = (4<5)\n",
        "print(a, type(a))\n",
        "print(b, type(b))"
      ]
    },
    {
      "cell_type": "markdown",
      "id": "13b514ab",
      "metadata": {
        "id": "13b514ab"
      },
      "source": [
        "**Пример 11.**\n",
        "\n",
        "**Задача:**\n",
        "\n",
        "Определить результат\n",
        "9/3>2*3 or not (12!=3**2+3 and 57-24>30)"
      ]
    },
    {
      "cell_type": "code",
      "execution_count": null,
      "id": "dcc55af7",
      "metadata": {
        "id": "dcc55af7",
        "outputId": "b6114085-152c-4b7a-f9b2-a3c334e90629"
      },
      "outputs": [
        {
          "name": "stdout",
          "output_type": "stream",
          "text": [
            "True\n"
          ]
        }
      ],
      "source": [
        "print(9/3>2*3 or not (12!=3**2+3 and 57-24>30))"
      ]
    },
    {
      "cell_type": "markdown",
      "id": "af7cd29e",
      "metadata": {
        "id": "af7cd29e"
      },
      "source": [
        "# **Теоретический материал – Функия input** #\n",
        "\n",
        "Функция input() используется для ввода данных с клавиатуры.\n",
        "В примере 12 инициализируется переменная name – имя переменной.\n",
        "Имена переменных используются для хранения значений.\n",
        "Символ + используется для соединения (конкатенации) строк."
      ]
    },
    {
      "cell_type": "markdown",
      "id": "77a1a3d9",
      "metadata": {
        "id": "77a1a3d9"
      },
      "source": [
        "**Пример 12.**\n",
        "\n",
        "**Задача:**\n",
        "\n",
        "Введите с клавиатуры имя и скажите от имени программы привет.\n",
        "Python очень дружелюбный, позитивный и интуитивно понятный язык."
      ]
    },
    {
      "cell_type": "code",
      "execution_count": null,
      "id": "86046687",
      "metadata": {
        "id": "86046687",
        "outputId": "f7048aeb-75ac-4c91-9a7e-9fe3b26c98ec"
      },
      "outputs": [
        {
          "name": "stdout",
          "output_type": "stream",
          "text": [
            "Введите имя Янис\n",
            "Hello, Янис\n"
          ]
        }
      ],
      "source": [
        "name = input('Введите имя ')\n",
        "print('Hello, ' + name)"
      ]
    },
    {
      "cell_type": "markdown",
      "id": "b92fdece",
      "metadata": {
        "id": "b92fdece"
      },
      "source": [
        "**Пример 13.**\n",
        "\n",
        "**Задача:**\n",
        "\n",
        "Введите с клавиатуры два целых числа и выполните сложение."
      ]
    },
    {
      "cell_type": "code",
      "execution_count": null,
      "id": "44553652",
      "metadata": {
        "id": "44553652",
        "outputId": "b44b8a26-7bc5-4b43-f1b8-68ea6a3115a4"
      },
      "outputs": [
        {
          "name": "stdout",
          "output_type": "stream",
          "text": [
            "x = 4\n",
            "y = 5\n",
            "45\n"
          ]
        }
      ],
      "source": [
        "x = input('x = ')\n",
        "y = input('y = ')\n",
        "print(x+y)"
      ]
    },
    {
      "cell_type": "markdown",
      "id": "d49e0418",
      "metadata": {
        "id": "d49e0418"
      },
      "source": [
        "**Задание 5.**\n",
        "\n",
        "**Задача:**\n",
        "\n",
        "Присвойте переменной x значение БФБО, а переменной у номер группы и\n",
        "год поступления. Пример на конкатенацию – указать свою группу"
      ]
    },
    {
      "cell_type": "code",
      "execution_count": null,
      "id": "4247bd90",
      "metadata": {
        "id": "4247bd90",
        "outputId": "0dddf528-7289-4910-9c79-475c08a1866a"
      },
      "outputs": [
        {
          "name": "stdout",
          "output_type": "stream",
          "text": [
            "БФБО-02-23\n"
          ]
        }
      ],
      "source": [
        "x = 'БФБО'\n",
        "y = '02-23'\n",
        "print(x + '-' + y)"
      ]
    },
    {
      "cell_type": "markdown",
      "id": "a9429e92",
      "metadata": {
        "id": "a9429e92"
      },
      "source": [
        "# **Теоретический материал – Ввод с клавиатуры переменной** #\n",
        "\n",
        "Необходимо определять тип переменной при вводе с клавиатуры для\n",
        "выполнения арифметических операций."
      ]
    },
    {
      "cell_type": "markdown",
      "id": "44238d20",
      "metadata": {
        "id": "44238d20"
      },
      "source": [
        "**Пример 14.**\n",
        "\n",
        "**Задача:**\n",
        "\n",
        "Введите с клавиатуры два числа и выполните сложение"
      ]
    },
    {
      "cell_type": "code",
      "execution_count": null,
      "id": "15c993d6",
      "metadata": {
        "id": "15c993d6",
        "outputId": "3c969f25-7e49-4ca3-d68f-d0f25089a66a"
      },
      "outputs": [
        {
          "name": "stdout",
          "output_type": "stream",
          "text": [
            "x = 5\n",
            "y = 6.0\n",
            "11.0\n"
          ]
        }
      ],
      "source": [
        "x = input('x = ')\n",
        "y = input('y = ')\n",
        "x = float(x)\n",
        "y = float(y)\n",
        "print(x+y)"
      ]
    },
    {
      "cell_type": "markdown",
      "id": "de055fb8",
      "metadata": {
        "id": "de055fb8"
      },
      "source": [
        "**Задание 6.**\n",
        "\n",
        "**Задача:**\n",
        "\n",
        "Введите с клавиатуры два числа, одно типа float, второе типа int. Выполните\n",
        "сложение. Определите тип данных результата.\n"
      ]
    },
    {
      "cell_type": "code",
      "execution_count": null,
      "id": "e83a9a75",
      "metadata": {
        "id": "e83a9a75",
        "outputId": "9114d6c4-449b-4a18-e853-170fef70328a"
      },
      "outputs": [
        {
          "name": "stdout",
          "output_type": "stream",
          "text": [
            "x = 5.756\n",
            "y = 4\n",
            "9.756 <class 'float'>\n"
          ]
        }
      ],
      "source": [
        "x = float(input('x = '))\n",
        "y = int(input('y = '))\n",
        "print(x+y, type(x+y))"
      ]
    },
    {
      "cell_type": "markdown",
      "id": "8fda7fa9",
      "metadata": {
        "id": "8fda7fa9"
      },
      "source": [
        "# **Теоретический материал – Тип str** #\n",
        "\n",
        "Тип переменной \"строка\". Нужен для хранения и выполнения операций со\n",
        "строками – наборами символов. В Python строку можно задавать как с помощью\n",
        "одинарных кавычек, так и с помощью двойных, разницы нет (главное, чтобы в\n",
        "начале и конце одной строки стояли одинаковые кавычки).\n",
        "\n",
        "Со строками можно выполнять некоторые операции. Например, можно\n",
        "сложить две строки – вторая добавится в конец первой.\n",
        "\n",
        "Также у строк есть некоторое количество методов.\n",
        "\n",
        "Метод – это название для функций, которые вызываются от объекта.\n",
        "Например, у нас есть объект a – строка, и для нее можно вызвать метод .upper():\n",
        "a.upper()\n",
        "\n",
        "**Методы делятся на те, которые изменяют сам объект, который их\n",
        "вызывает, и на те, которые возвращают результат, но не изменяют сам\n",
        "объект.**\n",
        "\n",
        "Методы .upper() и .lower() – возвращают копию строки (не изменяя саму\n",
        "строку), для которой был вызван методы, приведения к верхнему и нижнему\n",
        "регистру соответственно.\n",
        "\n",
        "**Внимание!** При вызове метода какого-то класса (или функции какого-то\n",
        "модуля) можно написать его имя и через точку нажать [tab]:\n",
        "<имя_объекта_класса(модуля).[tab] – всплывет меню, в котором можно\n",
        "выбрать из всех существующих в этом классе методов (функций модуля)."
      ]
    },
    {
      "cell_type": "markdown",
      "id": "e46a91e4",
      "metadata": {
        "id": "e46a91e4"
      },
      "source": [
        "**Пример 15.**\n",
        "\n",
        "**Задача:**\n",
        "\n",
        "Введите с клавиатуры имя и скажите от имени программы привет.\n",
        "Python очень дружелюбный, позитивный и интуитивно понятный язык."
      ]
    },
    {
      "cell_type": "code",
      "execution_count": null,
      "id": "8a262b68",
      "metadata": {
        "id": "8a262b68",
        "outputId": "ff1cd912-fd45-4646-99f5-9dfe2c9b019f"
      },
      "outputs": [
        {
          "name": "stdout",
          "output_type": "stream",
          "text": [
            "Введите имя Yanis\n",
            "Hello, Yanis\n"
          ]
        }
      ],
      "source": [
        "name = input('Введите имя ')\n",
        "print('Hello, ' + name)\n"
      ]
    },
    {
      "cell_type": "markdown",
      "id": "cb08fa3e",
      "metadata": {
        "id": "cb08fa3e"
      },
      "source": [
        "**Пример 16.**\n",
        "\n",
        "**Задача:**\n",
        "\n",
        "Задайте две переменные типа str, используя одинарные и двойные кавычки.\n",
        "Определите тип"
      ]
    },
    {
      "cell_type": "code",
      "execution_count": null,
      "id": "095d5ebf",
      "metadata": {
        "id": "095d5ebf",
        "outputId": "4e01cf69-0a20-4248-a368-23a45bc8cd81"
      },
      "outputs": [
        {
          "name": "stdout",
          "output_type": "stream",
          "text": [
            "Привет  <class 'str'>\n",
            "Мир <class 'str'>\n"
          ]
        }
      ],
      "source": [
        "x = 'Привет '\n",
        "y = \"Мир\"\n",
        "print(x, type(x))\n",
        "print(y, type(y))"
      ]
    },
    {
      "cell_type": "markdown",
      "id": "ded36feb",
      "metadata": {
        "id": "ded36feb"
      },
      "source": [
        "**Пример 17.**\n",
        "\n",
        "**Задача:**\n",
        "\n",
        "Задайте две переменные типа str, используя одинарные и двойные кавычки.\n",
        "Сложите две строки."
      ]
    },
    {
      "cell_type": "code",
      "execution_count": null,
      "id": "4a494d42",
      "metadata": {
        "scrolled": true,
        "id": "4a494d42",
        "outputId": "f55fe585-c19a-44ff-e25f-b87e6d66bee6"
      },
      "outputs": [
        {
          "name": "stdout",
          "output_type": "stream",
          "text": [
            "Привет Мир\n"
          ]
        }
      ],
      "source": [
        "a = 'Привет '\n",
        "b = \"Мир\"\n",
        "print(a+b)"
      ]
    },
    {
      "cell_type": "markdown",
      "id": "f8dd99f5",
      "metadata": {
        "id": "f8dd99f5"
      },
      "source": [
        "**Пример 18.**\n",
        "\n",
        "**Задача:**\n",
        "\n",
        "Приведите строку а = ‘Привет’ к верхнему и нижнему регистру. Убедитесь,\n",
        "что данные методы возвращают результат, но не изменяют сам объект."
      ]
    },
    {
      "cell_type": "code",
      "execution_count": null,
      "id": "7bb4a07d",
      "metadata": {
        "id": "7bb4a07d",
        "outputId": "9dd1c919-a802-43cc-d0a4-d64baae53f16"
      },
      "outputs": [
        {
          "name": "stdout",
          "output_type": "stream",
          "text": [
            "ПРИВЕТ \n",
            "привет \n",
            "Привет \n"
          ]
        }
      ],
      "source": [
        "print(a.upper())\n",
        "print(a.lower())\n",
        "print(a)"
      ]
    },
    {
      "cell_type": "markdown",
      "id": "10579fb2",
      "metadata": {
        "id": "10579fb2"
      },
      "source": [
        "**Задание 7.**\n",
        "\n",
        "**Задача:**\n",
        "\n",
        "Присвойте переменной n значение ФИО, а переменной nn группы.\n",
        "Приведите переменные к верхнему регистру. Выполните сложение строк.\n",
        "Выведите на печать результат сложения. Покажите, что метод не изменил\n",
        "саму переменную."
      ]
    },
    {
      "cell_type": "code",
      "execution_count": null,
      "id": "ac8c0401",
      "metadata": {
        "id": "ac8c0401",
        "outputId": "d30008f5-7dfb-466c-8336-5f3ce3fb597e"
      },
      "outputs": [
        {
          "name": "stdout",
          "output_type": "stream",
          "text": [
            "ТИМИРЧЕВ ЯНИС ФЕДОРОВИЧ БФБО-02-23\n",
            "Тимирчев Янис Федорович БФБО-02-23\n"
          ]
        }
      ],
      "source": [
        "n = 'Тимирчев Янис Федорович'\n",
        "nn = 'БФБО-02-23'\n",
        "print(n.upper() + ' ' + nn.upper())\n",
        "print(n + ' ' + nn)"
      ]
    },
    {
      "cell_type": "markdown",
      "id": "bdebf23b",
      "metadata": {
        "id": "bdebf23b"
      },
      "source": [
        "# **Теоретический материал – Тип None** #\n",
        "\n",
        "None – ничего, null\n",
        "Специальный тип в питоне, который обозначает “ничего”.\n",
        "Его нельзя привести ни к одному другому типу языка. Проверить, является\n",
        "ли переменная param типом None, можно так:\n",
        "\n",
        "**if param is None**\n",
        "\n",
        "С первого взгляда может быть непонятно, зачем он нужен, но на самом\n",
        "деле это очень удобный тип.\n",
        "\n",
        "Например, если вы где-то в коде создаете объект (базу данных, например),\n",
        "обращаясь к внешнему коду и хотите проверить, создалась ли ваша база данных,\n",
        "вы можете осуществить эту проверку, сравнив переменную базы данных с None.\n",
        "Примерно так:\n",
        "database = MyDatabase(db_host, db_user, db_password, db_database)\n",
        "if database is None"
      ]
    },
    {
      "cell_type": "markdown",
      "id": "59d988b0",
      "metadata": {
        "id": "59d988b0"
      },
      "source": [
        "**Пример 19.**\n",
        "\n",
        "**Задача:**\n",
        "\n",
        "Задайте переменную None. Определите тип."
      ]
    },
    {
      "cell_type": "code",
      "execution_count": null,
      "id": "f8df93db",
      "metadata": {
        "id": "f8df93db",
        "outputId": "02617174-13ba-4489-ee7a-c5f65b174143"
      },
      "outputs": [
        {
          "name": "stdout",
          "output_type": "stream",
          "text": [
            "None | <class 'NoneType'>\n"
          ]
        }
      ],
      "source": [
        "z = None\n",
        "print(z, '|', type(z))"
      ]
    },
    {
      "cell_type": "markdown",
      "id": "67f50946",
      "metadata": {
        "id": "67f50946"
      },
      "source": [
        "**Пример 20.**\n",
        "\n",
        "**Задача:**\n",
        "\n",
        "Убедитесь, что None нельзя привести к другому типу."
      ]
    },
    {
      "cell_type": "code",
      "execution_count": null,
      "id": "46a41961",
      "metadata": {
        "colab": {
          "base_uri": "https://localhost:8080/",
          "height": 174
        },
        "id": "46a41961",
        "outputId": "9f97c250-72d6-4f87-a584-425fbc6da9aa"
      },
      "outputs": [
        {
          "output_type": "error",
          "ename": "NameError",
          "evalue": "ignored",
          "traceback": [
            "\u001b[0;31m---------------------------------------------------------------------------\u001b[0m",
            "\u001b[0;31mNameError\u001b[0m                                 Traceback (most recent call last)",
            "\u001b[0;32m<ipython-input-1-af352a0618bc>\u001b[0m in \u001b[0;36m<cell line: 1>\u001b[0;34m()\u001b[0m\n\u001b[0;32m----> 1\u001b[0;31m \u001b[0mint\u001b[0m\u001b[0;34m(\u001b[0m\u001b[0mz\u001b[0m\u001b[0;34m)\u001b[0m\u001b[0;34m\u001b[0m\u001b[0;34m\u001b[0m\u001b[0m\n\u001b[0m",
            "\u001b[0;31mNameError\u001b[0m: name 'z' is not defined"
          ]
        }
      ],
      "source": [
        "int(z)"
      ]
    },
    {
      "cell_type": "markdown",
      "id": "74f102fe",
      "metadata": {
        "id": "74f102fe"
      },
      "source": [
        "**Пример 21.**\n",
        "\n",
        "**Задача:**\n",
        "\n",
        "Проверьте переменную на None"
      ]
    },
    {
      "cell_type": "code",
      "execution_count": null,
      "id": "a168a789",
      "metadata": {
        "id": "a168a789",
        "outputId": "35e69f72-a880-407c-bd7b-0b2b6a8df036"
      },
      "outputs": [
        {
          "name": "stdout",
          "output_type": "stream",
          "text": [
            "I am None\n"
          ]
        }
      ],
      "source": [
        "if z is None:\n",
        "    print('I am None')"
      ]
    },
    {
      "cell_type": "markdown",
      "id": "2552afde",
      "metadata": {
        "id": "2552afde"
      },
      "source": [
        "**Пример 22.**\n",
        "\n",
        "**Задача:**\n",
        "\n",
        "Мы рассмотрели int, float, bool, None, str. К остальным очень важным типам\n",
        "данных и их специфики мы вернемся в дальнейшем.\n",
        "А пока давайте все-таки посмотрим и убедимся, что они существуют."
      ]
    },
    {
      "cell_type": "code",
      "execution_count": null,
      "id": "14b39797",
      "metadata": {
        "id": "14b39797",
        "outputId": "81180372-4edb-4eb1-dda0-518bec5d841e"
      },
      "outputs": [
        {
          "name": "stdout",
          "output_type": "stream",
          "text": [
            "ФИО | <class 'str'> \n",
            " Группа БФБО-02-2023 | <class 'str'> \n",
            " Оценка за экзамен 5 | <class 'int'> True | <class 'bool'> \n",
            " 39.4 | <class 'float'> \n",
            " None | <class 'NoneType'> \n",
            " ('a', 5, 12.345, (2, 'b')) | <class 'tuple'> \n",
            " [['Антонова Антонина', 34, 'ж'], ['Борисов Борис', 26, 'м']] | <class 'list'> \n",
            " {1, 'title', 2, 'content'} | <class 'set'>\n"
          ]
        }
      ],
      "source": [
        "s = 'ФИО'\n",
        "s1 = 'Группа БФБО-02-2023'\n",
        "k = 5 # оценка за экзамен\n",
        "q = k > 3 # хорошо успевающтй студент\n",
        "x = 3+5.2*7\n",
        "y = None\n",
        "z = 'a', 5,12.345, (2, 'b')\n",
        "df = [['Антонова Антонина', 34, 'ж'],['Борисов Борис', 26, 'м']]\n",
        "A = {1, 'title', 2, 'content'}\n",
        "print(s, '|', type(s),'\\n', s1 , '|', type(s1), '\\n',\n",
        "     'Оценка за экзамен', k,'|', type(k),q,'|',type(q), '\\n',\n",
        "      x, '|',type(x), '\\n', y, '|', type(y), '\\n',\n",
        "      z, '|', type(z), '\\n', df, '|', type(df), '\\n', A, '|', type(A))"
      ]
    },
    {
      "cell_type": "markdown",
      "id": "57825ae7",
      "metadata": {
        "id": "57825ae7"
      },
      "source": [
        "**Задание 8.**\n",
        "\n",
        "**Задача:**\n",
        "\n",
        "По аналогии с примером, приведите свои примеры типов данных.\n",
        "Не забудьте инициализировать переменные и определить их тип ФИО и\n",
        "группа\n",
        "\n"
      ]
    },
    {
      "cell_type": "code",
      "execution_count": null,
      "id": "eeeddeff",
      "metadata": {
        "id": "eeeddeff",
        "outputId": "889db691-5ef1-415d-c19c-1ef053d545cb"
      },
      "outputs": [
        {
          "name": "stdout",
          "output_type": "stream",
          "text": [
            "ФИО | <class 'str'> \n",
            " Группа БФБО-02-2023 | <class 'str'> \n",
            " Оценка за экзамен 10 | <class 'int'> False | <class 'bool'> \n",
            " 39.4 | <class 'float'> \n",
            " None | <class 'NoneType'> \n",
            " ('a', 5, 12.345, (2, 'b')) | <class 'tuple'> \n",
            " [['Антонова Антонина', 34, 'ж'], ['Борисов Борис', 26, 'м']] | <class 'list'> \n",
            " {1, 'title', 2, 'content'} | <class 'set'>\n"
          ]
        }
      ],
      "source": [
        "s = 'ФИО'\n",
        "s1 = 'Группа БФБО-02-2023'\n",
        "k = 10\n",
        "q = k < 8\n",
        "x = 3+5.2*7\n",
        "y = None\n",
        "z = 'a', 5,12.345, (2, 'b')\n",
        "df = [['Антонова Антонина', 34, 'ж'],['Борисов Борис', 26, 'м']]\n",
        "A = {1, 'title', 2, 'content'}\n",
        "print(s, '|', type(s),'\\n', s1 , '|', type(s1), '\\n',\n",
        "     'Оценка за экзамен', k,'|', type(k),q,'|',type(q), '\\n',\n",
        "      x, '|',type(x), '\\n', y, '|', type(y), '\\n',\n",
        "      z, '|', type(z), '\\n', df, '|', type(df), '\\n', A, '|', type(A))"
      ]
    },
    {
      "cell_type": "markdown",
      "id": "760eebef",
      "metadata": {
        "id": "760eebef"
      },
      "source": [
        "# **Теоретический материал – Тип Set** #\n",
        "\n",
        "   Множество – это набор, в котором элементы не повторяются (то есть,\n",
        "как и в математическом определении множества).\n",
        "\n",
        "   Даже, если при задании элементов множества или копировании\n",
        "элементов массива в переменную типа множество будет указано несколько\n",
        "раз одинаковый элемент, при выводе множества можно убедится, что он\n",
        "будет один.\n",
        "\n",
        "   Тип данных множество языка Python устроен совсем не так, как массив\n",
        "или кортеж, элементы множества хранятся не последовательно, поэтому к\n",
        "элементам множества нельзя обращаться по индексу"
      ]
    },
    {
      "cell_type": "markdown",
      "id": "978cf776",
      "metadata": {
        "id": "978cf776"
      },
      "source": [
        "**Пример 23.**\n",
        "\n",
        "**Задача:**\n",
        "\n",
        "Пустое множество можно создать с помощью set()."
      ]
    },
    {
      "cell_type": "code",
      "execution_count": null,
      "id": "538236c1",
      "metadata": {
        "id": "538236c1",
        "outputId": "eb55ac05-dc31-4df2-da55-8e1cdd72b147"
      },
      "outputs": [
        {
          "name": "stdout",
          "output_type": "stream",
          "text": [
            "set() <class 'set'>\n"
          ]
        }
      ],
      "source": [
        "s_null = set()\n",
        "print(s_null, type(s_null))"
      ]
    },
    {
      "cell_type": "markdown",
      "id": "b1cb41d3",
      "metadata": {
        "id": "b1cb41d3"
      },
      "source": [
        "**Пример 24.**\n",
        "\n",
        "**Задача:**\n",
        "\n",
        "Задайте множество и проверьте его отличие от массива."
      ]
    },
    {
      "cell_type": "code",
      "execution_count": null,
      "id": "9d1596bf",
      "metadata": {
        "id": "9d1596bf",
        "outputId": "187dcffe-25fc-4066-b1b2-e2055a053e84"
      },
      "outputs": [
        {
          "data": {
            "text/plain": [
              "{1, 2, 3, 4, 5, 6, 7, 8}"
            ]
          },
          "execution_count": 26,
          "metadata": {},
          "output_type": "execute_result"
        }
      ],
      "source": [
        "s1 = {1,2,4,2,3,5,6,7,8,5}\n",
        "s1"
      ]
    },
    {
      "cell_type": "markdown",
      "id": "d78db7e3",
      "metadata": {
        "id": "d78db7e3"
      },
      "source": [
        "**Задание 9.**\n",
        "\n",
        "**Задача:**\n",
        "\n",
        "По аналогии с примером, приведите свои примеры задания множества.\n",
        "Множество может включать переменные разных типов. При задании\n",
        "элементов множества укажите 5 элементов типа int (два одинаковых и\n",
        "для других типов тоже), 5 - типа float, 5 - элементов типа str.\n",
        "В комментарии опишите отличие множества от массива. Укажите\n",
        "мощность множества."
      ]
    },
    {
      "cell_type": "code",
      "execution_count": null,
      "id": "a49ad278",
      "metadata": {
        "colab": {
          "base_uri": "https://localhost:8080/"
        },
        "id": "a49ad278",
        "outputId": "084b023a-b5e7-4213-8ca3-928d4c1f8bc3"
      },
      "outputs": [
        {
          "output_type": "execute_result",
          "data": {
            "text/plain": [
              "{1, 2, 3, 5.675, 6.89, 6.897, 8.5, 'apple', 'bpple', 'cpple'}"
            ]
          },
          "metadata": {},
          "execution_count": 4
        }
      ],
      "source": [
        "s1 = {1, 2, 2, 2, 3, 5.675, 6.897, 6.89, 8.5, 5.675, 'apple', 'cpple', 'bpple', 'cpple'}\n",
        "s1"
      ]
    },
    {
      "cell_type": "markdown",
      "id": "4318b082",
      "metadata": {
        "id": "4318b082"
      },
      "source": [
        "# **Теоретический материал – Операции над множествами** #\n",
        "\n",
        "Основные операции над множествами:\n",
        "1) Объединение;\n",
        "2) Пересечение;\n",
        "3) Разность;\n",
        "4) Симметричная разность."
      ]
    },
    {
      "cell_type": "markdown",
      "id": "116adb55",
      "metadata": {
        "id": "116adb55"
      },
      "source": [
        "**Пример 25.**\n",
        "\n",
        "**Задача:**\n",
        "\n",
        "Задайте два множества. Реализуйте операцию объединения."
      ]
    },
    {
      "cell_type": "code",
      "execution_count": null,
      "id": "8aec80cb",
      "metadata": {
        "id": "8aec80cb",
        "colab": {
          "base_uri": "https://localhost:8080/"
        },
        "outputId": "ff38f886-1d16-42c8-cd55-b1afa92a13a0"
      },
      "outputs": [
        {
          "output_type": "stream",
          "name": "stdout",
          "text": [
            "{1, 2, 3, 4, 5, 7, 8, 10, 'apple'}\n",
            "{1, 2, 3, 4, 5, 7, 8, 10, 'apple'}\n"
          ]
        }
      ],
      "source": [
        "A = {1, 2, 3, 7, 8}\n",
        "B = {2, 3, 4, 5, 10, 'apple'}\n",
        "C = A | B\n",
        "print(C)\n",
        "print(A.union(B))"
      ]
    },
    {
      "cell_type": "markdown",
      "source": [
        "**Пример 26.**\n",
        "\n",
        "**Задача:**\n",
        "\n",
        "Пересечение множеств."
      ],
      "metadata": {
        "id": "Ea5cIupQvvNr"
      },
      "id": "Ea5cIupQvvNr"
    },
    {
      "cell_type": "code",
      "source": [
        "C = A & B\n",
        "print(C)\n",
        "print(A.intersection(B))"
      ],
      "metadata": {
        "colab": {
          "base_uri": "https://localhost:8080/"
        },
        "id": "g5HOljqXvzAe",
        "outputId": "286785a1-dc9d-470e-c4a3-7e10b3ec2180"
      },
      "id": "g5HOljqXvzAe",
      "execution_count": null,
      "outputs": [
        {
          "output_type": "stream",
          "name": "stdout",
          "text": [
            "{2, 3}\n",
            "{2, 3}\n"
          ]
        }
      ]
    },
    {
      "cell_type": "markdown",
      "source": [
        "**Пример 27.**\n",
        "\n",
        "**Задача:**\n",
        "\n",
        "Разность множеств."
      ],
      "metadata": {
        "id": "8w8eI2ftwFrK"
      },
      "id": "8w8eI2ftwFrK"
    },
    {
      "cell_type": "code",
      "source": [
        "C = A - B\n",
        "print(C)\n",
        "print(A.difference(B))"
      ],
      "metadata": {
        "colab": {
          "base_uri": "https://localhost:8080/"
        },
        "id": "PxFrh479wJX2",
        "outputId": "2ed7b13b-702a-443f-9d74-988741df3282"
      },
      "id": "PxFrh479wJX2",
      "execution_count": null,
      "outputs": [
        {
          "output_type": "stream",
          "name": "stdout",
          "text": [
            "{8, 1, 7}\n",
            "{8, 1, 7}\n"
          ]
        }
      ]
    },
    {
      "cell_type": "markdown",
      "source": [
        "**Пример 28.**\n",
        "\n",
        "**Задача:**\n",
        "\n",
        "Симметричная разность множеств."
      ],
      "metadata": {
        "id": "gpoH2kf0wRU_"
      },
      "id": "gpoH2kf0wRU_"
    },
    {
      "cell_type": "code",
      "source": [
        "C = A ^ B\n",
        "print(C)\n",
        "print(A.symmetric_difference(B))"
      ],
      "metadata": {
        "colab": {
          "base_uri": "https://localhost:8080/"
        },
        "id": "hixNiCYwwe6r",
        "outputId": "58b1a6a0-3b46-4b0a-d925-839f15f41288"
      },
      "id": "hixNiCYwwe6r",
      "execution_count": null,
      "outputs": [
        {
          "output_type": "stream",
          "name": "stdout",
          "text": [
            "{1, 4, 5, 7, 8, 10, 'apple'}\n",
            "{1, 4, 5, 7, 8, 10, 'apple'}\n"
          ]
        }
      ]
    },
    {
      "cell_type": "markdown",
      "source": [
        "**Задание 10.**\n",
        "\n",
        "**Задача:**\n",
        "\n",
        "По аналогии с примерами, приведите свои варианты операций над множествами. Не забывайте заголовки и комментарии – это хороший тон в программировании.\n"
      ],
      "metadata": {
        "id": "4oU-tH0ZwmLK"
      },
      "id": "4oU-tH0ZwmLK"
    },
    {
      "cell_type": "code",
      "source": [
        "A = {1,2,3,4.5}\n",
        "B = {1}\n",
        "C = A | B # объединяем A и B\n",
        "print(C)\n",
        "D = A & C # пересекаем А с полученным результатом\n",
        "print(D)\n",
        "E = A ^ D # находим симметрическую разность одинаковых множеств\n",
        "print(E)"
      ],
      "metadata": {
        "colab": {
          "base_uri": "https://localhost:8080/"
        },
        "id": "cgwh7emRwlGo",
        "outputId": "834c17dc-934c-4b7a-fc67-56241d8f3c8f"
      },
      "id": "cgwh7emRwlGo",
      "execution_count": null,
      "outputs": [
        {
          "output_type": "stream",
          "name": "stdout",
          "text": [
            "{1, 2, 3, 4.5}\n",
            "{1, 2, 3, 4.5}\n",
            "set()\n"
          ]
        }
      ]
    },
    {
      "cell_type": "markdown",
      "source": [
        "# **Теоретический материал – Тип set - модификация множеств** #\n",
        "\n",
        "Еще немного про множества.\n",
        "\n",
        "Можно добавлять элементы в множество с помощью метода .add()\n",
        "\n",
        "Можно удалить элементы по значению .discard(8)\n",
        "\n",
        "Посмотреть другие методы.\n",
        "При вызове метода какого-то класса (или функции какого-то модуля)\n",
        "можно написать его имя и через точку нажать tab:\n",
        "\n",
        "<имя_объекта_класса(модуля).[tab]\n",
        "\n",
        "Тогда всплывёт меню, в котором можно выбрать из всех\n",
        "существующих в этом классе методов (функций модуля)."
      ],
      "metadata": {
        "id": "AIST5-xfxgaR"
      },
      "id": "AIST5-xfxgaR"
    },
    {
      "cell_type": "markdown",
      "source": [
        "**Пример 29.**\n",
        "\n",
        "**Задача:**\n",
        "\n",
        "Задайте множество A = {1, 2, 3, 7, 8}. Добавьте в множество переменные\n",
        "типов int, float, str, none. Напечатайте множество А."
      ],
      "metadata": {
        "id": "Za0QxI5Rx_iS"
      },
      "id": "Za0QxI5Rx_iS"
    },
    {
      "cell_type": "code",
      "source": [
        "A = {1, 2, 3, 7, 8}\n",
        "A.add(1)\n",
        "A.add('a')\n",
        "A.add(None)\n",
        "A.add(3.7)\n",
        "A"
      ],
      "metadata": {
        "colab": {
          "base_uri": "https://localhost:8080/"
        },
        "id": "7gn89Th6x7Yz",
        "outputId": "b1121b9b-8da9-4eaa-8f17-7bcd0c5ffa67"
      },
      "id": "7gn89Th6x7Yz",
      "execution_count": null,
      "outputs": [
        {
          "output_type": "execute_result",
          "data": {
            "text/plain": [
              "{1, 2, 3, 3.7, 7, 8, None, 'a'}"
            ]
          },
          "metadata": {},
          "execution_count": 17
        }
      ]
    },
    {
      "cell_type": "markdown",
      "source": [
        "**Пример 30.**\n",
        "\n",
        "**Задача:**\n",
        "\n",
        "Внимание! Можно удалить элемент по значению, но не по индексу\n",
        "(отличие от массива нельзя обращаться к элементам по индексу)."
      ],
      "metadata": {
        "id": "YgY1DdgaydMb"
      },
      "id": "YgY1DdgaydMb"
    },
    {
      "cell_type": "code",
      "source": [
        "A.discard(8)\n",
        "A"
      ],
      "metadata": {
        "colab": {
          "base_uri": "https://localhost:8080/"
        },
        "id": "Ev9ujfH4yioK",
        "outputId": "2f5b2d50-cc7a-4622-b6ea-dbb0516f9e75"
      },
      "id": "Ev9ujfH4yioK",
      "execution_count": null,
      "outputs": [
        {
          "output_type": "execute_result",
          "data": {
            "text/plain": [
              "{1, 2, 3, 3.7, 7, None, 'a'}"
            ]
          },
          "metadata": {},
          "execution_count": 18
        }
      ]
    },
    {
      "cell_type": "markdown",
      "source": [
        "**Пример 31.**\n",
        "\n",
        "**Задача:**\n",
        "\n",
        "Можно и другими методами изменять множество.\n",
        "При вызове метода какого-то класса (или функции какого-то модуля) можно написать его имя и через точку нажать [tab]: <имя_объекта_класса(модуля).[tab]\n",
        "Тогда всплывёт меню, в котором можно выбрать из всех существующих в этом классе методов (функций модуля)."
      ],
      "metadata": {
        "id": "DrusRT23ynbD"
      },
      "id": "DrusRT23ynbD"
    },
    {
      "cell_type": "code",
      "source": [
        "A.update(['БФБО'], [5])\n",
        "print(A)\n",
        "print('БФБО' in A)"
      ],
      "metadata": {
        "colab": {
          "base_uri": "https://localhost:8080/"
        },
        "id": "lJWFwDTgytoG",
        "outputId": "3767899d-62ec-444c-a53e-74ab55298242"
      },
      "id": "lJWFwDTgytoG",
      "execution_count": null,
      "outputs": [
        {
          "output_type": "stream",
          "name": "stdout",
          "text": [
            "{1, 2, 3, 3.7, 'БФБО', 5, 7, 'a', None}\n",
            "True\n"
          ]
        }
      ]
    },
    {
      "cell_type": "markdown",
      "source": [
        "**Задание 11.**\n",
        "\n",
        "**Задача:**\n",
        "\n",
        "Задайте два множества\n",
        "\n",
        "Set1 = {1, 4, 5, 3, 5},\n",
        "\n",
        "Set2 = {4,5}.\n",
        "\n",
        "Примените к множеству Set2 метод .issubset(). В комментарии напишите, что определяет данный метод.\n"
      ],
      "metadata": {
        "id": "TQ2BxEgyzV90"
      },
      "id": "TQ2BxEgyzV90"
    },
    {
      "cell_type": "code",
      "source": [
        "Set1 = {1, 4, 5, 3, 5}\n",
        "Set2 = {4,5}\n",
        "print(Set2.issubset(Set1)) #Проверка является ли set2\n",
        "                            #подмножеством мн-ва set1"
      ],
      "metadata": {
        "colab": {
          "base_uri": "https://localhost:8080/"
        },
        "id": "NCS8KwWuzZtj",
        "outputId": "724a2da2-e842-42a2-dca7-1e5ac619f3a4"
      },
      "id": "NCS8KwWuzZtj",
      "execution_count": null,
      "outputs": [
        {
          "output_type": "stream",
          "name": "stdout",
          "text": [
            "True\n"
          ]
        }
      ]
    },
    {
      "cell_type": "markdown",
      "source": [
        "# **Теоретический материал – визуализация множеств** #\n",
        "\n",
        "Комментарии в программах, описание разделов и методов - является важным аспектом любой программы.\n",
        "\n",
        "Инструментарий Jupyter очень обширен.\n",
        "\n",
        "Можно создавать заголовки, описание, код, визуализацию расчетов и комментарии к решаемым задачам - совокупность инструментов оценена аналитиками и учеными по данным, что определяет лидерство данных информационных технологий.\n",
        "\n",
        "Построим диаграммы Эйлера-Венна используя matplotlib_venn.\n",
        "\n",
        "from matplotlib_venn import venn2, venn2_unweighted, venn2_circles, venn3, venn3_circles\n",
        "\n",
        "from matplotlib import pyplot as plt"
      ],
      "metadata": {
        "id": "WtvQwP0j0HDN"
      },
      "id": "WtvQwP0j0HDN"
    },
    {
      "cell_type": "markdown",
      "source": [
        "**Пример 32.**\n",
        "\n",
        "**Задача:**\n",
        "\n",
        "Нарисовать два множества."
      ],
      "metadata": {
        "id": "nMHKLGnQ03ql"
      },
      "id": "nMHKLGnQ03ql"
    },
    {
      "cell_type": "code",
      "source": [
        "from matplotlib_venn import venn2, venn2_unweighted, venn2_circles, venn3, venn3_circles\n",
        "from matplotlib import pyplot as plt\n",
        "\n",
        "venn2_unweighted(subsets = (40,20,15), set_labels = ('Set A', 'set B'),\n",
        "                 set_colors = (\"orange\",\n",
        "                               \"blue\"), alpha = 0.7)\n",
        "plt.show()"
      ],
      "metadata": {
        "colab": {
          "base_uri": "https://localhost:8080/"
        },
        "id": "F3fGYLF_01Pa",
        "outputId": "b6cdd924-b013-4399-a1e7-ffc2628d0762"
      },
      "id": "F3fGYLF_01Pa",
      "execution_count": 1,
      "outputs": [
        {
          "output_type": "display_data",
          "data": {
            "text/plain": [
              "<Figure size 640x480 with 1 Axes>"
            ],
            "image/png": "[encoded data removed]"
          },
          "metadata": {}
        }
      ]
    },
    {
      "cell_type": "code",
      "source": [
        "venn2(subsets = (40,20,15),\n",
        "                 set_labels = ('Set A',\n",
        "                               'set B'),\n",
        "                 set_colors = (\"orange\",\n",
        "                               \"blue\"), alpha = 0.7)\n",
        "venn2_circles(subsets = (40,20,15))\n",
        "plt.show()"
      ],
      "metadata": {
        "colab": {
          "base_uri": "https://localhost:8080/",
          "height": 406
        },
        "id": "oN6SmiCl2FZx",
        "outputId": "9a1e25f7-2f25-4449-859e-a07496c0e787"
      },
      "id": "oN6SmiCl2FZx",
      "execution_count": null,
      "outputs": [
        {
          "output_type": "display_data",
          "data": {
            "text/plain": [
              "<Figure size 640x480 with 1 Axes>"
            ],
            "image/png": "[encoded data removed]"
          },
          "metadata": {}
        }
      ]
    },
    {
      "cell_type": "markdown",
      "source": [
        "**Пример 33.**\n",
        "\n",
        "**Задача:**\n",
        "\n",
        "Можно задать множества перечислением элементов."
      ],
      "metadata": {
        "id": "2Yx_w-xH54yE"
      },
      "id": "2Yx_w-xH54yE"
    },
    {
      "cell_type": "code",
      "source": [
        "venn2(subsets = ([set([1,2,3,4,5]), set([2,5,4,6,7,9,15])]),\n",
        "                 set_labels = ('Set A',\n",
        "                               'set B'),\n",
        "                 set_colors = (\"orange\",\n",
        "                               \"blue\"), alpha = 0.7)\n",
        "\n",
        "plt.show()"
      ],
      "metadata": {
        "colab": {
          "base_uri": "https://localhost:8080/",
          "height": 407
        },
        "id": "3RKYr7vh54NE",
        "outputId": "80ef4473-02da-437c-d8ce-02d2c8bcf6a2"
      },
      "id": "3RKYr7vh54NE",
      "execution_count": null,
      "outputs": [
        {
          "output_type": "display_data",
          "data": {
            "text/plain": [
              "<Figure size 640x480 with 1 Axes>"
            ],
            "image/png": "[encoded data removed]"
          },
          "metadata": {}
        }
      ]
    },
    {
      "cell_type": "markdown",
      "source": [
        "**Пример 34.**\n",
        "\n",
        "**Задача:**\n",
        "\n",
        "Обратите внимание на параметры функции визуализации – задание множеств.\n",
        "\n",
        "Зададим два множества. Определим количество элементов в множестве A- B, B-A, A&B. Построим диаграмму."
      ],
      "metadata": {
        "id": "gv-eyiQ65QnG"
      },
      "id": "gv-eyiQ65QnG"
    },
    {
      "cell_type": "code",
      "source": [
        "A = {1, 2, 3, 6, 7, 8}\n",
        "B= {2, 3, 4, 5, 10}\n",
        "AN = len(A-B)\n",
        "BM = len(B-A)\n",
        "CI = len(A&B)\n",
        "print(AN, BM, CI)"
      ],
      "metadata": {
        "colab": {
          "base_uri": "https://localhost:8080/"
        },
        "id": "RCBS2i0w4z77",
        "outputId": "52183d82-7b1e-4c9b-c87b-3dcad0ab8081"
      },
      "id": "RCBS2i0w4z77",
      "execution_count": null,
      "outputs": [
        {
          "output_type": "stream",
          "name": "stdout",
          "text": [
            "4 3 2\n"
          ]
        }
      ]
    },
    {
      "cell_type": "code",
      "source": [
        "venn2(subsets = (AN,BM,CI),\n",
        "                 set_labels = ('Set A',\n",
        "                               'set B'),\n",
        "                 set_colors = (\"orange\",\n",
        "                               \"blue\"), alpha = 0.2)\n",
        "venn2_circles(subsets = (AN,BM,CI))\n",
        "plt.show()"
      ],
      "metadata": {
        "colab": {
          "base_uri": "https://localhost:8080/",
          "height": 397
        },
        "id": "m9a15Y5n5kfa",
        "outputId": "14eb5711-ee85-4399-a330-f1f2af323efc"
      },
      "id": "m9a15Y5n5kfa",
      "execution_count": null,
      "outputs": [
        {
          "output_type": "display_data",
          "data": {
            "text/plain": [
              "<Figure size 640x480 with 1 Axes>"
            ],
            "image/png": "[encoded data removed]"
          },
          "metadata": {}
        }
      ]
    },
    {
      "cell_type": "markdown",
      "source": [
        "**Пример 35.**\n",
        "\n",
        "**Задача:**\n",
        "\n",
        "Задать три множества. Построить диаграмму."
      ],
      "metadata": {
        "id": "o2ems3C56ZL1"
      },
      "id": "o2ems3C56ZL1"
    },
    {
      "cell_type": "code",
      "source": [
        "set_1 = {1, 2, 3, 4, 5, 6, 7, 8, 9}\n",
        "set_2 = {10, 11, 12 , 3, 4, 5, 13, 14}\n",
        "set_3 = {15, 16, 17, 18, 4, 5, 13, 9}\n",
        "venn3([set_1, set_2, set_3],\n",
        "      set_colors = ['steelblue', 'orange', 'green'],\n",
        "      alpha = 0.4)\n",
        "venn3_circles(subsets = (set_1, set_2, set_3))\n",
        "plt.show()"
      ],
      "metadata": {
        "colab": {
          "base_uri": "https://localhost:8080/",
          "height": 407
        },
        "id": "RaJDOBaZ6Y1x",
        "outputId": "b10304cc-d06c-4971-9043-c5e4019e08bd"
      },
      "id": "RaJDOBaZ6Y1x",
      "execution_count": null,
      "outputs": [
        {
          "output_type": "display_data",
          "data": {
            "text/plain": [
              "<Figure size 640x480 with 1 Axes>"
            ],
            "image/png": "[encoded data removed]"
          },
          "metadata": {}
        }
      ]
    },
    {
      "cell_type": "markdown",
      "source": [
        "**Задание 12.**\n",
        "\n",
        "**Задача:**\n",
        "\n",
        "Задайте два множества. Постройте диаграммы Венна для двух множеств."
      ],
      "metadata": {
        "id": "udougn2D7Q8B"
      },
      "id": "udougn2D7Q8B"
    },
    {
      "cell_type": "code",
      "source": [
        "A = {5, 5, 1, 2, 3, 4}\n",
        "B = {2.5, 4, 3, 20, 100}\n",
        "venn2(subsets = (len(A-B),len(B-A),len(A&B)),\n",
        "                 set_labels = ('Set A',\n",
        "                               'set B'),\n",
        "                 set_colors = (\"orange\",\n",
        "                               \"blue\"), alpha = 0.2)\n",
        "venn2_circles(subsets = (len(A-B),len(B-A),len(A&B)))\n",
        "plt.show()"
      ],
      "metadata": {
        "colab": {
          "base_uri": "https://localhost:8080/",
          "height": 390
        },
        "id": "QXAxvgq_7TpN",
        "outputId": "5a977f18-3b06-4fd3-d781-06852a41c793"
      },
      "id": "QXAxvgq_7TpN",
      "execution_count": null,
      "outputs": [
        {
          "output_type": "display_data",
          "data": {
            "text/plain": [
              "<Figure size 640x480 with 1 Axes>"
            ],
            "image/png": "[encoded data removed]"
          },
          "metadata": {}
        }
      ]
    },
    {
      "cell_type": "markdown",
      "source": [
        "**Задание 13.**\n",
        "\n",
        "**Задача:**\n",
        "\n",
        "Задайте три множества. Постройте диаграммы Венна для трех множеств."
      ],
      "metadata": {
        "id": "doiy-oJx8C7D"
      },
      "id": "doiy-oJx8C7D"
    },
    {
      "cell_type": "code",
      "source": [
        "set_1 = {5, 6, 7, 9, 101}\n",
        "set_2 = {5, 7 , 18, 5, 4, 10}\n",
        "set_3 = {5, 11, 8, 5.5}\n",
        "venn3([set_1, set_2, set_3],\n",
        "      set_colors = ['steelblue', 'orange', 'green'],\n",
        "      alpha = 0.4)\n",
        "venn3_circles(subsets = (set_1, set_2, set_3))\n",
        "plt.show()"
      ],
      "metadata": {
        "colab": {
          "base_uri": "https://localhost:8080/",
          "height": 406
        },
        "id": "OspY9HoP8GsV",
        "outputId": "e63e0b68-043b-4bc2-d16a-88856f97dce0"
      },
      "id": "OspY9HoP8GsV",
      "execution_count": null,
      "outputs": [
        {
          "output_type": "display_data",
          "data": {
            "text/plain": [
              "<Figure size 640x480 with 1 Axes>"
            ],
            "image/png": "[encoded data removed]"
          },
          "metadata": {}
        }
      ]
    },
    {
      "cell_type": "markdown",
      "source": [
        "##**Задание 15.**\n",
        "\n",
        "Все задачи без использования IF и циклов.\n",
        "\n",
        "В Python можно разными способами реализовывать задачи. Очень\n",
        "много зависит от умения продумывать алгоритмы и находить уникальные решения\n",
        "\n",
        "**Задача 15.1:**\n",
        "\n",
        "Сумма первых n положительных целых чисел. n - вводится с клавиатуры. Код три строки."
      ],
      "metadata": {
        "id": "Npjm0Dc8-Q0p"
      },
      "id": "Npjm0Dc8-Q0p"
    },
    {
      "cell_type": "code",
      "source": [
        "n = int(input('Введите число n: '))\n",
        "print(int((1+n)*n/2))"
      ],
      "metadata": {
        "colab": {
          "base_uri": "https://localhost:8080/"
        },
        "id": "pg3jCPX7-e7c",
        "outputId": "0b65b9f2-8744-48be-a314-aba1e8f02bb9"
      },
      "id": "pg3jCPX7-e7c",
      "execution_count": null,
      "outputs": [
        {
          "output_type": "stream",
          "name": "stdout",
          "text": [
            "Введите число n: 5\n",
            "15\n"
          ]
        }
      ]
    },
    {
      "cell_type": "markdown",
      "source": [
        "**Задача 15.2:**\n",
        "\n",
        "Сортировка трех чисел по возрастанию.\n",
        "\n",
        "Без If и циклов.\n",
        "\n",
        "Например, используя min() и max()."
      ],
      "metadata": {
        "id": "qJKsetg2_Bk8"
      },
      "id": "qJKsetg2_Bk8"
    },
    {
      "cell_type": "code",
      "source": [
        "n1 = int(input('Введите первое число: '))\n",
        "n2 = int(input('Введите второе число: '))\n",
        "n3 = int(input('Введите третье число: '))\n",
        "print(min(n1, min(n2,n3)), min(n1, max(n2, n3)), max(n1, max(n2, n3)))"
      ],
      "metadata": {
        "colab": {
          "base_uri": "https://localhost:8080/"
        },
        "id": "67wjBjxj_GBO",
        "outputId": "6e9e8ef0-d71b-48a0-c390-7763b5568963"
      },
      "id": "67wjBjxj_GBO",
      "execution_count": null,
      "outputs": [
        {
          "output_type": "stream",
          "name": "stdout",
          "text": [
            "Введите первое число: 100\n",
            "Введите второе число: 5\n",
            "Введите третье число: 70\n",
            "5 70 100\n"
          ]
        }
      ]
    },
    {
      "cell_type": "markdown",
      "source": [
        "![scale_1200.png](data:image/png;base64,iVBORw0KGgoAAAANSUhEUgAAAzMAAAFbCAIAAABu8Uf/AAAAAW9yTlQBz6J3mgAAgABJREFUeNrs3XecZFd1IP5zzr33hYqduydnjbJGEsoSkgARJIKIBowBg9f2GhsbcAC8Dru2Ye3frtfGaxt7MTY2BgyYLHKQBJKQUI6jyblzd8WXbji/P2o0CIFmRtLM9Mzofj8gtapfVd13T/V7p25EeN0keJ7neZ7neccBWugCeJ7neZ7nefv5zMzzPM/zPO944TMzz/M8z/O844XPzDzP8zzP844XPjPzPM/zPM87XvjMzPM8z/M873jhMzPP8zzP87zjhc/MPM/zPM/zjhc+M/M8z/M8zzte+MzM8zzP8zzveOEzM8/zPM/zvOOFXOgCeCeAr//y656/7uYj9Wqv+PDHv7fpcgZkRAfokHo/M+BCn6jneZ7nLTCfmXnHWl23Bot5g8KgLEhpUgaFBcHoMzPP8zzv2c5nZt6hIfARfLXhbHZJOp5TkIq4K0tdUcpE2Gsz881mnud53rOcz8y8Y215uneu3d+VpaaqzYQDqJgRLArrszLP8zzvWc9nZt6xtqa9zTapEfRNhsOCrUVRkMopNOw7ND3P8xYQAjAAAyD0ejAYABGQez/3fr3/H/sP8448n5l5h4ZHsjMTlqXj3BFT4ZB0JpFxS1VbsirYLvRZep7nPcv1vh0jM+xP0RAB+LFMjH/yy7NPy44Wn5l5h+NIpmYj+YxNhWCbiqim25HNFWtit9Dn6Hme9yzHwI+1j+1vNnustQzR92kcMz4z8461um4VeZBRWA07sc0CVwi2CNybZ/Cas7+8anDna87+0nlL73/CE79w37X37D7r3j1nfXfTFU+24saqwZ2b3nvRIQrw7u292QZvveST5y574G0X/3vv8UZa/8vv/trn7712x+zyQ67ocQzK2XPlX37pnj1nM6BDcoi9Hx5978WrBnce8rn/ctsb3vmZDz69BUoOv4SH4zc/84F/vu2NT1YSH3Qf9JOvMk9Qj30Lp8f+CwEePwus9++T9vSPEz4z84610OaxzSKXh7ZQTgu2xIzAv3313/7pdR84yBOvP+er15/zVQBoJrUPfOldH7vt9b2lNwxJi+SADucrXTOpDebzZ6zY+IE3/OlZyx5+/K/64ub/uO6D/+O6D773U3/w8VteZ0hqlPsX9UBx4HL8O1f/3w9c+6dHu5wHXLfmW7u2LXv8IiOVUudwbioAENl8sJi3SAalJllQYFBaoN4N5uiF+KdVTLdXEo3qsZIIC+J3nvd//+zaPzvalemD/iwM+klWmccKPu6fT3jc52THjs/MvCMAPwH4/se+Sm5/yiPGTl/+6A2/8voVg7sP8/h6qfXnr//vrzrnK+/8yAen8uGMwlwEBQUW6JC9okm39MqVN/zxO/68Wuo82TH/8/V/slSN/+M335KKqPe/ggJNcsOyBz/5pl8+zGv6MyznAcvUvqXJvlwEqYi7otSVpXUD2w7zuRXTXZbsLSjIRNh7biqinAKHx3rzj4FivncWGUUdWU5kvH7F5n95y6+vGtx1DCrTB/1ZGPSTrDKPEURgBnDw4xQMef+cAPBp2TFzkn68vGOOEXuzLJ/qEzec8eCn3/+2w0/LDrjotLs+/hu/uiQdH8ln+opWxXQDp8Whrtf1uPknv/bBg9yhe3791R+5pHzn0nTfcD5b1+3YZi9a+70f/uaLDv8O/QzLecC5Sx9Y19m2qrtrabJvqJitms4p/Yd7X+nTzVPa21Z3dy5N9g3ns1XTiWwu2fbG9x7ckV3Ebiyb7p3FknR8qJh90drv3fTulx/+HfoZVqYP+rMw6AtemSckZgBAAEEoCIVAIVAK6v0noU/NjhEBZ/zOQpfBO979wvmfPvj1FB8A912hSaUijn4jO/ir8ecp3VdqqepsMKBXqt/6ww8HgX56BRvsm692OjsfWd4bqcZItVLnV5/7Lwd5igqMOry3UxNm6sERyRYRlgyPf+odvxSp/JiV84Bqqb37X5fVdTvkgoE0ycvP+eHlp95+OM9NHil1bi7XTDt0GoELCgoKCqEsiUN+6e8vNX7j8o88vfP9aY3v97kHRc10AqdHRmf/6j3vD1VxzCrTB/1ZGPQFr8wTFAIQISIi7k/UAHspu8/Ljh3fm+kdAYxokXIRdGS5D+YP/4lXvvqWSrn7TN76Za/4+gNfO31bd2VkRwW72KZH6qTWDOw4pb2lYrqK9Zte8Om+UmtByhlWi3NrD+yeWRy63KDsytKGpQ8e5nP7dPOU9tbZYCC0uUbZVLWWqkhXPvaDZMayqXWdbTPhgHTm8pf8sFZqL0hlHpIP+hF0nAT95KjMowafMPW+N4SP+bGkbH935mNrm52kbYXHG5+ZeUeGIZmKuBHUl8Kew3/WWZc9/GS/0m314JvOoF12xe/v7ntN48kOiyr5letuFT9ygSsQWGpzyDedes/IzLcHa29vLX3n3oMcNjI6s7azI3CaAV9w/k3HvpwHrF61g3ehA2rL6nQ4uHzocGu4YrpL0/HQFZrkfNBfsmng9IIsHTdQNJam+ySbjMILL7772FemD/rhv/WRsuBBP5kq86g5RKrF/OOVZ71jxmdm3pFhUeQUdGT58J8ysH4+rjxp12fxkBraMquccZ8keM3BXmfl0O69nUUAoElpfeiPdOlL2YiYKW5Q8M6DHVZe3F2a7GOAvvXNgzTsHb1yHtA/1hjOZ7uy1KcbFdM9bcWmw3xiZPPBfM6gmFf1kk1Cl0tnCNwRucjybsyvjntLUQR/msvXH6y7sGK6A0UjpxDOgrjypK0dPugH+KCf9JV53OLHr5DxuCX/nzAOEX0L2lHjMzPviEAHpEmlIjr85/Svbxzkt3Kn7S+aAGAeEAd/ncHR2WXpPk0qEXFTVw/xrrugZFNid8hOV2I3nM9mIhxdOb0A5Xyc+PSsYrpV06nqzuHfVABAsi3ZNLJ56ArltHSW4Iit6IvMsc0ckCFxyEt04IqSSSObj6xdiMr0QT9CTqSgH/eVeQLgH8f4QJYGj3/EOzp8ZuYdGQ7RIj2luZlh9WDDgRUbcpBRlB0q2ysvTofz2a4ozQd11Id1uXBIun2IDz8yl21S0x0qHazf5KiWs4eWOcU6cDpy+aLhycN/4tHGgIZERpGkQsJh9S6p6sFaWXzQD/BB/2knX2Ueh/hJfvaOpZNzdom3IByQwSOW6xM7BsxF0FKVQx1pa7rdp5v9RbOqO4d8ZQdoUBzyNoAAyunQ5QEf7L5y9Mr545Kc6aSzgSsim4+NTB2pGn7mHFJBQVeWCgoO91wOUUU+6I+VxAf9Zxx5slXm8YgBGE7WVUFOFD4z8xbQIf76e2PX2vJQ1+u6i2xeNknVdEqHMWOLEXsdIoc8ULCTbA+5ctKRL2fziQ9Ep2eB06ErhkcO1jF0jFmknIK2LKciPHKv6YO+nw/6E5x8lXmc6q2PcdJMPz0B+czMWzB4qK9lFoUmVfQfoocUa7C/q8LmoT306lMOSJM8nCFxCEzs8DBu0ke2nPjAEx+Ry4xyOrT5krXjT/hV95HSIU/kKOkNLnxKzSeH5IN+gA/6E6vopKvM48qP87DHFvz3DWcLxWdm3gI6xB++Q9QoF7114pAvROwkG+W04kMvKOqQDnO7AmQ+sNX6MS3nT99XzjCSbeiKvrGfWGGru6/sWocYN330MKJGmYlI4+GOL1yAytz/sj7oR8aJEfQTpDKPK/y4f/7kT96x5mcAeAvm0X9f97UvvGA2HACAwXxuZbJ7ZXf34nSirtuBKwxJeCOs+C+7gqWHXDeciVmwFWylO6ylhhyQocP98O/92OLbP/2cffFoQUFNtxdnk4vTiaNbzt1PnJBOy5x0prqoHVZ/oqmgubFWKz+jBTyfCQZ0SBqlpcO9t23++Jpvfv7qmXCQEQfyueXJ3hXJHh90AB/0Z2NlHlfwcT/5cWYLy2dm3kLq7bbpkHIRtmWlqWqRzWE51F7Yqr37KSy/jvsv2e5wFoFkeGzz9adSTodkSGYi7MjSUS/nLoAmQP3HD9CZlsD1rX/i8JnOxnL9vMMqwO997a8Ps5Cv+PDHv7fp8tAeeiOd3k3aonBPpfV9f2WiSEXckWUf9P180I/vyjzpHUjG/PCyBeczM2/B8GOroBWkSNUCV5xx3cbFz903dMHsU32pXvfT4XRCPf7dD//1HZBGlYrYoESAtS/bflTLyYD8IOBlPz6GljlZNaUlT7wb6T0KzzvCX2/rujVYzNf10bpdOUBNMqMQgWfcwGkv3eSDDj7oJ1FlntAOjP33lbKAfGbmLSRL+3cOeN6rbr7u5d8sVZ7mBogHxgbhUWiFZ+jtChq2ZfkFr7zpmlfeGB/lcjKge5DEZT+xWJQ6Q9OSJw5Lt7uP/BCZ4Wx2STo+nM8d8VeGx1pJMwrbqnLlq2+59hXf8kE/8I4+6Id0QlTmyQB722V6C8NnZt6CYUSD8qzLHn7LL3/yGe1rvnz/v3tX7aNSTpLrnrv1+nfcUC4nx6KciG63EPDE+4pc8hOP6LbUD6kjfsrL071z7f5q9SmsF3X4GMCQPPPyjT//K5/2Qf8JPuiHLuVjVXV8V+aJzu+SueD83ExvwTDguS+5/x3v+sjBNihsB7f+1kWH82qHOaXu6Vn3sq0//7ufOcgd+siWkwH0Q0/81oR1jk7/iW1G8z1h4PQRP+M17W1nNR9e09lxhF93/6nhhpc8+Cvv/mcf9J+qGR/0k6QyT2wI6POyhebbzLwFw4AvfMt3D3JA0VZ3vXODe/DQ3x96l+mj17F10S/ddSzLyQDmp+4rpRclovYTo2SSH5YCd+gh20/VsnScOyJPjthqVU/wvF+8+SC/9UF/PB/0JzghKvMk4Ts0F47PzLwFM/qcqbiSHeSALR9YE9ynY3tYc9p7F+uj8WWv/8LGwbf4PBrldEDFQ0Fwxo/fVy594h6F1HDKHdbGhU/JSD5jU9EuKs/8pX7Giz9nOvJBfxI+6Ifzasd/ZZ7QEAARnM/IFpTPzLwFM7B+/iC/NS1BN/CAa9ChVmOHx8/YOoyDn6rKqQcbfHOUyumQ8ofDx99XfoYH8XAWWe350At/ZW+8KBVR2STLkz0rkj1Lk/HBYu6nd7lBgjjICndUmk9+etmCY1CZT4MP+hG0IEE/4pX5bNBLy5h9frbAfGbmLZiDf+u1D8mRfAYA8qeyCcyxHyBxlMrJgMWeQ7wg3c+C7eGfc28lKkOyoCCnIBVRIuKfXkiioCAV0VM6nSPFB90H/TAtSGU+S+CBQXx+8YwF4jMz7zgld9qSTQtSHSofzvFHbzD4wV/zKJXTIeWPHGz3G7ebVMMUMjjMNbp6K+BnFFkUc0F/b3hNV5Yi+8RupoKCtqrkwVG5SR+8rD7oPujHbWU+KyAQAoMfYbbAfGbmLaCD/e0Ldo6txlJXHnq/4d5w4KMxEvyQjl45k4NvtPwA9pZBP8z7Sm+7w1REXSw5oIJUR5Yrphu4J/bmGBRdWRKlI99FuICVeaKU0wf9uK3MZw98bOEM32S2UHxm5i0YPMQfPffuJV1x6Ov10S3nIa5OR6WcDKhbKt0bxUt+9tBp2sUEjgH48Oa4O8Beu0gi4vmgPhMOVEw3srnkJ46AtihyCqqVo7K01YJU5olSTh/047kynw16w8vgsdFmPi9bKD4z8xbQQf/u62BR9Ia/HI33ltUjNCfrqJXTIbU21p7svgIP9NapF4fbsYWkSaYiaqiaISmdCV2hnKafioIDNCRH4pkjezoLW5k9PujPqqAf2cp8luhlZsxACNY3mi0Qn5l5x6tl0Bu57OpHdD3kx5YRV7VDzMnCXY/9sCDlBHCIzUdro8+f+tnF2/3Y++JhvS8DGpQZhR1Z7soSA0o2xEzgfvpIh4ThUerYOuiV3gfdB/14rcxnCerNzey1nB32s3pHsu8APUJ8ZuYtmEP82Z/FdKnlu2HxK8eP7PvKl2j8Lo88f/rgh3FrfwEPcaE5auVkwM6+JxkT3QT3AFlFGqU77CFHDkmTykTYkWWD8iDDqBmwqg5rcakjzAfdB/3IObKV+WxA6BiIyDH3Ws32P3zodKs3NoUPNUTFOzw+M/MWTHffIYaVlD7WXQtbj/j7Bn+Tr4Cdhz5uFzAiA2Z74wUpJwPOPdr/JGXD3i7RBQWH/42fAR2iJlVQUJA6+MG5OCrT9BIf9IPyQT+CjnhlnvQcsGPrmIF7w8wOfxoAAjAiH52Fn591/CfSWzCTd44sdBEOBh/Y38Uzd0f/M3+1p4ER2+OVvBP+jN89iA7QoNQk3Qn1Vzz9o6GFLsLB+KAfDQsV9JOyMo8q50ShURvUhrRB6wiA4DCSLWbgo7Ufx7OR/0R6C6Zoq533LDucI5NDNWA8BU3g3Ydx+WgC30IO0QFmnWjfXWPHupwAAOCQJjb/jPzV7UaLwpyA3/iLdrDr7qWHc6QP+hMf90F/6k6+yjz6kJkY6MeDx3AB1lJ5lvOfSG/BMOD3/vmKQx42/9E+vUcdxusdnia4X5Bu9yE++fTn4FrUW6izIHXrP114rMv5WBWNbxn96cfdg8Ki0KRyCtyJNuf/Bx+95JDH+KD/9OM+6E/DSVmZRxMDEIAAEL30AA+nxcw70nxm5i2kfVvG/v6P37Z765InO0D/Y1D8f9ER3ttuF2RvKeW3hU/2e3o/wCfQIhUUZBQmMt6+bcU//tFb9mxdfEzLCeCQ5iZ+Rreafkj17isFBQ7FkX3To4oRxzeP/L8/POaV6YO+cBYs6CdjZR5dDg5sTNpbh44ZgZ80T/BJ21HiZwB4C6Y3cezBB067571nv+jq764c3HX+z937419/mNxXyT0kAlmII71lNe/G5i/28XUQvTitX9Pa/2AL7YeluMG5XWCJMoq6stRS1YaqN4K+TQ+vvf1957/kqu+sHtxx3s/dd4zKCbhvy6InPGj2SN2WloRGmYvAnlDfrxjAonjogVPv+d2zXvD8G1cO7j52lemDvkAWMugnXWUeXcICc29RM8beUrPE+KRLBfuZmEcJwusmF7oM3vEudEV/0ViSTqztbD+78dDprU0rk90j2UzFdHvbmxiSLVmZjIa3lVdsLy+fiEcLCqq6s6q7c1V317Jk71AxVzJp79VyEcyrvr3x2JbKqk3VtXvjsUxEZZMsTfet6Wxf2d09lk3VdTtyGTJYpFyEqYhSEfVmloW2KNk0tllkc8W6t09LIuOZYGB3acnEKcNv/LfPHuxkdoG9SiWi1JGltqp0ZNkBKdaxzUomLdlUOQMAmmRbVqaioZ2lpVsqq7aXV0yHgw6pTzdXdnc/83Juqq7eXFkzF/Qh8HA+u6697ZTO1qXJ+EAxH9vsCVU0EY1oknXdWtndtb69dUWyp79oWBRT4dDWysrNldX74rFcBFXdXZHsXtfediA6jHggLg/X1z9QP21reeV4PNpQ9UNO00PgskmG89kVyZ5TW5vPaTz0+BICgEPqytJMMLCzvHRreeXO8rKOLIeuWJyOr+7sXN3dOZpN10xHOgMABQWNoDYejW4rr9hcXb0nXpzIuGTSxdnE6s4OH3Qf9JOvMk9ItL/ZDAmYLQACSmAC0E/+BIb9y+Ph49Y1854R32bmHRaHZFDkFCSy1FS1uaBPsM1ESOwAwKJoq8p80NdS1USWEhFrUtKZtqw0VbUc9ANALPavxN27XjeCeu8e2VsDMxWRYBvaXLAzJLtFo2RTwY4BcjpwvQ4YMXBFyaSxzSKXB67oXa9TEc0F/U1VPZyt9xySIZGLsCtKDVXXJAW70OZlmZRMqtj03rSpqhPRyJ548Xg8NhkNzwV9DqkgFTj9zMvZkeVURJmIiF0qoraqNFS9FKSMGNr8QBW1VLUrS11Z0iQRuBH0zQb9ZZNolBbFdDg4F/Q1g1pbVTRKZOjI8uOjw4A/joso5RQakg7oMC+cvVmKGmX2UyUEAEZMRDwX9DVVrXc6qYgcUleWW6o6H/RJtgUFvdxdk2qpynxQb6lqW1Z6oU9EjMCBLXzQfdBPyso88exPsZgZ9g92YgtgD/mEH398vCPBZ2beofX2MMlF2JWl+aBvKhoSbDMKSzY9kJl1ZWk2GJgOB3tXMYPSAZXDJHQ5AHRlKbI/zszaqjIVDs0GA42g1rvEEziDAgAMyY4sDxTzFdNVzjBiRmEqokTGBQUMGLq8bJKSTSObB67oFSATUe+emqjDuEkDaVSpiJqqNhUO9dZGV6zLJimbRLFhwEyE86o+GQ3vjRfviRdNRsMtWXFIGYUIjMzPsJxzwUDvnoHMks1c0F+Okt5toHdf6VXRXNDfULW2LBcUGJRxmJVNF4GbumaR5oL+yWhkJhhoqppB4ZDmgv5K1D0QHQY8EJeGqiUiLkjZwx5V09sPOxNRW5afUMLeb1MRz6v6ZDg8H/Q1VS0VUe7CUBWlMFHO5BSUVXLgJt2R5Zlw/yekoWptWUHgghQD+qD7oJ+Ulel5T4/PzLxDc4gGRUZhS1WnwiHpTCqiGT0QPna5dEipiFqqOh0OzQQDjaBmUPZ2wdMoO7JcMd3A7W8PNyi6stQI+ibD4d7BHVlmwFREmlQi47mgv79olE33wP0yFXHvmzQARDYr2yQ2aWyzwOneCIiCVEeW54J+Fx7G0juIhkRvj+fxeHQ+6MspIHaxzUo2Uc70CtNS1ZlwcDIangqHZoP+RMYOKBORRWFQPsNy9tpjeo09Fqn3pi1V6d2lfqKKwoFGUNeoMhEisGCbiSg2KSO2VG0yHJ6Khpqq5oAKCiTbXhNCLzoAcCAu0+FgS1UzigyJw94PmzSprizNBf3jUfL4EgIAA+YiaMvKXNA/FQ3NBv25CKUzjMiIuQhndX9ss94nxKBIRdwMalPhUO8+3ZYVh5iIuKDAB90H/aSsTM97enxm5h0aA/Yu1rPcj8xdWZrQIyWbqsculw5Jo0pk3JKVlqomIrYoAqe7sjQf1CumG9lc8v7NpC2KnIKuLDVVbTbobwT1VEQOKBFxRmFbVmaCgYrpxjaTbHpvnYkwp0A/Nvokcllk89AV0pleAQzK3v4zpSg9nNPprf3du8Tvi0dbstrb7/nAm/a6vZqq2lT7W/UKUoyonbRIBalnWM6GqjeCWkYhAiQizkTUCGoV0w1tIdk8vormgr7evjqKda+7ZzocDG3R61dqqPp8rwKROracU9CR5QPRYcQDcZkL+ntH9pozDyfuFimnoC3LMhx0SI8vYa8aDclURG1Zaalqr1lCsO3KUktWpsPBkkkV6wO5e++MWrI6G/Y3VD0VkUXRFaXeK/ig+6CffJXpeU+PnwHgHRqxk2xDl8c26/X+RC5XTkveP/6gN/eqoCATYe8rrwOUbCObxTYLXaGcpseGIDhAQzKnIBVxV5Z6HQQOidiFrohtFtu0dzkWbHtbMhekDEmLBADKmcAVyhnF+sBMLgfYW5ooFREjlk0ymk2v7ew4s/nIkw1h3l1asrmy6uH6+l2lpbNBf6+FL3B6/5uSyCjq9a1kFBYUGBIAQMzK6cjlz7CciYxTEWuUvTeN7f7xNNIZAn58FSUizkTokATb0BZlm8Q2lc4yYkEqFVFXlDSp3mbVJZuWTHogOo+PS1eUeuP5cgoMST6MCe+CrXImclnJpL076IES9g6wSL2miEyEvbaEA0Hs9UAJtgeGBBuUuQgyijqynMj9vUI+6D7oJ3Flet7T49vMvENjRAuUU9gbrNOVJemMYHdgd+TeqGGLZFAalBaJEYld70jJhphp/1jR/QcbFL0LsSZlcH/vgCaVUdiRJeWMYHvgm7dBaVH0VjwU7KQzgu3jC+CAHGLvMMkGmVMRJzI+yBDm+aDeCOpNVWuo2mzQ35Uli+LAm1oUhqRG2SuefayEDtgJNCSfYTl7L95bfDxll8hYOX3g4CdUkUXRy1x7A3EkmwOF1KQ0yd7AF2KXU9iR5QPR6ZWqFxdNsjfU5iltuWhIZBBZJXIRPr6Evd8yoEXqFaMXRGRO2LWlkWwEO3rcwb2SaFS9klgUzgfdB/2krkzPe3p8ZuYdWu8yx4BOoCaFwAcuvo8/hgF7u0EzQO96jQD0uKvqTx/sHnvl3i2wt19KDgEx98ZcA8BPv+bBCxDaXDlzoAPiIEOY54L+lqz2Joe2ZaV3agfe9PFlO/D9uPfzMy+nQ+odCQDInP1URT2hinoPErveZLTevQcAHJJ7rHgIXFDwhDf9mVV9mF/3GdGCYEIDIqfwIKE8cDoHThyZn3CwD7oP+hEM+glRmZ739PjMzDssj12b6ClckZ7WtWv/vKcne+6hXrN3le+NRDnkEObJaLgR1LqylFPYa707zKp45uV8egcfelLYEb1fHNaZHokC+KAfunKOxEsdsTM9EgV4NlSm5z09PjPzTjaHP4R5PqjPBgNdUeoN9F7ogntPnw+653knDZ+ZeSeVXjdHQUFvwaqCVEPVnmwIcyLi3nqVvdUjF7rs3tPkg+553snEZ2beyeYpDWF+whQE7wTlg+553knDZ2beyeYpDWF2iA7ID+k90fmge5530vCZmXeyeTpDmL0TnA+653knDT/MwvM8z/M873jhMzPP8zzP87zjhc/MPM/zPM/zjhd+nJnneScvKlVhL+34erDrS0ONu84a1C8479S1SxedVq1zv8ggFJkaGa58e+vGN33oxtHn/9mm2s8tdIk9z3u285mZ53lPmVKhzgQUWvR3bJqBLAOMAGjgLrADduQsMgmUwMIBGkhIRAiR1QwEQjmrWyABOHhK74tOMRtARjJIDgAcIwABReCSElaS9rSsjRo3EZtkMGol33n/qMiWwdwVp9Su2nD1klpQZixTaF3DTRclhw6ENeGZtYFTYrNnyxfE2c+3pUFwNZFkVnVBSDASpAXnpxV4nneM+MzM87ynTGdZHDgbBbqJEA0r6urm3YsH5GxngKV0QhkS4NAqAYKgKEpQyk3CMoXIgWVrFLgosHFB3af2xjID44BCECW2jhwHjOCcDazVlUS05Nhq0967JCj23vpB3d193VJ39YYzLl05tLSUST2TzE9wnjGQI6EYbMFhEIYKVg4vfuUVl/7DHVOLBtzePOKsi8QgIyAmKx1ogEPt6uN5nneE+MzM87ynjBSaPGOa5vBsKDZpG8GjfzM+3+KyEPVVQ8svFrUzGraaaAYUAHmSa5AkBTmdI5IMhHPOmM5TXeKCdY5hjAJdrsGiIxRgBZvCAUki7JetVpVvmrrpU6dN/+Av3vLiC5eOVI2h1k4en7KmHVIehxKRIKiBAJCOrenOjVfKpctPX/n3N9yaTtwhS0u0cGEIpkAw1mkA0HDI/RY9z/OOEAFn/M5Cl8HzvBMNWktAsMaZzTJa7G55azlNrwrvHzM7efu3u49+Se/6Bszd0wdJf1hTNkrLA+DAGQJDSkXaabY5RwD2KWY8MpRINu2CzqAUQIDWpUZpCKXK9WqYaN35P2qbv3tp373/++3Pe/7alXJuBzcmVNIOBKkwVEHATGmWG7RWJ5aNQzRGM2F12dq7N+3epDGsXZULZ22XbaDCSAllZQHOZ2ae5x0jPjPzPO+pcwmoFeDySpzp2985yvO/f1Hwvre86RWnLL/2tEXPWxmsFHvzHXe3dv8gm3sonb6zvvQcV3QoEJaFEyFAABhCxiCe4vgtLLkik2xUEFkKwDAICXFMnWRNcEvrxv+5eO/nf/+603/vtS9aQuW9278dmASLJCQAYGMdhhGFJSEjZrDGGCDjKKa4yByWBqcSe9uuPfHoVUXUZ2wKLkQkq3NG63szPc87Znxm5nneU1eK486MLtLKg38K27/421cveetFZ5TTzqKwvUia04b6L1237urnrL/grKWB27F74/fM5AOusXFwcIDLw4UJIeNIBRHbgvipva9jcKYclAAjnQGIoCSMm907MvHPyQ+/cEXt3v/5pmuuO2dV2M6nd99aFX2VODdpAjZHAlZoibSxurAGYgoiGVdZViNVczYQ1VFVX/zpm7+X1dcXpXVOSBAhGgBOOKyAcwtd457nPVv4zMzzvKdOt4QKx+76rwP5zH+5wP3Bi67Os053451x3i26swjNIEyrVVo2MnzmshWXrl5Zad2b7bp3ds+jRTI/MNiHIRmXpToBGT6ltxUSBWLmWBuGgEfUbN/MTWLjZ/DBD73/Vee/59rnDmc6m7srb06FjgYqA87mwkEQV7FUMkIkIAoIKKra+iJXrWRR2ZWGChvkEPLgkm558Pv33DUe1kz9MoYAFFMhSXacjQF9ZuZ53jHiZwB4nvfUydHarv8jiunXrZ56z7VvH59+uDS9c2ggVKYDXIAVeU6tzqyFzkh5aNmS6gWjr79vz85P33nPJ+77k/nOD2n19XbgSqiuhqL9lN7WFakII7AIIQrRzidvLG3991PT23/vD96+rizj+fG+YDKZr0KYlsv9zZl9slwhlMQiz62OYlnvT3JKEnvf7j1zrfE9UxNS1jr75k07ccPL7pnPm+MTGd4vVgpQJXAtdiKUzhgJoBe6xj3Pe7ZAeN3kQpfB87zjFFksM2owmXQQlaBTKIGGstXNT+sffvJNyzq/eNW6pSMD0xPTcZEPgXV6hoQAQRCX0qJItGMZlWr9xnJWLk0j3bdz9nM3Pnpva2xy7Mr6eS/bmy9HVeOsFLLRouOoAArCLMyDDmAEHINDwAwoAySAEsnc5TIkENaG05/VO/7fS/t2/uFrrxsLVTRtomKWZVK0VWiVCXQ3lHFdCKGyLGqlckdr/M49j9yzc37bBI13Y6it0eVVLqwBGQe5w0CEfZPldfWx0/JgUasIIY4BCXJGUAzFQofC87xnC5+ZeZ735NBARlKRERqAwMmhoMmzP5q78/9cv1L+l7PKVywNTdLat2e8n3gATFiUgKRxjCpwClQlssJpZ1S4NA1wHgxWapOF/MhX7/7MfXPZyKnDl/7KeLEhDxYBZ2FoHZFuS1kyxhYAIaESBIA528wYBBcAVoXcaQ2O7P5Csue2/7pm69tedtbI7J4yBNjsSAfNXMm4Wh0sMmFStb4D3c3js9+9b/sPd7Z369EkPiUcOSOsj00vOr3AgWZeBQ0gnBJkWTqOSun9YXks4UpuJEgB4KBwAqWVvjfT87xjxGdmnuc9uTADXSaWaBIrYyVxuHVHce9HTqs+/Eevf/HzhzRMbWtP7tVpViPj5qfatiMoIqohlZPUShWQkkpJQVEmbDRYpVIY1AdnufzDXc0PffJL94nzcMObpgde6aAAbdAOcqTBGFASjEVnCQ2gAVQSA0SVGSXUTLz5gzQz/lcXFi+7bO3Q+L3z3fn+kIqZEjsRrqhDtdw0STMe/MZdU//3u3c07fLZ4BSx6pJoxZVtuzLJEUQXHACVAUJgQ5gTasMEqAI0lpXVCAgoGNigdYICTWahI+F53rOFz8w8zzuIBlAfGAVgayVnZu4S2z4J2z/3gff+xnVnrK1MbAuaUzZPdJGGLq9AkZHptjt5kpJxLstKSmJuiLm/v9KYn1VxJKJyRkE4tDReduq+6dbb/v6TP3Rnuct+wVavTTqhLDuTlUCmgAIMCzQktHYILgYQxFoJU536WLb15j+5PHv9FZeObbl9Rs8Ah0WO9Xo97q80bTRu1Mdu+urXHm7NuufuW3ba2IprTHzWTKGAGEgBEFgNogTMiCzIOs6dLUBIiCNIS2AsgCHBBBYAHBAAOvCZmed5x4jPzDzPe1ISjSCZGwlCxmZTevdfwe4vQNA9bdHyJWFEM9MDCitRECgOsBip1zasWjsyWFk0UKphAe35Um47+6Z1KxkYclmnLRwE1VoG0kQ1F1Zqw2P3mOB9n/nKjckF/ee/Na9dNp8Pg5hRVNZsyEoSbEQOLgBXB9TSTdW63+7e8tnfu6zzyy+6cmj6gWR2R1n0mYFqu8nR6lW7VfRPX73/B1t4Yyp4+DmL1rxhty0LGaYZoZBRVFjbZB0pN9ota9ApWA1IAAGgBBYAAIQARiAja+MYUAAJYN+V6XnesePnZnqe96RsbljkIPqAKwQj/WOXlcdWYFx6ZNfDu2ykqmzTFLtpGKDNMzmHi27/2lB/vHKksm64cspAdX1f/0B5ZHSk3sonFFdE3gFt8qxZks6aWaCZM1au+c3nP3/+8zdtvVdVLhxoKeVoBdvNSBGzMA4BAYCAoMyNwGzS9/zT69fmv3z+VZXxB1tz24f7RufbE8Rj4Sj80817/u7+ma00Vj319Yk624n+7VC2lkWcIxlXRKmusqhASIWOodCKKFBkLRvrFKGAzOXdJKwJaQGtMQacAJKAAMh+R3PP844Z32bmed6TEiiRCsfSpSVkG+JsJZBJQnnN2txhWAN0gjIwGTMGonRq8o1uY7oxsbWY2iRbW4ZxcmmUX3DmssvOOO+0vnJ/ezyb2C4V9/WX885sOj8zcNZzePFZ/3HX/Ps+fsO+xS+vXfbf5/KKLJWZ50HXUAVGFcBCFa40d5uZ+OJ5uz7yL7/1K4t4ziQNUAGZphu56MY905+96QffnVvZWP9qM3JJZpdAWAJrICtDJYEsB+NkUGdX2GIOoiwIUbarDrqgWMuytTXgAIQDzCHTJK0DB9YBRIAS0CIV7PyXWM/zjhGfmXme9+S4BqINmIYOCxExWwgiyGzsitQJjGpcdEDk4DTKmJ0CCcACjC5DMkgzMHv33kduKPHsUOf2l5+57s3nn3paPXDdxuTubf0BRTbXbIvRZdmSMz/wmfs+u7MaX/nru3gDwFKltru8ZlGC7AJQJeuWx2/Id/3T514QXbpquWm1ZwiGFy3uZPXP3rfv/9y8vTEU9J39gZ18trZtFZZ0LsCltYBbjoWpBWgq0Z7QbZXJtGvONid3cafZyrtyYFF9zRXFwLltPQQWQBhwMZJhMMASqYzWsWkHwuT01FbE9TzPe9p8ZuZ53pMLEgAEJrAElokUMDntQCkAAEQQBM6CLYAtSuLeaC12wIZYSywEWYmAO/5TbL5j5ex333TB4Jlrz1xz6rowfVDueURRXjOn4Oo1X96T/cG/fG3X4mv4gv/VkcsUzmpJEGtIo9hyMPfv9fv+450XF++5cCXMNyFtwNCF+8qj7/rYR76fnWtPe8NU9aIAy2ASwHIBRRhF+ZwbHm2X5r9Ju7eV5nZXsnHo3N8fNvvH6vnA2Z/7/vcra1/Oy1+XD15u1BCYHICBAHIFghVatimzQyEcCecILSAiowDC3hZRyA6JnewCCwmKLLF1FtgJBgmgg4WOnOd5JyrfRO953pMKO8MAUNiCwYpQMLNzDgOp2DAjMDjjrCmEIknCakNIAIQYAJaY0TE75zQAjL1+xfqXdXdd/KGHvy7uvfGF5+553ujY81at49Z9s/O7BvLqBeeceub6wcn2tAxnsnCIEgBbhgQjmu0z327ee+tLTum+5JRTHn1g7+KBtLr0zHvnp3/pg/8wM/yy2kVv3Vt+DhT9hbSgBBopUz3gbm7t+df27a2l/Mi5S0unLKqcfuZpYVYfW6I6ay75s4/+vVz7wuqaa/PaJSkMgUmBmwIJdWxjzc5pZ0EwAAE4AAGBYEjYITgGlgACgJiJDUduSLM2YIEcyABQgJagEWSy0KHzPO9E5TMzz/OelAtTRGRjANgFyMYAW0alHbCzIAgEAkorJQvhGEAaYAAngA0QAiIgAjhQa7aaSVj0jsGxa4otX/r4Iz988IHbR9544UVDy/JO1pzYFdQHz10z8o1vPZpN3G2GB4krFAiXdYfF1uatn3hufM/7rrx2RVLs5IKD+j0TU+/94o27lr+4fMb79sZrOlkZShqyomJFZG9qb/li3Jq7ZtGj175aXaRWDQTLJcel3O6Wkxyd958f/48fbT+1fMm7ivKpc9kQFAYiI5QSRqENbdYFkIASUIJQgAjWQWpAKiACweAsuBzAoWCJRDqQGDCiAwB2YLWkhNAW/tLqed7T5Xc09zzvSTl2lhCEBBLoHDgGJIVEINkBMUqSSBKYmAkwAAHAApgACZAAEIABWLi9XCwGkac8FAxcUFlUm5rY+egjtz/v1LV1Uc47DY7j6qLVX7n5jk680o1cTAGbolXK1dwD7z47+cFfX3/9KVmn+fCj8ZCdp8Xv/c+v3ezOL1/2F+Ph+sxGMm6oViNo/Ac+9I9DG7983eD233/x4M+fNXYGDtSaSTG/q71r995kas3y8790y21/8eCy+qnnzUavyDhgSiHSAMC5YBMgKCsdRBEoCc6AywHSgLoS25YlghPWMSOgAIoBQwehVrNWFIAmYBaW2VlANNzLRz3P854O/8XO87wn5xCcI8GAxhlN5IRErQuQAxiR06kzFpQEFMAAUgVJwkAOEUmikA7AgWU20sSKZtCWU5jvYK2oXV09fePOrfGXb9/0yrPXlkhEXCyth4sjNzH/SDUOWroidFumfz0y3fq1FzxnQ//M7D2TRlB9+YYP3/Ct2+iSsRd9YkvSBwHX3JSc/Zy+98vr4+oLVo+/7DR17sApUdJtPjLrCgYsOgUWI6XRyuA3ZvZ96OFhGly0Z/HryTqdJ6RYUKydYkSWTFQQBC7XwDpUrqKK0DYwmbd5o10041ItLg04qhWumuhq5kqWFcSDAMg6L8iBdAAWBIKz4NRCR87zvBOVz8w8z3tSMmKjtQMEVKCkE4FDAWyg6EIUKIHWagmOhCwcOmOK0hA4BsfABtgKNgI0gslLfZAmkZ4J3GgRyYJcWrs2q+78wr3fee6GdbGyeTLusr51i+CHe+4pY8rFwKpqsffW2994evtF69fsvmezKpdGzl739w/P/Of0+fFV793SlVD0LQoembn/3aOt/O1Lt77k/Ms3LF1p9k0mGzdq14iLOJQdkJVlSxal/avvZPlHf/v1h6rnmuf8vs5CiFsga+D6rGZwHcAGYaekcHnr25P79rRn9kjTwmw2be4m3YjA9AUaADILmUMbDqnaslptMYVVtfqXIRpsi/486DdWgOmCMMAFgM/MPM97mnxm5nnekzJGAAhwRgJKQt1pO6PLcdwJBznrWhnEUeCK1FlQUlpgMOPAAiFkEMCKOWQIGQAcQ2SsHmJtAABMHw0vq6pX7dr0uU3z2Yp6zehuJQqXDlaDHR3LQhDAzPdW5XddWh+tzcikMjWvTpk00d/dmc+subhRnC6I18T/3rjxY6fN3v3en7/yVfXzTboxfSiFPAoC7RyStFB2EEUTMu2O5p/8zO2bBjcEF3yAqdCKgMoAjPl4hZORWqpn7pl8+NtFOuUmvrNCwpJ6vGIwHhqAvpWweHDRktFhLGRRZFmRp1a3Gce7jY17N2/f2t646bNiYL3oPx8WX6X7zkloxHFfbkpWpAsdOs/zTlQ+M/M870lJm9QiEnoutrORmW1OPGQ640tG+7Ii3bdzawx5fyXoNOayLCvVamFc6jKIeFD1rXa1dXm8oiPGulgDiCDXIEchmLJuWqklOut00kio546MbrjjoT1XXLiYWJtETu9uE4dsypV4audt//n21fVLl42axoNldQadOvInn7tnq1lRqr0CIqw0b8wf/NtL6bb3v/0VyyWYySmTZVCkoPaQHIiiRSpucVKdrwybgXX/8d3dX9syMHD+WyeiFVm3P4aM8uZAuC+Zvqm9/ZZWtq/ceOSq0uyrr1yjxIaBSI1Wg6FAVMBIa0Fbtq6kclVWRKoAl6NMZNg9c13HwKbts49M7Ltpy8e27PhUPnIhL70mXHwNi2WpbzPzPO/p8pmZ53kgnALUjpBdALKisKuyR0u4jzZ/e376fjf3YCWfG41LK7VeMRgFc0mrZMv1MG3nAxQOLK9JlLoYzwrXse1W1+6b0hM5NXBZUbuIll0bLLm44QaBne7URTTgsmbA1gnRtDAxtmFq1y2Voq7CWjc3uYIYiyvEH8788K72vnt/4YXXDnW71K6pNat/NI7fefCR/Jdu4fntyyc/QRv/6frTGr94yRWViU1uCiJIc51SX4mrq9CggghMPS9LzrBp5r94yzfy2vWZPL9rCqy64fbDvOsfWtvvrDc3XzkcXXzKsjMXnbW0bupRUjEdp63uGmqQcCiRFCIydCkXBaFDgSQAYmMihKVxecnK0XNHVl6/Yf3OZvqdR3Z87+4P7dz41XjVuX2n/eokDblsEKQj23IuQpEgk+MTfGaAFUISOsfOALETzMiADMZnop53xPjMzPM8sJQDM2AIZEq8K5i7q73xE8num4BTqbKY+aLTl//GK9+0lFUlm5/bvXHp2oqzOpmfr8SRQtSFM8YhKUkhK9FIG9PdztZG9q2NN//wjlva1eWllZf1r7qiWT292QogjCiKzHxDVQaXLFseTIIxpnBZKzWyTJrdN7742SWd5qs2rBkoYZG1olqYV4NP/+cNbYCh+S1i7/ej7Z97zzXLr12/Zv7hWyNy5YpI2nG5PgQhNLtp/8AopABRoAmikeFbv/fQvBxprvqTZHCd7O5csvcvswduqkzecv36xddcef5ZQ6V+AEgb1JmNsgykQycCICGVpAARCZCZayK2xlhnFJCU0qI11qK2UXfb4jCWpb4VsTh3+ekvy4PP3LP9hrv+qT2+dXT9q1pDz+OslImygK41sRT6hN8aPWhZJ/YvLAJSgGByzuqFLpbnnVR8ZuZ5HkDIYAQUFo1VkagNrRk4742w/krdmJjYcUdn6o5u1257+Ednrl/d39m1TM02HtlZVjDgdCigKAoU0gEhYoZBQDhMuD7Ay1dWX7JuyR2T+o7tM9/a+h9TO27oqJVjz3kDxpdMdiIo92vS3cyKoFyuDzoRjkM0kwkGdJ3mmWXxikvOjMyEpQ4PDGzpNm/bOm7r8fDDv4wbt7znkgtfpypwyz2D4KwoNAMPLKYoAgU1lQCSYd1OOkV/bXua37Zxm4zj0XowZ29t3vGv7R3/cNHS8C3PW33Oiv5VpZTa+0yaG2OBXBSQwwilAAoFBUjB/nX/0REDsO0tGgLgIMuKPDPgyqJjdZJNzJjCDg+NLF28avVlK65fP/iljXd861HRmdnmVv2XGkAjoBDrxkwAntiXXOlCZxkEErNzhjTLAm0BRWmhS+Z5JxG/npnneQDkAMIAFSClLJpQn6e18/GFrdrzB9ZfU168duPObffc/6PJie2rVo719ddVuxtaG9pM2NSZLFACsQCXF5jbtKOKgjvdZL4ZhcGyxYvWLlt0ydDKlaKZ77x19wNf607tGlu83JWGi0QuE5sXzd1+2dIRDiq7ufSl+x+Y7Ko+Zd587trnnb3czW+TAdPiZZ+45b6bd863Dcjxfe+47rmvfc6ZMLPFuZnS4lpDhjC0vDy0miyQ1lQKs05blSpz7ErLlt62ef4/vvewCjBobdz1vf892v3+rzx35buvvfCCej4qGji7s2jsc0ZjXFLVmqr1KVkTqiRkRBSgFCgESsCAIEAQCAIhQJCEIYlSICsxxcxBLFSZKMy76fzMPFleOTp61vKBTvfhe8bHgPd2+pZyOmhLHdSSiRc60s+IM8PMipVwCpi1Q2IZOYoYi4UumuedPHxm5nkeKA2o2TrrAoDQACYAeWgzGwRJ2qG+0bH157eount67uYf/GDtmaevqY445jRpMaELIxeVnJAiCkNVq5QHpKwRURFyB9sJzcuou3xs+XOfc/HzL3puBOm9D35zprOzUh0N4qWlzh0j83ecNzIUlaqzGH1/86b5th0Q9q0XrF1VR9eesErOhP1/95XbZ3OI4/o73/iGV1xzxczEox1XpOXRbVmJFq/CsZG0g/WwxJ0OsmknXSpVXK2/LYOvfOPRrZPt+W4m5za9ePXQr7707NecsmFNc29nfm/RmFcO49pgMLBY9I25cn/qghBjQAUsGAAdg9PABlxhTG50Zo1BYCRwhFagAdaWCg4tRXFciUoRC5fZvJu0x3RryRmXTcz86N4dk2PVUtK/QlLVslnoOD9TASQMXeYCXAG2ADRAhjEDoIUumuedPE7spnXP844IFBWCDFxBKLQDMEo44bQF3gvRSCdf0skWD52+1smBPZPb/9f/+8LAdS89Y8mSehAAdyyRFcRQCDAUlp0JoVJzlTjoEymlM42pianp6cYPOp1Y0whXhweH+6an7sVtn0q7397ndl81FKhSRQiquqymO30ALzh98dkrliT7tlNmVb3/3m2TO5pAMlxU66tF2d//499Ob90WYTA1l4lIxCXlOD+tXH7L869aEkbO6bjel1oq943c8dDGbz24KQNcP0RXnLLhBWcMryu7/saW5t5NtZExoIoSMYSxwYCxJDnQOjWEAIjADAKRGRDZsXMi11IIUAGgMIUpGFgpUKJcHTEOtbNMhlFHVCYZNIyzczQU5G9+7bW7/9+/3bfzu2tG123OTod4CIoTez/NQiZgleBIQgmEMGCsLYC1T8w87wjymZnneVCAAeHA5ZxKsDGIsgzIybYIIs6NQCcroS7aqhTOYrSHm5/51veH3/CiVUODUBAAkBKCLBfNTOoEw7zcP07lOzbtfXD3jn17x2f3Tc03rBSgBUwV0AAqxfW5jV+LJIXhyOBK41jnzfGKEBctCodRXH/uuqGoNNPoxiq2auiRnRvbAIXJq/Oz/+sfPjUoBRhX68vKKyAo8e5dWdKB8lyn1U6XVusoNaGzhtIU7rtnkyBzVq30vA38gvWDy2iP2TrdsakJS45UWKpBUAcUhcltkcYqryrHFpjBMTokpABQGlDMTqICRBDKosggMkFI5RhVMJuJ1EFK3NH5nonxifl2l8pNLQMWpjtMfXtL1aV4z7c3OzH23L+Y0Cf+Imc8AgqczZydF86AdYCk4rI2J/zcBs87fvjMzPM8AOwICVaEDmJkVae5qn0kb98tE1slzBuTrdYuJ2fn5jZFNGUs7Cs6aSCMMBa1BsytkazJ5YGBcnXkvt17PnbLAzfuHG8yhECBxbpUlf7+dpoMVpxC0zYNYdBpDsyufM7qZIkKXF8UvPkll+ydq6weEHayORRWQcDeRjHTKkBKtOCcuXjd2HlnLBkbkMuXLJ9rcFwejeLg4fvvFuONKCrpNBclbuTt2sjKFITTeJqBF5+z5srzqTy/V49v7qMxqI5xCHkkcgvOFBhGXJKgE2dSkIQQogPLxCQtCIeBJXDA2hZFYZyioFzFcrWQcrabz8zNP7Rj37aJmc3jM/taZroLmqqVsbNzOZD0R2KmIbrB/MaNBpLYdW3nvoCvKMKFDvQzU9YzVZ6F5AHduN8kU5izihcPDq3eXnvVQhfN804eCK+bXOgyeN5xRzjhhGEXASqijrOFoMhCCoEEbQEUgADHQCDAWqPLiruJgdoAmAJIQp5iEHGGEJRAz5UdWMtZhYCUyMAqBGuPavkDh5YdEQBaazURsVCOhdARqLZxbcAAscIOgAEABPKI2lvs/hpO3h60duiZHTVoDZWgEpBiHiyXl4+OjAxUUdpO3spN8qLawCnL+vpkJlBnICGsGwt5mmFpyc1bZv/vV360W8cM9rTh6kWrhhbH6vx1pXxg0XRtLB8Y++wN3/ziDTcWADKsl/Lmc0rwP1//wtUiqSgmIgBAZtAG2gaienNk+B5X/M2nPgcpvPElL71kzUiIHJicdOGcYyGNkBrFUFZAUZgicYo7rFnIalDpzLayuXYlTkKa4aIDHKIYkOGQKtWRmwDgyDEAICM7AgcAIK1xQofVZkcPlKpkC4AUSc9ZCKIwqg22nJzG8Kt3b7z50em7Nk7Nr3gZyFiWB/uXnRn2r22ZwYyHMhsZkSPbWDplugI0U9hwsRFVMCfKAhMMogo6EdzEoGJ0HAV5TW9N7/hv0J02c1tWDQaLBsra8GQz2TPTUCteXD33DeN0kRE1kCFQDMnkgOA5Ki/0iXjeice3mXnez+BkLrhmbBvQOKqBKizm0F0KuiugqMuijFNK78NsZ5HsSruTuhmvXXkK86kQr2xnOqe4W7CNkXUKglgIQAZrwRlrEcRRX27UxOy0sSBBxmBjZxgKBmYTdaCISlgrhDEOAFyVd1XtI/tu/ec8alY7D6+pmPPXr1jz3A1rR/uH65G1IhaqpqKyUsQm153cJpZcLc1LlEGmKQiFpiyxhHIg7pvtzD5yxw+UhlPK9mUvetEl69cuLqkYbcNMmIFlc2lw43fvuPfWewYBKgQmby4dhIuXD47UMHKIxAU7RYIdkCDWZMBgkZyzbOy3X39tUJj1QwM0PikFSmBw2oK1AoUQEiGzFm3BThMIyQY5CFhEmMcukVkCwlgKZNyH0aAVVSODkgVAQEZABkAE4RiIwRqDgZBg+iO26XxQqTTmE4Nu+Oyzs9RtnU9/uH32hgdm75yqTYfPHb16Q2XxK41VSU77KHC5cKhBFMAN4FFg7JAgEUiXkQNjEeDopuNHEJFwbFEgOGEKBmdFNjG35we8+57f/KU3X3Ta21YOxCtGh0GEj+7Ye8e9D3711rvvuvXjJrhh1SVv291dZIJhiFfOZTv9+DPPexp8m5nn/UxMzggiDRYkApYg5ZLgZcHkzO57Wntu5Pm7RGd7bJKKqpSiSoh2LnVzNFtEAitnmOi08sqrqXJRElQtRtIJYi7IAoGwzkoJ9iiPyxG9VQwkWAEOAIUUJKzJFQEzFBRZGonHi/EvNjd+axj5kqGtl5225NzFpXX1Sl2WinYhGKIAUk7BWM4t5IacBelQIAroahuAYVMEQWisEBQEJIS1hpNv3f/I7sKsO/3sC045rRpWdj2yScUVd+rqG+/e/B/fufueHbtLABevXvzCc08dUo6G9OpKvEwCtltMmBsrhARjHbnQhYrjucJAveQo60cnsgxmEZQEJQAZ0FppmRyTyVGQs2icFMJYi6giEWTNJJiYYmWNci6KRW2Io8GCwoJp0E7tryjXm4W5fzELJ40DK4gFCtvORVRrU1geXTxD9NXv3//FOx+5ZVLnS14+cP5v7sHlpqLAGiAJoIACMAgGSCiFUOg2owIRgTPgMiAHQKCiE6bNzDGwIOWIjbFRLOWgvn3irr/8tQui33/Xb40okU6MQ2EsU9A3GNT773nkkc9/9/P/9OnvN+IlYv3P50tfX4gIXAR8Ys948LwF4dvMPO9ncSEIZwFUuaRbbWC1JGjO7fzY1NZP2s7sGYPR8688Y8P6K/pr9b6B0eGRxWjN+NzGneNTTMHm8W1/+29f5yQLF2+kVW9oyqXGogAHjCCkgMIdSASOHh0RaAEOiJ1QlpyxqTE5iD5iMxjM0N6vNR/8xFjrkdecOvbaF1y2duyiRRFgewpac5C3sMgBHEsblbTVjrUhRiUDlJKdLpJMYRRGVREKIoI0i1UIRZ625+Nq6drnX5xKLtKk3N269e69anD50NpV//vmuz772e/lFjaMDF333IuvPGPlEkxqittiMih0Pj0fAJAMlSK2hpAtcWE1gQrB2U7b2rbDXOgU1ABIdgqsQIMWUAvSSFZgIBgIUAILIDQOnJXAFCOokogiE8ZWlKy1bHMCZnIAgLy/SQdRcK95RwhbtBVYyBKhys0C9eCiuaL6/7570813b9uW2mlVHV15eh6MMdTBNQbyRRkXBVoOkNEBMdnCGhsrpxEdaEYmREBpUAJLgBMkMwMANo6dAwCnhE5FawtPfP+ll71vRML0xk1xZipBNNOYb09Ph5XquWecfu6Z73vJ5Zf/9p/9/ZadX03anYEzfmHOOt9m5nlPg8/MPO9noQy45rDjWmlcWlTrPrj35g+Ouh0vWFW/7nmvuvqCC/uCkMAFtaolnGs1oyhfMXrtxacWQUAgR6674K4//oe/vnfbJjF0oRgYs6gYHTgEy441GwniKN+yqCRsEnIBgCkAGAYZilpJ5e3B5J7Ovf83GP/2L1555i9c9bZTZFqhRmt+l7G5bUxx0QniQEXEkGuTmW4QylDK0DEa7UBbZmanlBQ6cUaJKJDk2BVtYhtXAkCRzDehBBGaZrNbWTIyeOb533xg+0e//D208JKzlr3h2mtOXzmWT+6hdiPtNHU5MwVSISgKuLBKokABEshqdsDs4iCkSGqNiClU4zQRjsBJdkTMSAzoSLFDQADBDoAF9foMUcgohHgQMACKBQp2DnWmwAE4HThkEAwEBEyA4BAYgbWVpBDIEYAoqfrSKa58/Evf+fxD26ZymwKAa8H4bdmEKQfVXE62u82oumR45CyurUtgOIWywZAlG8oBJLAjYIXAzhpCMAZOkG0zSYAjCVAAIwgyeWaTiSDrps08b2lpVFkGADRYrtoAW0Wy7Y4f9Q+vueSM5/3Tn6/6tfe//5HGt+t8+RyeASAW+lQ878TjMzPP+1mcc6oDLgogqLfubt7/J7Wpb/zxO37vTS99aaUSg8uhOa27naQ9kxk22qZALp43WvTX+zr6wYvPXvvRv/rQi3/+tVv33CGr51iMJbnCSnDWgEOSDEd7lYHMhlJbznMHJCCQAXdkZ3p02yeyfV++bGDyV97x2qvPPN3M7mxN75SqJJrblYpUhBAqRmfZCORICFtIYRGY0DjQSISCQpAEEeWGHQC4Al3OoA06Wa50EseGRMdSpLpWlZav/O6ju/7mM1+DHK48ffFbX3Tp2n7T3nlX2mwaDWPVAedAkAji0JrMFImKBABBYYUDCiNAWWQ5Wm2JCymZZSARAYhBOIcOpBXSEaKyghAEOrQWhQMgZgQbCo7LNicuSDgU1googBwApiyIQTAy7N9jnNExoTKIGGiTqaA+MZtUKzg3M3Xv3ZsFwBmVspJFXLac3+X0rk7SbWWThYCZHDJZFkOnc2WNrK4qD6+rDC/dQ6cCSLDorMidQ+cEOgsFnCCpGfdadVkCAkhi65BdSUEBkeHAkXTMIk1RklRhhRlNHiQz81sqq8dG//oPf+Nt/+1v7/z+P4aXfSCH2kKfiuedeHxm5nk/CyGQoUKvjOa3/uAPl2Q3/sX73vNzr35DZ+fds9PadAphREkGQtg+YSkC3QWVDWQ6T7szJMuJbC9aVXv+uRdtvX1zCFkOhsEAKEAB4IikdUd5NxvSDilHACVFCDW9Xe252e6+fdGuj7/muudfcsaFS+ImbL8d53UZBVBWhgJy55xyMnRBQARcFFjkIjC91IUCRQGBYzAajDXGCBERkNOaXCaiIHWycDKjfKgy6OZbU7tml156yaPzxX/e8L294+nFiyq/es3lG/rDorUXkvlKGI7U6zDXQmEIIySD1oRSIDCQyIyORAiA1hbMubCkVAQi6FhdQnLOIFuJRAzgECwBk2SBghwCMwOyRZdCYRUJYGNBGBAOEQqQFgQCIKBCAAaHDgCB0QGAA0AjHFqiMsi4XKaSdItKxeueO4aiXi9XqgGODZaQXZLpAodUvHpqjmcaM/NFvmN+yz277ty8RXbEEtu/bHjDa115RSdcXshFDhQwSAQJzpwgbUgMFqwAREAHlOeuyKxINUw15lKXq1AIYHAC8lw3jAwjIZMylmLcw53Rs9ZseO01Z23/ynyU/2BvdO1Cn4rnnXh8ZuZ5P4tIIF8W477t9/+5nLzxD975lp+7/vp9O3cMN/ulSzFIwrIDAsgAUgV5rKQBm0VOgIyb3ZnKYElPNE8bGSjjJhlQywJbQwyOCCy7o793onLWaM1CYSQ53dPd+ZUVE59f5x76g1+99vQlQ6V8zrUSXXQFt0vIsKcLAzGQIlnVIBI2aExFMJVKjucdG3YEIIEJEURACAyUkUR2AlGTBCDSmrQLRGR1p6sKMTa6prWv9dD2iU2PTEYQ/PzlF54z1FeMP5oVc+V6hUnlnWZoXaSQEJzJ2WkpuSjSoBSFlT7I2ZgCpQ1jCWkOmRFREEnldOFYC3YgEBAZhGVix8oxECISowUCJquVtSFLywGJUJLgXleycSAtIqBgAGREdNBLy5AZARwiCgqjVrNVq9aK+QmZNC5d0z/ASjkToUimx0vVqGHaVK51czk2FPPgiJBRU9vmpcE0yFsf3X7Lfd+/79v34eJL5YqXwKKr8mApoLToyNkTpMkMQCBYIhQgCocWFZGqWqgkWUeF5DDvzDcrJKFUUYkGq0T/0s7c7ghLs63G6PBZ1z/vlf/85fdt/9G/whU+M/O8p8zvm+kdU6RLzADAiA6cRVKCFFsAlMhOgkZ2zAJYgAPBzECAhMzCWQEkSQEKdhIsAQogBCiAHFGv4cOyiMABCAkWgC0SABcoHLBABukEMREgowUyIApw6mcXlEvSulL2ddz8pV++9Nz3v+mXYErKbFq22wGANFhotDLSUZQJ1GACQaAk6JQxiyqqxVqN1D9z403f3tMVgy/K5RLnOoKkwy5EUrXKTh25keCoQSC4CGxJckBogQtbVDGMQU8tKs217/2LxbvvuHZ47g9fc9qG5djd9yPBu8JKngsAqqOuCFGzpo1AaJ1kEyOFzMAOkcmFBIFAJVAIJEJCREAiCJAFMSIJEBLYhtKWsBNrIxwBVWbm8v7+RSHrbG7Tc8+tPP/cU4r53TLplmVfmEbYJZRKS6uVEyq0OQgToqxpEKkwRazDvGEwo7hkTEg4gKIqBBZ5oxT1FZC62HWzIo4Woy1bRFdGzjuuDEWolRCYISdOhYFToHWNhCRRMHfYFWSU0JF0JRNYAItoATSwQ3YEJB2YSDBZ0HkkCPIkb8xDkpQsgFHacc4aIrJgFSqR2TjXadoSWUpJO8iTQWFX1aPzlvQ/d93weeH8cPLA7ENfz2e2LFkyquXyQhas+sB1gjCwmYFAgXQgGaygQrI4vtbQl93QVdoMxDmB0iD76uWoseWzI7G85ryrBjBMs46jQIkAImzpuSoIRGGQAyUFULmvv5N1bv3B51YsWTRXvhgEAmvAXHLJuTygwD5Zbz4zIAIAIiLigQcl5+QcIQtktAwWCZSikjVdSSQQCZgAej+AcyRDtozOCQbRm3uLAELA0Z9743nPnG8z844pWUqLNEWSgkPjCACsSFAVjEOsnbMOSaIKGB1wYV2quJ/ZWSBLFrgAm4AAVBQb5RiMRQMBoHCsAAjACp070ATgJDAhowAbMyCgZgBLQADAtP9/Vj1pQdmVxeT81ttWKPP2N78hK5qm29bciVUA4ACcFGjBgXUBChUqcNyZmAkGSoER27tm1Vmr5zC6/54fVkaut6oMaACAEMEJsNrSEUvLiAhQMDOjJmktMrsCCEqRTGB+dCQc//I7F03d/K6XP/d1G563RD6abtkSc1VoZ1IKLAiwEkMAdkoIJYGJGYB78xYBEfcvRPuzq+jAXY4BkHsNQuyI0Fo9NNrXnpuoKf6dX/75Vt5ut6YHgphMmZmxxAqMsQwWnXGac1QEAYDSygmGQqcWVElKICkFSGjnYAGsqURlLhJAwyYfGB7LJxqYSxmgYoZan7apTnOBFKqKCEoMmU01CWutdQwKFAoJiIAIYMBZRAZgIgIGQAJAZtTGKCQSCJatNlpr51xAJKIYEUBYEkzAZBEdgMPAGEkCHHeTbnN8Np3tBH39Y1E8eP7lF11cW/PIro/e9sDu2//drv5Beei93bgJeWRAg7SChc0IAgusOUQ4zhIGEZEhAU4KBMsM1uQuEENn3v3Qwxt3brl4xRIUYSAD0AxsyuXYZQVJkowkpcnyoNq3evmKqgwas/ugLwNBvdVJAACk5IO0HeJP/YIZAIyq9BZ2BmQQANYy6AIcBLFBBOfA2d7fAyCCALAdkAowBEZmFk6z08C5w2ihq9bzDs23mXnHlMUWAAmK2QKiA6HBGVIxWwUASAQke5diEBaVC7SwDhwIUBWQJUAFIAGkxsQQOCFAEACDy8B2EDpOSiDHnANrco4sSpZQECsLCIC8/0oPBCyBFeCTLP4pYVDfqx/91Gs2rHn7m9/Q3LPJZFkUCIXAViMRBgrYGmvIsQBAgxQJxaJTjdBw+bTTvnnjjX/3qc+E5707CU6xKBATycoiARhCwXhkbsXMDkCxcYCalQMwgAhC6MIuinbO3PCBxeNf/PPXv/C155xbb4rO7h0gK2FpUaFLLpPUzXWzKY0BgEKmQipA4QAQCPbfIrmXMeDj75eIgNjLynq3Stj/MwMzkbSWUUpgl+edimKlwM1Md/K5UIQEoXEFU8dhV6JTFCoZMjsSzpG2JlPEiim0MrHWMWfdTmCtTTJCAjbOaQYXxgKcBUtJ15Wr/RhQszlrGcMwiOKyyEGnxgE6BAHI0oHWgkGhhP0zOC2QZgQBQOCAe2tnEIBEkJoNEklEAHbW2v1rtQUyLJFCoYSUgoQkJVBKlJKCCBwDuIBUKBUB6tzm7UShg7a5/PQzLlq/9P57P5k0+mf1t8uly0VpxHAKrgAboJWKyGEOCsAdX92chOhcAa4kHYI0zCBQlIWe3f6d01ctOf/UU8iAIoWFMSaTJelyFlICOEJKkyzqG7BCfPO739vjBmDJ85kUGAAA5ICVBasZDzbervd548e3b7EEduAYAQSwYIdgiTMGgcCEgIS99lxmB84CSiABCGwts2WQLEqIMffK4XnHN5+ZeccUkkUoO6uYWITaQQEuYh6CsIOcKNsJXCqZhcGgEGEmy9U9IkhRagMaWIMzgE4gkwnQBYARQAy9TE46ESMZVkJaRwgxY8ggWAZMDECABOig142C+//fG2P0MxS52fGJ1Z07/+AX3jIEaPMmOBOFZULtrCVCEMI5AwCSiJhBa4riDrsiL2qry4Xr/80P/dU4L+O1b+/aPhBGcEZGWSEBLQt4bEbgM2cRFFgGNCAYnARQgBiUZtJv/881E5/6h995zwXrR7PdyZ6JbfuEuH0m/9GOxsO75gjFUAyUz6bpTKdoFJEQQoKQjpmQCBHYsXMHcrL9Pxz4z94jSI/9Vy9DY+PAIaiAsqxdiZUkTvbuLsugUi2htYiMyuUmYVeEKMEa5DI4K6QjyLJOg7spN1Jq6YKNcMYkHTZmamoSBcpIOnTkFAICqXYhKmNrXG1Ih6GoVdrtVpHmymgBRCQcA5ssFgghoHUBSMIAjGM2KKzDQmBAbIEd95LPA11hEtCxtUwIQspAqUAqKQX3bvxETL2e+N6HmQxYJxzFAVRLolIRSmpntHU6mVFFp5K7RYF72ZVX75j6/KNbhhO+w9ZOFWHZyRoKqdA6bdlZkA7c8TUzgKEAaxHL6BwIwyCBorhcTiduxnz6inPPLMuyS3PJzOycLNAIZgvMhJSkedw30Cn0f375K5NqRK24zoIgh4yIrFhothroZ3fXHOjE5Cd0O5IEdIAMQAzKQchITEIyYC8Vcw6cQ2aBgAChC9hq5gJEAZKAJDmFLmI88TeV954FfG+md2yZEjMCWJDK5BaYShEXyY4+3RR6gpItRXdn2pkusi4UBVnujN9EcR+Vh1DWiEpKBIId60IMCBmOyNp61X+GjVcn3J+YktUS0FoRA0pmBM4BEoZ5ECnYUWC3P5PYn5853N/q8zMEgUwn792wuO/S086a2L2zWglAmm5S1MtAEsEY0GyZQSmhJFtwxXwztWktGBhWQfWUv/nE//ejLSOV51w0w4PABGCBybAjBMcI6OBILcGJLEixQysMOAkuUqBFPo0Pf5j3fe03/ssrT7/wzE987C933D/5yNTUzhAoGJmfnloJ8IvnLVs+NDwyJFyny8iW6geSMH5srA8z40F6nZgBAPc3fiAzIxAKJ4hS3ZEhobJQcKlWB1lyicltF0IjZEhyMMIA0IDNbBYRMhQd0Cm22mQlZRKRJeusXRTIYqiOgxL6+0VfOWtOlk01b7eDwX6jwjsmOvftfFQFcNUVz1k7tGhm25aZ+en+SIVxoArtcg3OCiZBJJnAETOaXkEJlOH9HWq4vykVegu1CWm4cMxMAoVAJdE6sJaAARmRHRBzL21Ah7YgkEpaQHAa2FJA1b5q2YEwUhblyR331PvKdWj98fW/1vzyv39rR7lZ/jwufhnIUxgSp1yEkZH1nNoL/Wf5U+EVxKCEQLaOGC1goamtVojBM77xo8/dt23TNesvSbIkCkoCS6nuxiIqTE5EgKiUAq0bjUa73YpHYoMIzIgkhHCWgRnoEB/+n0jLeh9B10RyjAwuABsCSEALQhssPy6OAMzADAhSEFuJDpEEana2C9xVIjhxpmB4z2o+M/OOKUVR4bqADAVCEYyWOS4e2LXza519N1IyIbv76gpOGa2tWLpupH9xRCUlrmknyXSr0066MtBRrEyRtJqN8X27G5lt5NG8GqDaYlVfXC71gQyCNc8HXXFiJDU1TVUbxMwSoCw5ZSALvRFFBOAALTA8WYZUj1xTT5+5cg0YGKzXsuZ4pRoaBOO06D2HGZAsu3ZRsGYlw3hFXXJ9rlT+zEc++A/freXDJVt9mTYS0AKjAwXk2BlAAuuO2A2CGRwzIggJHEgM6mYqm78Fdn+7b1Tcsav1sd/53Xl36pw7NV5cntz9ed2aG1K0emn/yEhZc7eVti2YoBSVw1gKyQ6sYwDujTdDQU/szXwsaXvsUeylOgCEKAEcIhMBaG0EFTk7q4KwL8+cjBfHdTQl7mYaTNjRmGfzgFRiMVzuL+YS7BpKrRKSBQA6aYocpSlVd9rS7jRxycw5pVAJUYaKFM5BuSsq//Ltr35v6zQDfPmBjb/+/KtXLhodGRnTnXYxOx9praIAODUpSFbOATprrbWIViMbVNoAIUoEiYCEAOyYGVA7AUQEjGicJSIisAzCGEeCLTASI1oGBgfsQlLkXFHkzppABkJGAgWw63RqWkz0j0VRQBM7b+8rlf7wpT8f/OenvrjvhjBenC1emlg2RYoA5ATkfNwtpuEQkBxqRxZZEKBjzlywaMUV41u+snnvnhefWxKi9x1DFbmNq1KwcegsOxUpkJhxAYEMS/05CHDgEAidEGgQFUn9JJ35/LNG6CMiwzBjAegAJECEDAgdZxIRdA48pdd+B4hElPf2g4AIKXTOMiasdKYsFP6W550A/MfUO6a06QA4CCJBph/nYd/39z30r1Fy35uvuvbs1c+7cN3SZYODcVQJg2qgVK/TLEk6nU6L2VZr5VKtZHXe6XR2TLcbrfa+mZnx2dnJ2bmp6ZmJiYcbjda2e/7eUqm0aIPoOx3GLqLR50ybAUfVAOYtKuTYQAggekuT8/7k7Gew+b4iGa/E57QajUil0lokK0voUhAAQAJQkMDEceGslEoN9aWZ3Bdnf/V/PvqlR2uNAIK1f9g1DGyBEC0CRiwLYI0QMAs4QuPMwKFD59AAWnAccKaSh+Z3fRqd2dMWn3/AdoMXLX/uezvt8kq1b3bbfy4G8+rz1l+3avDMkq7krSxVYXm4XC4DSgAEx+gYxf5hZLg/9/pJj7t3MiAwAiBSL2MTWmeAKCUVzIbIhvU86DPluJGq5ny6b/f8nonpZqPbnG/unZroanPdKYuvPuesvszVcoowhjhEgBwYtIqHlsyogc/d/vAPNm41XXj3z1cuPWXU7S0cCW0wC6JHphrzCKtPWX735l3v/8gNz7/qzEs3rD2tr9IfM9m2CtFY47IMpHSmYAtCBgQiLXINUiU5S0AlOEChJKEkAmKCzBEhK2HAabbILIgscsyOHFgERHZISOAAiMHmBSkRKMn7kzgL1gJTZSA2+SAEk/vGt9TjJd3d9y9bXvqjF75o01/9+47is7WBdaZ2QZEoa1N2GYZ9bI6vZjPWCMI5SkEItkr2dn2VVBk6H+qjm3fvLJwJywpSA0YJDMA5UuQca6c5VEYRRoELJQV1bSUIYqctW0UhOEQWcJCVlg98wB6bpAkAQAFABrYjnaugjKUWOAM8LccftNa6xyBiEARhGBbVUUIFLA2UCtnXDQY7UAWtwI8z804EPjPzjikKtC3K4Mq22KHT7ze3fPTMyr6//eB/Xzy8ZjAKKxZd1xkNiFDodqHb5GIlaSSOgZ3NrE47QEGZ+s4e7cMlziJrKDQ4a22RuzzPH9qx975NDz+wffNtD/3H5KbPBIPrAhiOKmPuvLcjlxxK5JAheOzG8KS9KlGQgmkJJSkUzcb0cK3G+Vyr0MPBoADY37KEAsgFUVSr9c3m3U0Tm/7HX37kbj1WOe/nZtULdBxD1gc4KQGMUaAUCAPGEAhHkiE7QhWqEBDQAGqwAnSh2xvtvm/JgYujsfMHz31tJ79ou+tXKt+z56NB3P7l00991Yb1K4qJcHYCQVgsB0EfuwC5AAAwSNgbjscOGBnEkzTuMTMwHag/7o0iIi7FJWuzdpLUh4Zc1DeZqo4Tm/dM3vbIjvs27dzeSRxAXyWISvFspua6sHx833nnnlMRobFK2ExZlytogwmDuAvynr2NL9y9da+DJRHEoyujejXfuVMIIQJlANraYLn0jnf9Xj47/ld/9nefuPnB7z/84Luuf9F1q9Y6vSPRXS4FqrBSKnbGMVMYBkCJZquNzhOrHRsEh9IpGXBIBBKAAdz+ZkgGQEKHYMBBrxkNEYmABBIDIPemsRBbdiBREoF1DCQEQmuO4iIXweLVp3Um99pZIrVt9dj6N59+2l8/cPfE3lsKOA1gSCpd6A5gfaH/Lp8I909R0SCRNYJjobRF2dYliOuPbt02OTO5TDo2BhnjuJx2OlE5AkLHbJERXMF2rtMSGAFLkAK0BqeREJxzj/vk/PQH6yeK8Vhyts5+Ne+Od+e26LkJ6MzrfCrPNxdZYxGWykFQLpfDMGTmoiistQCgWzpzybxN21CmpRfFa18tB69u0yqLrYWuWs87NJ+ZeceUy1lFAev5lSqcuOVLG+S9f/++vz3/zAvntj+CrVTnVgmlyGTdXAVYkQKSJgAAIYATANSbewXg0DEjE4ZCRSgYCFFAUBk6+4zLzz0zcWbXzPSWfXt/eP99D23bsmPPLTOf+Tc5tj6tn95/xsvz6LSuGYSgH7SURcWJrsME2ElZJyN03o0CJs6g6BNBGgZOczWTVnNlEdczzkWSuwx4pDJnkkCF/X2jjaL49J03/fd/uW2GXtR31a9OwZBrdw1okPvABQYAlAPIwABAYNkcwS/uaCtWdsA5kUdVbGJ+Z7OzGwZe3Hf1b8/my7fjCqC9dWiXul+Kd93wC2ec+rYLh0pur8unEsxU1B/Hw0KU0YQGEkQmCYjWgQa0AhkJ2PzUnXL/zVKDAaAS6N7sCo0xtF1SnS2L/sXRyNrWwMjDreTLd999830bd0+mMWBFhWeeftZp511y2gWXNNutv/2LP63A9PWXXzFiun162hWzanisWxRJ2olDoqWn/Wiu+xff+vY+ETgqBhScUa8mUxMDdZrt6MHyQLa7Exo5TMH5A8vWXXjFqtKyf/3CZ75807d/6x+/kf9S/2vPOLPYcnclcy5VgF1UhinqsLXlkq6P7trdXFQdXCJFOr49qtimaydSSRcMxHWoZEVhAWRgg8BIKAgCQim7UgsHilEwkzPgwCEzYIG6Ny9Q7K8WAGEdGyrLnMFQACpUQg+XTGdiBovgxeef+b37tk7t+dclay7Ym19RBFVhShaz423VDBc1gWM0ZWJCqR0YYAk5TaglYbB0es+jk81da1deAK3ZzOyKTL+K4o5DlWalgfJeoL7ykok9D7BgXH5x2e1I81UOBoXIjWkioUEAdlIZkxsUA0wB2AZIDZYhrEGSRcKMxR2VPDK3+7bu5GYsEtv5fk2ocxctOXXtmv5yJYoHBgYvq/XV+2qDo6OjBxqgizRjZmam1LVtsasz9cMHH/7yF74yv/eW7uJrFl/+57vdIkAJaABSaQlcbISDoAU6Xugq97wf85mZd0yhHNU6gTiZ2/clbn/vJa++/KxTTu3u29ucm1syNCKQrDUWrZWspMyyTCnFveUbfjw7UAIhsmVmQoFCsENrnXEGDBnQxlmp1LL+gbNPPfX6F7xwvt3JivwLN99610P3f/2mrya7b+HKqeXRK8prr8nj5U3VFCJQFhCpSKZBkhzoS7O8o0eHlmzYsmuum5n+kbEinWBrnEsBGYXFwfLkdFMODA+sWfnQ1o3v+sCf3Dm9Qq149cDSq1t2xOQCgzpZ6eCo956Q6ljTAFwiqdxI90LzFqgOr13+37brhCkmmTAPBvktyV1furS85xdecHHY3ps2p1SRxKWSCGMMJJJkrUk5QMfAzBagN/CfAAB/enHO/auOVHOXuiILpBRKcbtbGBsEVIwNuWr/PePNb/3g5s/ddF8K4ADOWrf6+pdde/5pZ4ZYPvXyKx6ZmXv9618Zdmfe9eqXnbcG5ndta+psdGh4cmKyPjxUHhjIWW/u2Btuu3+uC29/2688uPn++btumpiYOmUoyESLaoEVedu0CqNrfdFQFKX79j1n5ar173nv0sWLP/UfH/9fH/mUes2Vr7v8nGzLA1E9TrJOIKUTKnO22l/5xvduv/P+ibFq9cUXnrdqzepNj/5o8Yr+rNEiUYCWUAqlRAeSnUBwAOAcsAVBgL2RTLy/IxoBCEECAvemQzDD/q5dAATnIhVZJHDIKuCYQGtw2WBoLz177VceuleN318ePrurSaBy1h6xqbpHCsdgA3Zg0SJYAAdECIhki3QOmZUsuyIhdFFcBWLHHIowKIn5ydlwyTKyre/ffkswfBbxKahKTjjQ89YykAoArC5sLI2uAgEJy7YdGeqzeaT3Nh7+56Kbc7czm0xhsmu4ol96/plXXHzhkiXX9pUqSwdHhsoV6YAEkJTG2WK+iwx5nvf6MSkqIyIR2TwVQe2S/nOvOO/CV1995R/8xe/dvO8ru3+kg+d82EDVMQESo0M0AADW3we944v/RHrHFLmu6wuhq+c233R6zfzcS98aVKoTWx5csXQMcmM5c+AKZCRiZkmSlWDm3v7fzMxs2TE4ICIAQLDOATA6cAAI6AKDgp1j22130kwHQRAkWX8Uv+va16QveME9L7vm3u1bvnbzHXc9+q/55HczqlWu+V1T9OV5HzsV9Q1kpmmyOQBK3agpqjN5G+KwaCZOOykQUENOEITpfHNgaJlau/wH99/xX//i73eYxfULfy+Nxpo0ZDkEZQm07XXKHmXWsFD9gJ3czkFcxiXvlBDvg9CKUAKYeRNKO/vQv5zR+vJvvvTS9bUgn5jjvOkIKYoojkkIcAVYjcIAALNl5wAA9i8zS8DMzjnn4CdXNXMWHUlWOuc8NHlByKJsUD1s7fdvvv0T33i4AYKCode8/OVvesV1K0cGokHnZvIwGtyxZds7/uDd85M7f+PS01+9aoi3fqdeWAGCNI+Wq+2JWRhdFC9d+bHvPfrVjVNvfeVbX3bN9bfffUfuoFQvR5FuF50UAmPmt83sMhLOWLV0KBTZzHTRMMtWrHzvL/7acH3gbz78Vx/95k2Lh+sXLFs1tfeRcrma5jYI4yiWVA2niuLO8aQ5nmzlO6+/bMMVz7tm553fX1kfcPMN0AlIQkFAwgCAAAIkYtlLRx0TAztG7i3qBoQoe9MMGVxvsdjHFn2w5ARIyoENuCCGwLq8meZz5aJxzbmrP7rz3i2bv7Nk7AVdXRNcZgJ9nE0BQBvxYx3+vL9z2wFBDGnS3stsA1U1toOsCRS7LHNQwhiMKVeHgurg3tkdX/nB95uLXgpiWeGawHMQSMER26hwEiIKdcxJsz+cUXZjY/JHyeRDU62Nqti6nOXowNj6M9eetf6yc079+TVLFw3VaoEIDCFri3lRzMxlSYbEjjnJsyoFiBgphcwu6VpmcKyUsgzUkVOTe0fWjI1tOPf97/ij2f/vw1MZ5DSfOCqgCkCWrERH0FuR0POOIz4z846pEhatZhdtHAb92I1CGoQgDAaHGnPzrIvB/j5rbZanURRx7oQVRZYjoiB8bKEj6q0/pY1l7rWm2f3DfxCJyBU5Iqk4FJUSgYMsDbMCjYXGxniw/4L1z7no8mte+fKfu++++7773W9+8ctfmfoed7Lh1Vf+0oxY0coduAiUApMj6/6hwb2zW5tZKwaGwpUGq1lzKgoGiyTHaEBVK1t23P/mP3jf9vCKRc/5vdlwRdbVIDTEDDplVwiSxjJQeFTrEylm6DrdAS0hGBBhrK3QmYXEQakRxaae3SEbE2+/asMVZ579yK1fGCuychxCILUgoRDBsU0oMEBif6MP9Yb/I7v9axD0RljvT4Uf42wWVwJGN9dqN1iovsXTNnx038yHb//Wo9syEaiXXvtzb3/jW09fvFS156HbmmlMiVyGYwN33PqDjffce9kK+duvuFzcexfkSUyKhYS8BbmtDg52l53y8Tsf/NKPHj1j/Znvece7N+3Yc+e9d5y3LBpcOmga27rJDFVHOYCte3ckDKvWrpDEFQkupObWbX2rT//NN7y9NTf3yU//6+//05c+9Ee/umRg0Grr8gxsIIA7edq3aHkBeydD9enN0/vsrUPLX7Xm1POn7717abnmGi1XURhFFKAhdHJ/K61gdvzjtYEd7l+LHpipt1ZDb7ov/vgAlASaMGWjCEplDgpoN2yecmN81aqzX7hh7cYb7wj1HqDTDfc2IVjov8yfREwWLRCAcIAEBsARMFZEK0nHo5BCjFkYBs1YEqqIREgZa6acVVAb+o9P/F27PDKy4c17cAaUAh2jCWzuVGAdz4NOh/CBuckbOxN3wfR2kc+sH44vOPvsC879rxduWLlodPFI/6hk4bLM5TbvJvOd+bI1ptDKAVinHCulgjjqr/WBSZwxFEhXFGxZSKmLAlwu4tR2KMbS1J65yuLqNS966fnf+uq/feMbQ/T7xlWL3trCgp0zwAGwPNiMBM875nxm5h1TKZcAkhpF2Ld20+bsC1//wuvktQMjy4Jgrjs7MzvXYtAyDJhRkCQlo8eWmAfjABxY10sXMJS8vxHN9XrfJBKgE0HUbDXbeRpVy9oVyBSUAjY2lTnn88X4bNSYWVSqLDptwxXrz3ndi1/17S/+5798/QuNW3amg5eMnv2qBo0ZJuvcAG5K2lsSMWVdEkZVlyJYCILAmMIKlOW4mZlf/8MPjYvThi/4pWl1vtET2FdhZyBvgSsAybLCIGZjn2mVHRSDZi4U1ZGGdN4yZjuIEqjVUTSe2bhKs9N3fOxV9dlXXLCm2LVpKOtXbkqJyEUhB8oBMGeEGZBm7o2zQURGpN6eNszcy3eFEEgEAOxcb9qmVIbzrJnnHNZEdeyhNnzitvu+/KPtEMuXvPQl//WNbzl35Smyk2Y7H3XW2jRNOp3l60+/86EHPvR//uLsEH796ovzrffi9OYEsD7WB4KTLJ/X3fqac741m3zgxoeWrVr13vf8Tr0U7N32sAPuH+tLOaG8IQsbBrGWaq6VJBZqQwMQYeGSIIr7MNL79ii7+Pd//V33P3TnfQ89/L+++LU/fekVedEpEXJh0kYiBwcLhxkEl7zkxVl7/rbv3PyBf/r0n7zxtSNLT9235ZHFA31pngQUKMmCEAgtM1iNlkn0ahtQ9FZ627+BFThg3D+JFQFcbxE4BpQCDCCjRLJKWdJBFMhct5JmbNJzViytwpbuzGZYdJ62kgAAju7n5KlCMgiW0QESMPaWLwbgftGctvmqRavqpRrYKQNaotPWEYBzpiCKBgb37dj579+8q1W7qKsXQZQBVCCvchCKYGIs2JZs/057773tZGKIxzcsVs97/lVXXXrpqjUrCUuhHA5kknXbyc59JkuxYIUUK1lTQZF0pbWhCiiMQAZgjMlSabQhm2VZoFRvYqZgBmOICIBVFEZhqduZac/PVYeqy5Yt88mXd6LwmZl3TGmpQagkp5FVL+nO3Pvej37qy9/9+hte9aJrr3zVopVrsulJLHIZyjzPLYqs0CWC/ZPgmIkRiQAQEB2gQARyB2aRAQNYV4ALq/VavYSlaG5uFhmiKM7aXcpFxBSy4/kZPTllCMtLlm1YsfQ5v/3bV1179Udv+PLHvvHXjalbB1df3bf49G5hd97+8WV60/OuOW+gVoVmhqx1N6EARYAFaFlzH/7ov9+9q7zsRe/eBqdY3SIRuG4CTqNQUVA2xumCwaneGmpHU4KujiJC2VLSIC5i0oXdmNnlQK2k8ana7M2vv+KSJd2R2UduGYtiCGupNUAowwCMQwuIwrJGPrCNtID9O2eCc84xExEKAUSsdZZl1loiipTtAnWhksnBuzbO/PtNd/5oJhtYt+ptL3/9G6578ZDVsPPR9vSMEsLFVVUurVi++p6tj77zj9/bSDu/9XNXXrRopP3oj4aHR4sUrVXz85MuFosvufIrG6f+27/d0UHxu7/0yxedsb5ojLcb47UYJAEax9oELpY2LLKwUhoG2NVKCgiUUZA25mNRVoIgbUIj/9//44Nv/91f+/odOzdUSm+85rlkZoDTSFZL1cGd++5oQ/7Cyy89/6xzPtDsPHjn3f/7k1/5/Te/piyw0fn/2fvvKMmu6vwb3/uEGypX58k5aJKkURiFEUooIQkJBQRCCAySEdnG4ID9dX6dXkcMxgFsjMFkhEABBZSzRqMwmpxnuqdz5brpnLP3748eAY5f+7cQ6F2rP6vWmuqeWrdX365z71PP2fvZ0y5pSZEJUMJD1JqQGFEIYn51ZNCrJhkyMPCPx/POTK2a+drZTLIAX6FidpmziSek1r7SZOJuYGlhAEfHDsI8H5wkyH7W6/I/YgEImMACgEYUCh1y1j62rQhw+pp11UIeulJKRGG6kespyhQyr6cPy8GnPvcPB+zC/MprO6oMlEfncrIxL6wdfemro0fv7U8PXrly7vmXXXjiyrVrli0o5BCFTmPPdbqgh5s1FMKEEj2ZExIgsy6OrWt5pQIQAXOSRFobqQOWgqVQQoSaEVEozURZkjGzDnyIERAa9cOl/hDy0Jwce37r4d6hi1IqZOABEiABoWBFAIAW+CeU/DzLLD8JZpXZLD9d0ACxYWqI1T2b/k80b9MLRx979s8/d+czB65740Xnr1/TWyo7cCoMpVQmtUkWIwMzIzGTnQncmvFySAjBcmbktkBGYkJMpcqVS5Pd1nOPPz48euysU05buXgpos45x4ZTcgqELvk6jbl2tBN3zdCG1atP/bUlS6+56tD/+5m/e+HpP2hCgBDefPWl7zrvYyvnDlGMJo4pjfxi0bElKXKF4lR34ruP3JlV3jgllzk9BLbGzkNCT5cAII4zQClzPhHxayzMlNQ2SbOMQRNgCmQRhMASse0Rh7u777tq3eDmpaEc3VdmBSRAC6EES5jJBJXkowgtBUIcLy+bEb6IzEAoAGjGBGKwNo7jKIqISCmVmtAWe48Z9cTW4TsefqkOcPNll7/vwx9cMjDHTIy5yXGP0mJeQ75YS60uqLHO1J986e9Go+lrzl1z2prlx3a9HMjySCYroe52GmGuv1Mqbq2Lv7/rWQb40w/98pVnbq6NH6sG+Xan5hIYzPdXoSJM2IU8ZKGVgeSyAGGMIMcql1M+eGEwXa8VA6iNjS05YfWH3v2BX/q93/7WYzvPPOPU1QUfyGjf66S869AR58HKcrhx/sIP3/i+z8f/+Nz2Z/749jv/nw/eeGTrEwMxmDSTVgiHAiVLAMFCKLKWmJ04HoWKMDMx9PgIBJqxdQl+GP+GbBkylMAC0SYeO18qY1NfQ5LGFVRDARxuTgiHhFZy6uC13fX+38IsQQhgAhKAqNBJ1yJbG9v/3Lqe8tmnbFRk2Ejf80nZwC9BmoICPdR/7+M/+Nf7724uvk2VNmPmCrLR4460dnxj4tiDvcnBG684/9Kzrtm4Zk0+1UrmbaeTNFvC8xX6MmlE00fCYLnvO4YoTWJrna98GSKyzWzmeR5IaZwhCblAsQbUgSMjCzmXpKm1iNIJZOYYSCm2LsoP9otSXhaC2+/+0kO7HuWV1xBVLeQBAIAkIZAgASDcrDKb5XXFrDKb5adKJSo2ZAJF2227rr8cllSH5l6oKvOfOXDvU3/4hxeuPeHUFUvnDfYMzZ3j5/Jz58wvh1oIIVFIIZAcOWedY+t0RjNNAcQOiQWwRCRE9vxWHN//yCOf+vu/Q4DVS1b4q/LcyVKZBTlPM9m4ozkH6DMXEMr9plEbceXqwMVnr/nXr3x9j9i9vN//pQ9/+IpLLso1JsAGtclIyxByBGyTLDUIOT8XG4sF13Q1ISxkqNG3wCCEMYYQwdMoyNkWuBhE8TU9n5yFQmekIkAGpwELDMRZV5HXa56EY09deP4pgdPUroHtyyodNpFfzTstEpMEHKAIgBQCAXQBAGYaKY7X/yMzSyln+histVmWZVmGiFprEr0jbXHfroN3PrcH0Pvk+z90/WUXoc2a27bkpfSyLElSr1ya6HT8oTm2mPvnr3z17meeOv3khW8477QobuYLJZM4HfY0s+FyfzUolY6w+rO7H365BddfcunbL7kIOxEaW0+mpht1CbB26XrogpeGUPBiEbYa6fDRSQ25pYuXC+HVarVSguhrryeIOdYeQByfs/GMN555/qOP3HfHQw8vuPhMyc7EaWu6PVIzxcFyDxszMrJxyer0be/92O/tfGzv2Bfuu/fGC86Qz0yCE2AdZBY8w4AOnJQ/MsbcTO4pAyBKBhKvTncnZmIJODPxXSkBDhkdAGkkKTUAWNMGlbGN5/csKAH4lHatA4kastebMnMscGa0PSMAI2dkayYZ9UW6cd2GjevWmTiixGlFadbO+b3pVMNfPHhk+PD37rtrNGmvPOva3fV+zxsrDP/j+L4Hw6lnb73qDZdvvumskzanzbaIk06jUVJjymYFKkA7Ia6LnB96S9lagBSVCXwNKu9YERIIDYxdkyIJDHSQLza6nee3vHD06NHlJ21Yu3Ztua8HjLHOIbGS0hijlGcYdDU8Vu88+r1Hf/+vv+bKlw6d8HtHbPnV1AxCFscrzKQF0j/rUz7LLD9iVpnN8lMlEoknlekqBgISYMpjnIdVv71o1c+51sG7Dz7ywKMvZhN35KhbDbGnXFm7fvO8ub3LFs+Z1z+YD4qeDCrVUrFa9iKnCpymUhpqHNuZBxVWhrrRpDD5Y5L+33vuPAjw0etu3HTWuVPTExhy0AKrsWtsWCqljNYQpHE5V22Mt6FazHLidz77F9975OklvZW//+0/OWnV2mz3kTRLhZ3ulQDABq0zLR0oll6HnPYXLh1Yu224WZLpMGmjCBwCAEsGYCBiAgD1WssyAHCqGziZmF7wpj10lILFhi978/7eo/d9+4ZVxc0DC+WBpmknYdXZiFwl50AQgq8DaXNgPLBCIjg1LUXAVgP4wMa4lg5TKU2skFPppx7WuxVjMXY1LwwGl99Hc791x3f3HxxbsWLFh2697ZyTNsQTY9qYsvKss+R72s8140wXKqrY840H7//bf/gnAdBt0x0Pv1KwLpqaloA6HNM5j6UXlPno6JFndrROWTj3dz/2fi2i2u4jhXnza6qw+9hInmHR4IDtHzpSb/QWClgZPGI7u+OuBHfSgsVgWGZ59hOIsOhCCKUxkyP7np938lkfeud7nnnq/vu2HF2zas3FKwelxYM1bESw5tR1q4dW2+kRxebCTUs+cstH/uBv/uKrD+wu9M+/dcG68Z2PBSJC7CN3QsRFGSRStRyEwrQgyDdVb7lnsDu8ozfg8fGxYu8SNomkzFeMCoCAWKDwOAMBCTKD0JICMASU5fI6cojGKShC2OMUeq5txGAq3OuuAN0HlXWQgyxwgHlueosmnugO3/62ZXjbu3/OElB7vBwG5GQg+iJTy/UrY6rbX3n69ieezC2/LB5Xa8IXdjzxiaBz+MNnn/7uy/5yzkA5r309Os5Z1ko7ZZGB04QBSIcFwZhPyKGCBLqB57J2XPQHAUUWjYcBAmjjPI3KshJBIPoWgt/81yc++8hzT/fdf+/mc8/bsPHkvsHBnB/0lSrVfNBqd7Yf2z05Mjo1MfH87l33vXI0nnNR6dT3j4g5gCmAAQYAZQWASAFgNsxsltcbs8pslp8qmQIhZ6YOE4IBBgaLwIe9udA/H4sbC74tJiOuvWdk6pXd7aOvPDuWdrcoHM8xFQB6Qn+w0j9/7oJT1582f25xydzF84YWzFm5FjIc2TXcW60GfQNP3POd8dGxE5Yuec9NN9kogiwmcoFXZHah5yPTTOgGAYBzyvPyvZUtRw/fe+fdmuEXPvChk9avax04EqJEBnZkySktlacZnSWnyTiCSqXnjBPXffW5r9Phx9ScQWv9n9i0pf8lCNJaC74DUM5loACwRNzFqefLyeGzVs7PUyxcGpZyXTetQ+15HgrBIJgUAAA6VpbETDKJYxaIDoCEEMACnNDElqDdbYVaN5tx2De/b86iHfXudx74zu5DE6efvP6jH/nFdctWju7dl3cmF/hADgDiKM3lVD6X8wYGHnjyiX/4zGeIMGPYf2j4yN7hEEAfn10KEYCvILKAAANh7n3v+wCTrtWa+TnViaiW5gqZYuvBK8NH8gHX6/XDr7yS6OKoUVOUpUAT01NkFxVzRT+1WSeNE4OxDfq9oset4ZElgwPvf++tf/HZv3/06efOX39D5JJntr3cJDhh5SpdKHSmjmh0cat+8w3XvrJ7+x0/uP2Rp56/9JIzBheugGO7gEBwKlUOgG1qPA3tJA7K/dMJvrxj33nrV3SO7BicuzAzDn2JVjhrgRgRQQKhAQEIAokABSMwC4GShYCUFcq81PP7fDE1XMg3GkmBnXydhWaAZufkAuoe0nquycb6a5+fHN1x7qLs47/wq5UwwE5HeD44AkfELAFT53naxI2GF0E5eWnkhZvc2ORFp2/4jQ/+6RCZhTnpbMdmCSegUJRDH4wVCp1xzpCUJITSjIjWUJ8QKSrRBRvFUf+8wXYzklhMS0GQzwXFvJGQBt5Em5Ig53RhX6tz6Ht3m+/dXQgrpUKxEvp5pbr1xsF6M4ZukstB32nhaf+nZ/4lXW/Adeugcz/rUzvLLP93ZpXZLD9dFBISkEPpBOBMUBYAijjUWlqQ04YcFkRlFVWvBGsroU2jIz6PJPV9rdZEN4121KbEsPvXZ76Sg86iSvWktavecN7aKy96U3HpYNKYJK0efPxxa93FZ5+zeMGC8Wef7S1okEI6yEym89JkVkophTRSOqawlG902t/61rf2Hz561RsvuPGKt0BionorKOYlAwsB7AgAhQDB7MgndsIEEi/Z/IZTH7j3mcN3DSzcVMP1mYt+JqeTUThmhISddhADWuC8VpN06M5TqtnZ83to9Ch1AUpBO0rzofR8H6QAFsyeBZTKWjROWZ0BAzNYIkbBUkoATdZgx2gPjRBHpsfLfQtw8apdbfjDr377UMddc9n5t9xyWyksjB46VA3DHAQcdQ2TQ9BaA4BCAd3oyN69jampklcoVgrlSl6abCBfLIaBE5CRi9kePXxMtZO1y094x1uue+NZ5ye1KZe4tojLvT0jUTo2dqyewWe+/O1/cKAYIgCLkEiIHZy2etVAb1FYS4l1Ser7RSgUbNYEhECpVnO6r9h/8aazvvSFf3ppV21vrXPqqac+/jdfR4AzTzsdkjTQnmKTxd3AJb/2ix954ol7t+yY+ubAnptPXV72KpCkaafmhAr8QIsgjafLvX2TFPztt+/dMxXpylVvGFqUHdnfhTTwwlB6oBQQgwICyigDlIAsAISUlgUACrAkpAJFDNJl5dB1G3uqogGuR8qqA/OzXpn/Btt1qBpecUEu3h4998dNHr1lo/jkr/xhnxGNsXHfWTRZkpkgCJhBEBrBwN21S1es61vy5PBBmT/28fe/4/0X3zY0EPDYqNetWZsoodEBM6OUIDgzRrDwPAWoIHPSELDw87FSlGRMlnv7BiamJvOlQSn6Sz2NyXrz8JHR+558/r4nHp/qTB4cPQQIqQAQCLLcKi8cz1WMQwnSFgd6lp9WHlhXKK5oYqkpZC1j6HY8PZBB52d9ameZ5f/OrDKb5acMAxMC4fEsdQmoGaUnLBM4AucEoA/CU4ws+GjGoMuoNjAkUFahHxjTATSL1DPdyUNbd27f9sqerz336d2jhz7x3o+JsPeuxx97cceOJT2ur4SwAACAAElEQVQDbz7vgs7BgwFYBQKsYVTEFi2idcCSGJRSmc2Eyu06uOeuu763qFr5wDvfLaNkev+BarEINkUplSdnRgg6JiZEkAC+JBu1OwvnLbz56kuf/pt/SqaedaVVP7OVxKg8bVwEoiyEIJcC53S2rzC55frzVi7XqlVv5qAE5FAoay0IASyBPQQfAEgYkrFTaWB9YEZ0BCRQoJTAREap2HSnGhjm/Ep/Om/hVouf+JsvHjXwC9ddftttH/CUf2j3gf5i0WPOoo4i9sqlNOr4QRB3It8Xabt90dmbV69dk2m/UC6FYaCZFg4MBkEYx1EnS5o2ybomr3K9QalQKB7a+nw51P3F4nBrLMwXVTdaO3/Rwv6h2CZh4C2YNzQ4d4EBmq7VKuXy6WvWr5nXn05OcLejch5IaSnNFLaiViGXCwEmdmxbtm7NTdff9Lkv/9MDL+wIl5zwylh35aqV61euysabvg6EA9ONmkf2zVm59hMf+8Sv/8Hv3P7S3tOWL91cmQ/jw1nU4sB3xgli1NKFxVcONl4cjQ4a+Pu7Hz3h3VfPGZjnOoc1MxOxE8yMDliBUGgIBSMJlogOBCMIKZ2UwhNgLUHsTGaNZA4tKNT4OgvNAJnL27hZ4unWUx+G+ot//v4P3HLbB+jgrslj44KcnwsAkBFBSjZGCgHoona06oSVb7n6sic+9zf5oOct135o0aITDj35vWISe2g9T4PQoAVayoz1QmmNkRJBSYpSF2VaeiCFlq0sIl/kyAbNifrAoh4IvHq98flvPvCl2+/aPtrC/lVQWDO45uTBDb3aK7kASOZjLljZ23UhWSClgW1DiBprdgqQgAxIBwozbv8odG6WWV7HzCqzWX6qCLLMLBgAhAPFIEFoAJlCB4hBS0AJCGSjzDpgAN0DDpic9AqOZewsSAmaD9BlMMfpSnNFsOeVr77z7//5zovOu+7ss87/wV/+QzvtXnLO5nXzF6ajI6VCCCayNpW5nAQFzAIkEhprvDCXmNjYaPuBvR2ybzh540nLVk/t3eelzq+UKHEABChACAZiZmRUUoLVBBx1OuV8/8XnnLfqm1/effipwvo3t483fP3UYRZKQ5YKZCICpQrcsfse6u+OnT54mpo8WiQhtGRrQz8IAgEAxAJAC5SCDVMMEDlIgX0AElIeTyxjDaQok2AkxsKSqKxa+QIFH/rrLzYM3PKuD3zknZcji7EDh3rDoKy8tNXSjEKKrBsba4WyWmuBkLXbA9WeBQsWdLrNQrkKSnanal69zdQCsnkte3p7MI9ZI1FRRI324oE+cDatTc6fMxjXu8sK1T/4yC/EDlnLofkLGCmZquUKOesSL1DU6TZHRtFAvrdiPeomxgLnC+WsnhoU+ZynLHK9ftapp3/5ztvvf2bbSxONOsNZZ501UMjr6aQ9OVkMRSiFdGk0fPitV19972OP3vnYQw/uOrxu49K8XxNp20MnHJnMukowlYk7n9veAGU9/cS++rcff+ED553kmXGXsnNWsRZCEDvnDEtmBJ5pdYXjU5uIgQEMGFKJUWkjpaB4goX5IIosstebMrMu8Qqq/ej7is0d//zJ97zxyhvjA9MTB/bOqQ4IcoqAEdHzwLkZ1UmOwSHY7C1XnX/3jufu3LLj05/5s973vbM3XygKLdKucews+KRRCc9j5A4AGAZnHWql+wrg0DbbKiuCtRnrQl9PkC/tn9r5z/c89K0HXtqh1qjCBQvffCmVTjhcE+O5HpLosi5gKjBHpMF6yALRSbKOLIgc25oSqQ/5zOQtllg6oBaI19m28Syz/GfMtgrP8lNFEEsSBMqxYgaBLCFD0wZVAAxAhkAADoAE6EAWyiAciBjMFLiaRx1NEEKPb/oFxmC6qKHb7QJhpaD8Qm40au44vA+Azj55o06SQIg0TcHTLJUBIxQSWSmkABRCsBLoa+PBky8862u5fu06Ya2MTLlQdN228BULzFxmnQMAAVICKhKGULEMBKZxMliee/nmc2Rtdx8f/tmdUbJEIDwUFpzQ2q/iQdr3/bMW9PYmlusdXwFxp206rISXz7MQlgWAEI7RZCLpYhKJbgJZ6kwKYEERoQMiTpkSTC0aFebnLN8xaX7jL77RcfDen3vXJ97/Xum4MTpW9YOiVI3xUV8KEYYgZGac54dpmiopbRQXtIao2x4b89KoO3a0dvhQ/dhot9VmZu15oHF0fPzosREOpfXkRLfuwNWmxvx8SK3UtZJoYqoq1Fw/6Ecl6630yESh3hYTDW+q6Q6Nt4YnisVSfunilkmHBe033UkFUS7n9Q5kqMdqNScIKVswNPfMM88fqWUPb9lfLJdOWrcB2i2IY4leZhDB46grk47Isje/6XIRBPc/v/P5semmFxghwKTSZoHn29LQCAdbjk71LVy4+ewLUhD3vrhnd0oOQseKQQkpUaJEAGIwDoiZHZIDYAaHwAIIgZiNQ9vOktFGLPPzI1MC8OF1tpUJAKBUfv/fFcz4H1594aXn3mwbtSP7fzB3oKitE9Y6kyKzs5adAyXZMTEraZsjo9XKoluuv7HI3Qe/9c3pHWP5sCCFTjNHoEF4DoUjNpljQ76fR+0lEiJfdiXHHvJgLzjBIMAD8N1LB/fc8v985tNPNPf039B/7pfDE3/3iNp0KC5xWDTCOXIQFEH0EuQAPWBmzphSBuf7vsMEVMXyvC6Ujc/s1UG0wZut9J/l/xvMemaz/LRxKFgqIAKynrCe7dq0HeV6gbkqfI+iokyAx100btpt0L2O6jabzuIGWAMsjE3ZJrkEhQcBep3xvScvLLz/HTeuX73m77/8he17dmxYuGD9smW21VHAMVuDvvOU5dRjKREA0VkSysvAqrwfo9u2d4cK9fKliyHLfIFA7JwBQhLEgI4ICBUKYAnkWIJElpA2O7VcfuH5p5z1he/9RXboflix5mdzNtE5EiBChy2BWhjH9WcH493XnHFhDyUKLKg0QdGxoFURHEDeYyOBAF0GSZfTjhBGIMciIqTQEzNZEOScTTlLmYld38Arxvzj/U/VLNxy/Tt++b23qu7ExOFjg329rcnJ0A8rfX3U6aRxHOTCIAhUGAgJAAjWoud7AFk3tkrXulFQqlSXLkbhbTt88Oltz287sGf/6FjUjTeedMraFSecuHSpzvmir4c87SIuVArWpnGrEZZKIko709NKeWAtJEmUGZ3P+/m+iSTdueXFHzzx6L27t9jMLF+49MTlq89at+7s9RvKxWJSq0EWh5XKSSee8k933e4Aenv7ly5cIJNut1HPV3uSOE6TVqC8drPmdxvrVy4/54w3PP/wfU8cOLLitBW5bgObTSYVVAtt3XvfS1uPRHDLJZecf/6Ve17cvm3s0JOjkysGexgSpm5qYkFOIEgpBAgHTjIDkCAnAJl4Rpz5hA68bsc2OiYrJqlpAfaBe90ZOSvFiweOPvzhpbk3veW9EHVbY4f7q8oXYRK3tdZSK3CO2YIQINBZJzwyFlxKbrJ1xslnn7r+1Fe2vvzYA1vXLRhSzkgEFXjAClJwaWwh9aWCnC8lEtDe4aOPPvlUsVS+/trrqp6tT0xXy0NQyj/42BMv7RlvLDpnzoYbj/GkyBXZajAgpUZwBCmlLRB5QAawIAikBBCO2QGjyYRyTjIgoEK2BpxRENuflbc9yyz/G2aV2Sw/VSwKEBKEBCAAq6Hr07RMJ/iRv/KoGYjp9uj22Dbzvl+uDPTmq16WmCyqVso5L49KM9rY1IICFgv9tfqoxsLqjWuufNOvbTzlrPaU+P63HnDsrnnL1UvmzbNj4yRdoVKebk4Xi0WwqXNOoQRm4yx6fpwmnu9NtRuGKV8s9PT0QGbAOMbYK5Za0bTv+1JrspacAyGAASwwJoAsTMsx+0Fp1fylQ4EbG34OVvxszudMhyOgBjZK5UwnbY+9fHLOLa/mxOgxSNuxbmC1guRh6LWyrKTLggVkAM5xEkEaCQSBmMiEJfjkBAgAcI5N5pwhLwjbhfCrDz61ZbTz9stu+OgN79X11uTEzt7ywrjeKgU5AMxqda9cCrSJ09TzvajdzuUCG3eV50GcYqEQaoqU9MuloL//0Pj07Xfe/dW77hjuNLyeXFjtzax99NvfQAeXnXnWh9/+jjeedOLwnj0LSz2TE2OFSo4R07htMxt6vkRMjfO9fC5XhnJ11969v//Zv35898ulgf7BjUtMlByoTT70j899VYpf/+AH3nH1FSJJuhNjQd/CaqUy0DOUteoD/UMDPb0iboR+0Gm2VRAqLwfCFDU0p8aH5i66/I2XbH/qgV1jE1Q6NYgKYtqgs2xd3cotew91AAYGBk5dv/7Siy/70tc++5X7fvCWay7zQCip0AmFLCQCCCYWTMBOEAlJgoGBkAmZJUlfBGwUC2AVoWhJrLCRJH82vb3/FXse+qPTvc7V175tsAi11pSAqE8visajXD4AIHDOkVFaAwhrjMrlbdxRUvf0BfV0VOTDE8/e9NTWLS+MPSrwUuErkSJkSWziEDzpi7z2wOisG0cK9UBvLYk//41vxwA9yxZdfdqZBZ2LO+THcPKqE/py389ErVnbtqDcZxoJE3lSMTOjDnP51FnIRM4HcJ1ua5RMRwITARJCqUzApAJUPYQDBge6opIaCfJ1OG5hlln+PbPKbJbXBil0bD2Bia8cWbROKWUEAxXAxSFP93rHmgfu5sMPmOHnVuTkmtWnLpy/oLd6Qil/ajEXlnL5wYG+3mqFgLMs8zwvl8sRkXNOohBCKNaSMu1MkCu3u0Z2O52kM9E4hhmctGKV63ZC7aWOogQDvyiMkzJMsiTNXKWnitMNTyAZG1bC3dsONKPojNWrB8rFpNnI+wG7jNI0zAXWWrQsUYDA48GiEhU7Araq0BMWzfSBvp4FZ51+0b3PP19UtUPZIGCqSLMMQLTZInkE9rW1Q4i0ktq6SeB5mZhY3tNsPvHsaauWLRBZKjPKF5kEEXroOO0E+TKlIGTi0jqkxK1OCzwOA6VU3vhp0kj8WmH+XGhY0bU27Xa8JFt6xt3P7bl/d2fJklW3vuuagm4kY40KDETNOOcFQBmY1PM9NokBoXK5DK30vW6aBKDAOfB8YCKJnmV/sP/FsWO/96d/9eLzr/SWKx997wcvvfaKnjlz21H8xHPP/O3n/+6eZ59kl5607A8G++ZBq9Mjc6JuMfRYWofsRCYVJMQtnwuL5t7/7PMf/rVfm4jbt3zkQ1e97dr561cUtT9x6OgLjz/3W5/49V/41Ker8+a/6ZxNrU7cbraWDMztKQ5MtuLVAwOFThvixMo0VL4kZFagVa0dB6GSteYp8wuD1epo3H1mz9hV83qyifE0c17vnG8/uf/FA82lc+ZtXnYCHd35gZve+MBD337hQPf+fe0rNi2moyMhFxI7qkXBJdILkxC7Scpevt85lcZpTgtEkILrcS3XP+B10loDvKX9aVYVuUzF7Sws/EyWqSAmn8FJcIGChmUfJC3Y+/vNkQc++Ju/umH5Kui0cu1mEBTTbsMrSLDH51Oh0MxIACilNQn5Sjobd5pepUdxMM/PBwD1TpbFmUKjPQmWQ+0zeEAWLViMPaUlBLYrVq488dSLLrzr4R98+I//wP/Yb1185lk6qqfNY5tO3/ibH3zvP33r9sOP3QfK9xGZ2ZFha4goYQcACmRKLFGUfD8IAqmVYbLkGmkEZJHRD4r1rvALC8v+IOiyt+ldneiEyBvIdBfY6ZSEj6mHkM12BszyOmJWmc3y2pCFTkaJcM4AqEB5zmQZyHwo2/3yyMhzn++2X/RrB05dvuiqD31i/bLlq1YsLuYLyI7JgjVpHGspA09DbFOZAoByAgiNISKH4Ei5nIdsXWti1HlFD3HLC1unp6cXzhmolApSIghAC2BYAoAAcibUnpQIUeRJRURSSgCYnpjMEqiWioUwx502hBoNxFnqBVIwvDprZ2YmDwMAE4tAC6Ko25YoSvn+uQM9remxUjos5AChx0wEKZMT7IGz8FoHVUnpnFVeYK1F8Boj23T32KaVG227mWVpIFmisAQMIAAkoBBs41gkaetYzS8NlBcu6hByaqjWggxyFGbjNZdBp0URSm9owUPbd3/zBy8MDQ1+5MMfKIa+aTY8gUwo5aslqlIdt+0QiR0K6YgQUWgFjoEBpDTWiUJh3/joH332sw88//zNb33Hx3/hF1eeuA58JEPCD9adeNLpmzZ96Lb3PfbM8//69a9/7Jb3RRNTWkgZSEDnnFEStVRMxlpbrlR27N/30U98nP3cFz/75atvvI41tiBVzm1YtW7p0KL5gwve+/a3/fHffHrNmqWL58zpdlxoqc8P9tjO+mWLS5VSOnaEtQ8kEJQD0NrLhQUJwkTxUKVy0YUXfO2r3zg8MRnPW5aKoDxv0Z5G+9Enn/EEfPjnf74aBpBEc3srV1x88T986dtPvrzrtLVzhjwPbBLowBqy1nqGIaf9UMVx7HmlXBAKl0KadpttDEpO5aZiMwXgl1e3dd4xq+BnI8sAgASCYwABzqD2QeqKO5hO7jvvrJPPPOU0BUyZ8bVnM6O1Pj6tHWYmRPzoIMgwcxCtRStNbZKkaRoK4WtPSikkAxlHFsiyVAggmRmFyRy51Am9YNHcj3/oo/uOHNp9eP8ze7efselUzBKIutUgvOz0zWuXnIB+0MoyAGBwzjmylogYHAAUZCAAPamCIPA8D6Sw5Iy1xkFmEpNGtUZDBMHwVPPZF1956IkHR59sGFkZOvn6bv70dqw5p0wGYGeG0c8yy+uFWWU2y2tCgCrRDpSFVCJoKxgg9cBW2t8/8vRXe1rP/9wFG9915e+sX7URPB23JtvN6W674UwmESUCZalxLhEiJzQTkXMgpad0QExEAtFYl7QjAaRkmC8VxqYnvvWtb2WOrr/yimWLF/LohEljYKlRaxWCiSy6QCkQmHa6fpBn55SW2vMLQZiXUMkVQq2jNJWOPc8L/ADYECIyIAAx4/GhRUASJSAAO5cKmwo2qxbPBdeOWzu8nvUJ5AkjlgYsS/CJX/utE2eYnSUPoBsQtg89fJrXOqmnmI6NMSdKKkdIDiShBCFZgEtdu+0nzguKdmBoNCgeGhuHVnxWTvlZKLqsk5TAORC5Bct3RdldW7Y3AN737ps2n7mxsW93TiqwwEJorYgsg0CJTMdnlwIAADlyvvJMZj2lHVM3TWUpVxf4D9/4xvcee+bWj3zgM3/5GcFg4lg6IVi5xAShf8opm37hlz7+oZtuvuvBH9x83Q19/T1ZreGyVGpGwQBkTMpEhULFMvzZZ/56Ku1+/vOfv+6GGwAACHKkBYG1plyuXnDJpe/6wAf/8k/+4HPfuf03rn2HY+ot5G687JLFQ6Wz16yGTkOCI3QIaBEcC41CSimtTbtZsVI+/5xzvviVb7y87+jE2lXlgWXdnrkPbnmp3orOPfvcqy+8JDq8P+l0KtXw2ssuu+N7Dz5zYGT7sVrPYCGMY04yQC9XKlrTzeIUlWp2sx4tPQQABhRK+xb96cgdbqdUKvvV0xkUCE6J4WfVnClIEVqpgbrkAqCWPXxXdvTZ62/9wOKhoc7+IyJOc4F2lgXPzO76z70lZiZmobVxFPo+MQJAFCUgxQ9nwNOM3YZAxICofQ8y0W53otHJDauXblp/0vbd+5/ave1GGy3prdrMuqlWb75Q6Zkj84VUWkREcXzPF5kRERGFRXAOMvNqMuLMMA4wLARDEPpMGZZDAPuey84cnXrzN57Y9+ef/6PWi4dKp/9Zm5ZZLYXCmXjkWWZ5/TDbmznLa4LhBrgIqCNEzNYwSa1bxc4jU0//+cry+J//xi/8yoc+tv6Uc5N6a3L3jmR8uMCmQFkBXI5NGaHqeRVPlQVKX4Q5zwuUEIyCUBCDZbYemJwngtBTCmXOs8A7d+8yxMvnzAuFIDZCskRgY8ExOImO2Fhwzvd8EJKMTbuRabZFZjIHY4cON2v1MOdbcKnLMnLIII4nrgEyz4xGBABQMnXGksuHAVOWdRrLF83ry4VRc5+wCbBkYUEYAJBSw0+hdsg5LQWkDiAJOdZTL5w+xy92mkJaqQilQ3ZoWTnlkwRGIItJSqkNBua/WI8/df8jf33nU3c986KVrL0Q2hlaZTPjVap67pI7nt2zfTS76ca3Xnf1W+pjw2hjQJeyswqVEgBEKEAoRnQMeHyAJLNzSokkSUBJJ2XTZKpU+sGzW794+10nnnriH/zpnxoEQxQbm2WWHJADJui0ozddfuXcxYtePnLo8S1bIAhSdrFNmK0QQkqJKIGVFxS2btt+75NP3fKh97/5husMQxzbrOu0E4HwKTMAEFlz/btuDnpKX7j9O6PNhhcGAdtrzz/3kz//3vUL5zWOHlJSKBQgGKSwEjNrnLWY2TygiNOhnr6hub37JuwIBf7Kkx85NPn1p1+ygFdedImK0tA5mcV2enLDiiUnrl4+Dni4mVKYN5w65xARBGZCQ7Ffl+cUhxaTynXjBBDBMQHGhiz6h6abrjzHyWUAAEzAP0PDhqQhRI0SpdAFqsvD95405L1h46nRZM11uxIYLPnac5kBx4ww85hB/OiBgsE5J5REJScnJzOi3kpVakVElhwiCiXxVWFHM8HG5PJCcrsbj01fe+kVi3p7nnth230PPpQSF0sVkVqebthjE/H+Q+nYsWR0JB45Fh8bTkZH4rFj3dGRzrHhdGwsm5qyjSa2O9jucLuD7Q602pi1TLfeGRt3TTO57Ujr4JRs0ZLBxb9808994upLc8e2Tr50n3ISRZE4QZgtPpvl9cWsMpvlNYF8AAyUzWlQQB5gvpRNRDv/eXUu+/0P3Hr9RZcVPD229/nx8QO9hXJVDYosVc4GCMpYzmJwRhIJorTdNkkMzjJZtobIIrLQAohASgKO2Fogy0CAOS8cyJWyTmSyhIWTihUCWEfWaqkAIMkyUBKyzPO8UHnC0txKz4mDfV5KrfEJ39d+IQca46SLxEgsXl0hxyUaIgGzAEKSnjQmBbL9fZVSIWdMSmRh5n7zQ/i1l2ZaICJgAAryMF6IDq/tKRSsAeVAZoAZkBOkFHnCCUgt2NQBW52rq9JdO49+54X6jmnon7so4xjYAkhgTGXoKoMPbTt497Zji+fMf+s1b+NO7Nrtnt7eZrvFGmMwgun4PCoUBGLmFElmQU4iOmMFIIDIHOR6exvOfPn276KUv/u7v89ErU5bKVEqFwM/Rwg60IiQz+eCfOHUM84EgIOjw3EaC0+HhTwKwcyA2rIy4BnUX/7mtwvl/PU3v8MpzjjLFZSfl8IBoAjzBQL2Qj1vyeL1G08bq8Wv7N2jtYybdRk1BsoFajXAOdABsrCWHDuhyUJGZIEYVU45ChHXnbCuwXCUgxG/cvtTLx2ow41vv/7SzW/ARqeodF771O1QpzV/qC8FOdW1madiMCpfkkpPtqaM9qJc/3Aio6CnKwMDCJ6Ms7iVJKmzqlDeMzbdFANdVxDKQNZF/TO8DiMzs7EMQNQJO7uD6ReuveTsuZUe02wFQvmeDzOJsszwqlP17w7BzErome+H+fz4+OTWrVsR4JyzNweez8xknRBCoph5MSJKRCJjbSwU5pCT8cnNG05+91vfLix85xvf2nfwgAMAgSikH+qwFOYEzzxCgaFAX4hAiEAIko6FQ0WE1nJmXWJsbF1i43YowEepCIs6F7CqHZscfmV32hh/y4U3reyp+Mn2CjiOCMSsLJvldcesMpvlNYGdBFtwSSFNPUBXySbk0S3ZwcffeeWF15xzlhidwtHJsNNe1BsK6pisgUzMDpEByVrLxpElZsiLQKOn0fOFB4RkmRmZICLRzmzTWSjknR/sOXw4ycycgTlr5y33SBKRJcPohAegED3hBJBAEkDOpmkCSuf9wMXp5hNP+eSHP/qua6/vzefTThRFHaFkLheAIyBGBmAQP1ZTY8hqLYWSWZZZa71CvtON0zT1CvONECAyBASnAMA58yNv4bVDQpZlKDSw5GRnLqv1qnwul085zlzsXExsEaUAzYYhirM4Ju3bvoHna93HDk23BQxW8dzTTlWKumkDSrKpkOctPUbFL3zvgRTgvTe9Z9HAvOmjx0o6gChVSmutyaVkLQIACzp+C5XAJJAlkwawSZIPQiLImHvnzN26fefWXbsufdMVl15wcdXPl3M5Q844SsiqUDmGVidmAVrI9evXSinGpieDwJMKmR0wg/AyEpGR0q+MNrsPPfP0qWefve7kDRJASBsnXWIDSpB1Jo263TYD5EN/w7p1SsCh4RFG9hXHjal4bKQ5PVUpVsEiihwQAhsFRkEmFTgCcAKdLUl/xcIVXYB7d+75pwcfe2rfsY3rTvrAre/ybELtrk2MQCkcQxKdddrJoeft3HtgstUQOd+xZK1lTnvF4pP7Jz9/z+PfemzrcCsLe3uBXTdLROD5pfLBsendU+1w8JxIeEgxUiZ/hpYZIikFYEEqcFPZwUfyNjrlxJNtq52XMlASGIAZrJVas0ACIAB+VZzNTPJABiRmBhCiUC7v3rNn9959/ZXekzachCiQAZmBGRwxERADs0IQEmQgmWPKIsiitFG/8cqrzly54sjRkf1Hjxpfpp4y0jk2ABlYQ86QM0AMxBKPY9EZsKnLMsosGUaSWmhfBSwVoWYbTR0LfKOg01OkgaocbW5nHSZIXqEjMYIs9ZRk1j+7P8Ass/wnzNaZzfKagIQoiEIfOOsPp3smH0nH7x+a03/OySdm9Uk7PVWEIKAKdKiTThQG85yFzjlGIf3g+AQV61BrMADMgOikMDPZUEKgFM4LZACpS8kLw1xuZGIqtTYXFvIQUJx5niddNtPISWxFIKMk8ZQvPO0ce54HcZKQ62RJZe6cTRtPB0CIulG7aYyRRoRhCGmEr5Y7/5vfC5nAIbIjVn4AXrD15W2NTpyvrO1KH4QRTjgnQRhi82rp1Wt7ooEZWbLleu3pFSAXDqywjixkIFIWPgELRmTJzgAYp50JchOM9+w8vLPtYoCi9App7GuIVJz6qh2UorBy79P79rXpyjdfc+lFF8ftlkaQhM1Wp1wsgcOQkVKjlAIQRCxQIAOwQwGATMwIiIhknfY8B3jP/fc3rbv5lluk501Njvf294/Wp4qVqlTaOkaJOtDEJBCUp2JHhIRaOmcoSVBKGXjWokMVVuc++9A9VnqXXH6Zr3Qnrec8X4eq1a4XiwNEYDPK5XMpkyARCCUJgiAQAlSg2EmLLtQho06iTlgOFBKAA86IUyk8hwqcAAeBUHN6Bgjxri1bNeJgvnjz1W/Le6a2f6yHi4ZlRpikSVh1G09cs2hO75EDR0cmxpYuznea7VCrfLVAnnpkz7GHtk/0753o7+tZu3BBbWpfykbrHJV6tzx7qIGVyqJLmlpCFgXST9y/e5f99BDGWaWVI6uCguzi+PNr5s5bvPQE2000gSAHRCSQAARKIRCO71n/cPN6pjkGnHNSCBbKZNnjTz5hwGzatGn+nLlZFIFxSkgkICAJIFAAWbCGBKEnwYGfCxWqxsT44KJFK+Yu3LNn754jR9JAc057DiixTKmSkpkZBAEAAbEjRmZG4SQKT0oJM2MWmIjZWSk9azKlvVw1hECk3SSxxmSm2Neze6pxLNENqhQUe17gXBsYj7vis8zy+mDWM5vlNcGzCUADdBewrezO6PAX6kd+sHzRgjWLTrcxSY8S14awSFwslIayWgeUjI2NMmMdE0LmXGyMdc54qiOgozEJdJLzTDF0PUVTyfvVaiL0WLNTj2IvX4qMIYBCPl8Ii5SRc86QQwkYKIdsyHi50CE4AUmWoqedtTk/7Kv2NCamOmMTydhYZ6oWaK9UKiCDMxboR7VlP96HppTIsoyIhFZhIQ/OvfjSK7FzXmEhCwGYATGQFjMNA/K1/yxONvBzzAwOu619pbCwbMm6ejsCySARhAMA5pksLWRmIE6Yd01Obz0yEoOP4M2tVKuIwCbIq65MsmKwZ7r5zcderIbVm9/5bh3oen1aCamELucrppNQN/GlBmuOzx4iQp7ZzWRgBEB2pD3fRJlzLgzzU7XaM89vnbd8yZJVK0wS9fX3tqJWYpMXdm175dgei86iYwSJImMTBIEE8DxtksT3/Vw+j4jWkLFgSYLI7T86HOTzCxYtAiCpkMEeGjkw3Z5sJhkI9ALdjTsKIRCQV34ORJJGURQ5Z6zNjLWOsRulYaEHLCBIgQCUkkkQQWgNXk4IgRZ6i+VK30DbQVfrN5x7wVvedHVrerQcavB8AASppFBaoFS8aE4/ADRaTZYKdZA6ikzaSbvD7SQDmMxgspukzLFJdc6PTNq2OJmwKs+L5WIQANoTygf0flbrFIkAwVEKzEomonV4zap1Pf3zA09lSQQAzMzMQkrnHICYEd3//iAMTASeh4hjY2OPPfaYBHn22WfPmzev22qTtShm2oJBCAEogBiQmYmRDRjgLIujQCkXx9ViKaf0wdHhmolbLiUlpKeVJ8EhEgpiSahQKaG19LT0CjoIhZYEYBxkFiwJB5KFC1SXbewyKOYn6s1EFyE/x/iDPYW5z7+4PfMW9q+8rMNeZrs8O0lzltcfs57ZLK8JFn1CBgteJnUGHQbSACZyeet5uWOj3f58yXBsndUxS6xkXHdB6FCC5+KojZgv9g+QMh6FgkGEgdO+J7VhODYyMToy8sLE4W1Pbzm4fdfixYvf82E+eHRPAsmS1QtT0UGBHpcEJeCcsRlJRCmVFQoEAqEXMFsZKOBUGBgIvOMN874CYwSAAgGZIyEESmAAIgAQIGaeaNJoWXlho5nk5xZYen7e0wBZY39PKOs4x+kScFuKTGSUozDSgTOJ0JIFs7UgSAiS7AzLf9Ooz+LVxfif72wpV7DUAs9JqchIJFBKZq4LpBJZAIUINW4Ea06fm19KJpljhdDRYepOo0u9QhbVI6/Sc7DbmUdhmlv4g/sfG+lAvl9k9ViBkL2V+mRDmRzjHIkrv3Tf7YcBfvd9b9tQzUcHjuUlWmlS7Xy2iCxEABR0RRoigO16QQEymJru9C2aAwHRdEOIEFipgpro1gfnLXp5+/Zhm526ZO3CvgVa5VJ2f/T3f1sY6O3t6fnaF79y6Rln//JHfhGBwDnf2IkDBxBASNIlnbYToMRqApEpKyr95RE7snXblnkL569auQ4hd+Tw8Kc/+zeV/uqCRfN3vPyvV17+ps1nnalDpcFR0p6ePEyS0pCo7EepyRVyOskAiDVbJqS2UuicdeRpDNAo5SzKtjM5ynspZN3J8QGAzSuW/8HHbmvX91RbPpnMwXRi03yxbD011Wz29FVOX7P6+ae3Hhk102t0VZK2rpkf3HVMjh48/ParLn9x25Yt+55/6xsX5pTAtssXel9oqRcn92c910ftCMLeAKVzFvwEnAH2ADyQDjAGdsABWO8nlYzqSesMAysmIZQmEJTFEPgoEuAW56o+Tybbbi9y98T1y/Ne4lIjUBnHvgglOzAghDZA0hIKwQB2Zr4qgGMiIg9ESyAuWvSlf/nXfaOjl27cdMMZ5zR37qoWS6bdcpallmAdUAQS2QNETSQkaLJIhBIEZk6BWL9x/b/cdfvuI/s7zdYJ+ZIdGxOFwCpWnoUoBVrt1HYl+9Bymk7KHgmsbWbAsUQhtQbWTJoJVadZDgupCo/Wm7lqxQgrAzlv+cqnn376T7/z1Vp4Zk6dAmYIvYjAgWde69zBWWb5XzGrzGZ5TXABgfPQKVBAheW5Jdc3GvELw4d2bH3u7DPPWr7yBOhEaTcmTEHZsKwzWOa7QHs+BC7PDlADUOYazVjU261jI4cPj49PNhuj49Ov7Ni+f9/BY1FzwA9NGk+3atc0Gv19fQogbbe17xETW8CZyz0QENB/3JX8v3HcGPh325HMJk1nKl1KhVyjXkfkKy669JVdO3+w7VPcc+7g6o+MWYJAGvYgEGlcBu8oAJOTwvnIWoLvAIwxoO3xAP/jxtxMmP9/6WFb6Hg5aQlcCiAcqzRDDZwHoXxqKTfe743UFezdV7vvhSPzCn2mM37SqlNqB7bb9lQltbm+nna9Ucznu/nSi4dGD4wkyxYM4gmrn37gEYmcmWSoNNhOXVAeeHzfvgPDnTM3rjh/87lI4NJIhpKIbZJKS55SgEgmyYc+Uez5CijrZK4wNJBqHJuaWtTba5txq97M5YJAak7SkSNH663WwMBAWMmlcfahX/jovU8++o3vfadRaz58z72Pfuu7ZS9/2/t+3hqjAv/YxAQDDPYNmjgjC+AYJPi+zjJDbKMoq7ebS05cv3Dxohd2vvK2d9zonLv3gXsffPihv/3jP7rja1/9tU/+yvvfcwsAsVTNbsQAK+Yt45RNJ/IsS2BCAIEqyJtOygAgpAAGoQQrZwjSWJZKZM2CwTkXv+FsFep3v/UGbdm2I3CALITSvgIBkqwlJrSQUsYAWsiCX0RKpcwVqgPPPfAkKLj4TW9KMnNs56MiNh5Ao5vlq7mR5uRB47kFG7u9IUCUxBYsgYoUegAWWBABsQJgEASe/UmFaWSZD2BQZcwpKqVkmKEEB+jnwRK0bCgb1DnqYXfjiSdzV6RxIhGlFEAWiEHOFO8f33bFHwcEEQlAIqpPTN53z90K4D3vvllpkcvlsnr9eJiKMeLVRECUOPMBhJm11gKlB6qTGtduD1R6BnurI4ePHRsZWbe6v51QUPGbUVzwSkK2ECdajGA5dGnqFDf6VDtWOgwDCZLBZsalIIwO/JYKHLIf0oLefkCESm/Cua/e8/ivfeZPasH5fet/Pi70QHeEOQAKwZnZ3aNZXlfMKrNZXhuUAZeXJDLIhuOKr95oeusHj33lxt/+vV/74G3nrFm5oNpX6Jvv61xmjRFQb4x3O/Vsut3tTIxMTe07WDsyMd5J6hP1dq3VHK/VplotwzATLC9mNgslnH3qpptveufGTad9+ZtfVQALBudkbIxNwGS+c8AOEaVAfNWHQv6fXoFndm1+VHuCwMyAoEGBFlkSoQ6UkHGjeea6Db9y2wfn3Pm9bz9z/1j9QO8bfqmJSywEkPhQjESE+Xyp04wksudTN6uDBgglZAEgvyrFfuiT2f9SnImY0aeMATX4DExABDrQbmqePNrZf/fY8NOqsfdgNvabn/t6XqtlPfbMdetPP2H5ooWr3eiheGIyiRO/XDjile594aVpgg/dfFurWn3xB0+mcWIoBVMwQLWE7tvyYhfgne9417JFS9O9RyRZjaiVZkfsiMgK7cDjNG1ohSBVN0pUpTeYN/8r3/7qN777jQ9f85bzz7moJ1e2zZYXeqjUyMgIAKxYs5Id3HPfPV/8wj//3AduWTV/8ZtuvRyilDP+67/69DlvOG/VmpVjzakntzzvS1i1YrV02qQgnGAJzMzgPF+2avV6u3Xe8qUs8Dd/8zf37tzz+X/8XF6Hf//pv5GAowcOfOpP/3TNihXnnnNurdHevntv5mBx3+Kc0yB9TQloYZ2J0sywlUJIBEYElDN/bOlpAOpGLcRw2dx5f/jJ37DO9eZzUwcODxSKNiPBAIwCJFgGw4ggWYTlogNoNdqmy9R1XqnQ4fDBF7eVessLl610TrcmEluPy+h1CmVXGXr06S2NygVu/uVsciAsYEGoHFIdMAVgYCNYCFaOkdGApJlukp8AOgYULEMwnsvYSQFgQViTBsAql/eH4lqtuefMjWtWLV/XGp2yUVwMc0og2+MxwoCEBCgQXu2vnPk+AgghmEEp9a9f/OeDh/Zfc+kVm884Y/rwQTCpiruFfF4AWOOEQBCCmRAEAAuhjDFKaHJWeBqRmWnxogVLFi0Yna4fGRmH9YHIl6wME5lCoeJziiYUep7EQqAiSXHTilxPyZmsAyylBJUnpZWfhzBX0l67UdeaCLK9hw8/+/Czdzy374EX9jfzm3rX3ZqWzuomNfCsJBTON6/mSM8yy+uEWWU2y2uDcTMXY/AkuFyqe6orr5ELe4a3PvK7//y8GfvswnJ26obVK5afELftoYNH94zsbDbcRCfq6kD2LEvEfIKSMTKcfMo4hwhCAllgC56EUsE7/5TTzz9z86XnnL9g4aLh8dHDRw9lAIuWLNS+cqmAmbAqmilYBnE84/LfRGD89/CrsuyHlc50/AiYRFFQKkfNbq5UUlqO7Nl71roNZ67Z3Pe53/qjb90z/fTk4Nr3Re4UUYVmkoSqrz3dCHoHrM26UdvPBalzAkN+NXeTAQBnDDMCJOD/QplpYTIBDiAQ4Ay4ANhoMbaAXpl8/F/mZjsvOXHe6lWXFjx4ZesLe/cc2N2a3vqDbQ/uOHLxqSvfOL9noEzlvJHl3l3Ge3bE9PfOu+yiNz9+YI91ZnK63kySfpuHUuGFA+OvjMennLrh8vMvax88yrVWKaedcxacBikEk7POZaBkvuS5pGtNCtoL+irD9cnP3f7N3UeOilKubVOZgElNuVgBB81GTSKAgNgm//KVf8nS+Pknn7nuTVc+de+DlVLVULxz187v33/fsjUrd+zeMzw83B/m5vYOChGgRYUKANI4YSYvH7ajZmSzuQsX3PP979/13TsA1T/9/T9+6s/+6qWXXuj1gzhL9+/c+/RTT519zjkTjcbBQ8NzB+YNhL3YJc4skANFqYlBy3w552J7PAZCKXbgHEskEKyYmKxpt6vVivS95vCEnxrgWKFiArYsWLJlQewpKYTsmzPoBdDupNZ6YVjyKv2vHJk8FsM5Gxeh9HL5Hk/nGvXYTwiLQ7umulsmx6L8BZzmAuV51IlsLPMDaQbAZRAZQAzAGqVwwpEE9xNLQPUxl2YOQIIMQFrAGGQCHIFaBiLV0f7h575Z7Rx919t/BVChM3LGJmNwwArFTO/ljBrj47F1x1fRD13fbrt1+7e/1S+9qy+52LRbZBKyJlBKCEBESfhDv42IBIFQAp0A5izJAuXPGHDSk50kjhgOjB9zubC8bHlikrBaZC09t9CzHvgUtS1xv5fTOZ35EBqXWbIWTQZUT7qTE5ONTnvi8IHxqfrL23Zu33NgKhVRcVEtWDRv87sz3BwXeqK0BqyB+8lEIGKtfePSn/YVcpZZ/mtmldksrwm+DQxmxBbYA0rBmI7sEcH5xTM3UTpMg6cebh/YuXOSt09LCF3an6/2hUsW6/LSYv+SOL8wrYt83qvIJt/zeLtek45ClnP6yqedeOJZp5++YvnSlfMX9JUq3UZndN++VECpXFRHYWx6UghEph9JL2KUggGOh4f/j3uwZvTRTDrA8ewLBkaI4zgsFm0U5Yp5cpbTNI/QPDLC3sgnbv6l+fMXffH2pw4/85cZFnNDbxzo758OLxXVviTrAiSQh8w5j/KmGYigCSwIEVkw0Kvi7L+GFLgcagEq4oRDXZXRHoq31Ld86bbz1912+TVLT1xpKCJO6Pprm03z0s6dz2958Zvf+sau7z2XnL30bSeegFG70cqeGO1MAVx1zvmVsFD0vGpYmoxbe8YmF8xbOUn44Ct7UgVvvvwaTWLi2ES/1qClyxKTGhYyEFIKzNg4MqHUYGOlPJELErAv7du1/ciRCy8+d/MlF00enQ6UDorFNMt8S/MH5wQAo2MjL7700vMvvAACtzz1rAShGON2J/QDj9zU1FRG9rt33BG340svv3JOqYejTIFEYCbDTGpmF5WIkPwweOKpJ4EoKBQef/gxKaRAYdPMOVvO5eq1ZmzMwSOH283GhedumtMzZKYnsszpggcBoiRnsjjt+KSYyFryPF9Iyc4CAqPzfZXYVKZ2dM/eMAyruYJTvul2g3IVLVNmERFZKCEdOjC2EBaLJb8ZmYbFal9fVwbfvPeuaQMnrF6XC0t9A3PbGYy0Xa7Yz9WhrS/t3T8e0LxxOfLZIJ3MWiN9yzZS5doJc6IARRIBLJCxYBUIRwKc+klNDaIk0hJZGoKYHCBpCX3IQshxKY6p2vP5dMfV55917pkXTIxMFr1UaIUMNJOdqxAAiEiKHykzeLU5YGZ12MwpT77rmmuK1eqaefPj6SnpHDL5gbLWahRCKbAOAFAIIsfECEoIobTmzAKzIxNHHZcvWC3Ah+LgABeLzz/xzK7DBxqcTB+ZTFq1tp3K/NzYxHRoRCmfE6H0IkYpUmvq7Vat06lHyVSn24i6TREU562OxUDvijcWe9cLf6mFeWOyj6zkeAR0DNwvjM8UE6b0kzImZ5nlJ8TsO3KW1wS0UmpLQOBYSQs6c+QZXpSGcdObo701GpFQW/QNC4E8LepC9ZFRkMbgBbmgWexum953dzA1tX7ews2nnbZ+8eKlQ3PXLFsy0N8HKFoT441j06m181es2DV6eN+uXQVfrly6lLLUZgnaDPjVPRcUDHxcmf2PtyxejZadKf5CAgaBCBAWC1maeJ4GojRK8n29uhsBiy7FVZW+d/O7LzvhDY+/8MhDW/fev+3TycgKHHhszuo3NuTaRCxECkzWysIMdAsNAEoBivD43Kf/vg5OgI9CMjiKYiCRx+n2gQd0696/uuWqt7/hNNVppPsnIpm1uxP91Z6h4mDllFPOPPn0JUuWfObvPvUvTxwIMX/dRefXDu5+5KVHQavTTjvVdBrrVyw98cQNB55+fH8jPu/khS+9+PIzxxrLV51w9kmntfYd6cmFHluyKQj0g4LLjM1YKak0Sw3DB/ePHz7SV+0dXL4Gq5zZzAFUCyWWAjxtQHdbzUoh52u1bMEiZJiamjhw+MDo1FixVEpaHWEhzOW7URyniSW7bOHitNn53le/XgR8z/U3VLygdexYGQCIUbCnfAMi60RhmO+tVnfu3J5pT/i5pNmSSiOzpwMlhIriThRFSezp4Lmnn/EALjz9DGArpZSF0v6xw+ON0ZVrlpXKpajdCI0WSjly5KxWghTOxNaRSyWDL735c+amrZYAdNYEuYCtQ2LnnFKK2aFAcNamSX+xv1rpPXJo7FAzWbB44MjIxMMvHwl7wo0bNkkGY9LpzNo5SxpavLD70Dcf3JI5oCP3BxNbh8Igjhrjk891y09WN/1i6jZYVcyEB8zMBEACBLEG/Ml4OUYL8EJwBI5BSCVAUwppOo9e2vfS7UGy740bBt593WUithzFVrRLKmBHRHR8Qtl/GMs0Y3HNKDNERC08P/jwLbdGcZwLwm690Wk1SpWyAEjTBFEopV8NXkYAQKHYOedISVJKgQCFIrWWEQbmzom37WaBTz779K9/4uPjcT2V0jhhMPNXLgyX3XpMGo6OwtEpk6CnjdY+sDQ8TwXV8tx5peqcsl+oh5ubGduMJwJvHCygBbBAY6grAIGkwGVdgMQLZGo8IDtbZzbL64pZZTbLa0IiBILwMLAOLFmQBGA1ONMBJX2JXuKQtAfoAGInLRTm0dT4UMmEYn93ZGdj17P9uanLFtBpt75/zapVG5atqng+AoEjGJ6M465W0mOshsV4ckqlbtnQnD3DoxMHD8s1JwZKszIKEKwjZkBg+DHr4X/YCDBzEyEWM2FOgDSzpwlOSJnazPfDMBdQs60AmCm0OLFjuH9OZ77nvfOya995Vbb96OSjLz/z3YeefPiOO9TgKhkMkR5YdsIlLbd22vUjTjFIZBAs6PhN77+zzcg6iU1iCaJYyCVe69lB9+TbL1z85rNOVDK23TGSeSFFD/oy6UzWJoFEqVx9yyXndyj+sz/+s689vef0C64cNnJkOl61YsWcgWq3PlLqX7r8hBXbnn78WIrjKJ87OmwRLjj/ooGw0hk/HOZklkaMklFp5QnSwhlgAwBS6yzL9u3e0+rtKw0trPq6lM8VATiOozhNiB68777xg0dufdfNeYJyvlAEmJ6e1r4qVYpTI+MeypwfRFGKKAylC+ctFGz+6bOfHT1w6B0XX7pm8VIRZWANoABjXp0IL+Io6akO9Pf2PfLww10tKUlA6mKx2G63U2Os42q5mjSn5y5YGGXRnd+7Yyhf3nTC2qRVI2b2/e8++vgjTz3y27/9yyctXpN2WrWRoz1z5/taERNZY9kqFCSsYim07tZr+ao0nY4PgApBiSxNldAEjlEwMUhCBOfM3PKcgYGhl/YcmwLsFrwt+/YQwCWXXrZ2xQZKEkcJVwr7nHpu75H7H3h81MLVp5982pqz1q1Z0j9QyQw98fJzX3zg6Vce/ZRedpUeOJHza4zLAzrABNAKKeknFEIrRCAsuKRb9EyP18hqL7fHnkuah1rtdCUffsvmU952xZs3rFgwsXd/ReQU+jMfbIQAEIKIEEGgYCKUYuYDjxACANyr+61eEEZxN7UmTVMvyCmb5bUu5ELTbgkJyAxEIAQwMxGCBBTkHBCTsRIFWKuUcAIV4FBff6hAMJDJwFkPMHUWEYzAfHmu33OpCAaV9IwhQeVMdzMAZCJwmRRdqYZnUjm4AVJDf4VbbQCnPW2yTPg5SurAeSRPiBgwy6wHDKhetf5mmeX1wawym+W1IedxZBSCYEyUBOWDiyTUTaAtxUIhEAN6wFow+E7OrT93cOv3up2nm7Wn1iyf/56LLrtk42WbViwySbsU5Fw3isanAimRXJpEYS7nEJyxadrOV+cP+jIHsgSQIwFpYrNUzGQvEc14UYQS3Kt2Gf/PxBnxcZeAZzo8j3drGrICBSAyEQoVdRqFah/FcSArQRilzZaX19F4zYCeW5Dvufzy807ZtPPQ0S3bX6nVJvYduH/r975s+jeU5m7oLv8QssfgAGlmJhIg/De9mUoQiC5SCFRJ26PHdn5jWfbsL7/jM15kk9oBrTrGdtkE+YJudsZUTlR5IK5PZJzdeMPbHn1q29ZHH/7KfY/YdAIQNqxb21ctaUg7nVr/UH8b4HCt9fgr21/ef6g40L/p1E2m1S1K5eKWCEDm8vVmR6RRXuWkH4DjLI2lpGq1umLZ8oFKjy+Vi5JqobR0wdyeQsFamy8VX9rxytYnnn3LNW/u5d7li5asX7Z876EDW7duBYHgCRO7zGVa+ykTOR6dGP3Xf/6XZ558YiBfuO097xHW1o4dKwYBpAYAQIgsNU4IAFEqlwLP37XlxQay9EJy2KjXPd8HIShz081GGBYWL178wgsvvLR169Unn3ni6tXQmm41OuiHR2qN3VMTqlgy7c5DD/2gXOucqr384JyZ9l1mBwIFCnAAJhOAHHUDz4cg4KSTkVF+IJUWDCjRgUVEEACCPdb5fNEAJFqPdJrff+wxh3D66adXi32N6SnrkuFa7XN33Nk4Ol7xC7/+yU9edNL6OcFc0K0aTenc4Mlrll94xsa//PwdXz5wn+/7gV5isBfQMMaAhkAA/GTSHFbxs63G6MSR7SY+2o6HxfSeVQVav3TuSVddceGaK0+Yu6yT6OmRo3lMAvDABWAjREKtGJjISSlBCHbuuFU2s5KYiWimzkyx8ZV2zL7v2ygKfO0XS0m3g2w9z0dL7BilAAdELCQCoUD0PE8AA7HJMtKaUSgnTCc1CaSt1tmnnv7nf/iHB0aHD9bHxnYf2/Liy2P7n250PpX4i6pLz49yC42QwAjWAYMQypEAA4AStC9N6lhB3SgRhgLjWhwGvXEiIO/AOkupUj6xx86AICHZ2dlb4SyvI2bfjrO8NqRdkBABADCQhQwAvQTAy1xW8rOUiu2+VNksZ3uybn7nb401HlyhvItPW/PGM393/YZVlXLJNLpZpyaSKG23fPDzwmcLKFVQUrHrynw5FZ4wGaStghc0I2uVyvcYkMqlmUAAX2MKbK0CRPOq9TATn3FcpM0U3wuAfzPg8ni9v6ckAROhZRBCSGHIpVmGgjylfc+zaYZo8pV8atte3iNqsWBBZLpWo/TQig6JaGq5VsuXLrtq1QlWyZrLXh4+8t2Hf3Dv419Oh1+yesDv3ziw+uLRtJyoCkgNqIRNyUoADwQCZCABhASHXirS0LLJFwTPpX2N1ou/+s4bevRgFu+LrRxvimpfpdLbAwqDbj7IF0xt1MhMJI182nzr5eff8+gDX9x+oNuNuQgnrp47mBNcc3qsecGqNX8ixcOHJ58fv190zHWnnbe0v8+2G1InLol8B23XUL4QJFKkmFErPyANUafq95XPOEdoBaTtkakVVvzL//l967M71vAXzFFzKu0AW90EnSp44qKLzrz77/7l/jvv5ggg84TvOS2Tbgc0AgtEfPbJx/pA/tp73nPKggUTu/ZUpCY3bTWIUBtjwFPK99qNxpxqzymrVjz1zNMAkLBpO1JhLktSQCwU/E6Ki09e31sa+off/oteCx/84Hvrxehbn/v6wsWLzjp38/7x/YCQK/jWUhzZ7tgRoc8EQZklh+BpgRSjQgB34OC+Pdv3rli2ctmJGwGS1Bk/zCGbOIkYhafzQvmWEmQiy7kc9rhiCtL29D82mT40DictmffGxeuw3mIbt0UWe7jt6Pj6BSv+6pO/cdqqFfpoA+JRS92eUMfHDtZQrll2wu98bPHTv/CxbTvvW3TRxe20DgHbrvKDgTQZBukpoRGkc8TMLAkkAJKXKIuOtWahwCkAK0QKEBGXALNANAtuzOsedtO7oom9aWviQP3R3nx4arXn5GXLTl938rL5Vw/0DvT1DRTQ2cx0Gx1hTYFZCc+5DjiSAhEBGFCgkgoQiZml5OPxfgBECKDlceHowAkASQDMWmtg4DTTgICCrAOAmQYSEChQIgAAIUjHIstcoLRWkNpMAArJ9fFjRQEFrQSb9atXrlmxBHxxLDW16enh4eE9+48++PyDO5+4E7BQGlhYXfG2trekRnPJaSE6gUxNKpl7rQ6AM6DMynzbeRBq8jMwNbAlAADBljI4/ptIZ3/WV8tZZvm3zCqzWX6qoG9gogq9jXbYKvgin+2Yev5TrcPfv+3GG951+eXrB/q5M52YTvfoIc9AXuVUPg9xFyiCUCCzMxk5RhReC7Sv6y5WiXNEV1/25snJ6c0rLsrqLd8LwaVxt+tJpXzPWEvAHmqA48Uy/8Yy4x9l/f84wjERieOeGzlyQslCoUBsnLHWWiCe+R9kRkRGAmAhkQln3ATnnLXMRgipTZKlzPl8+IZ1G04/6aSPvPfWbz3y8JPPbXli66dGRr7hKicOrHqzzW+sdQtSeyiEEwwqA0zAZCJTHgSplI4IChK7I/u3fXc51q9842lAU4k1XceL1m5IAUe73dpk3TmTjE6sHRoo9c9pjw1Pjxy76LwLLth0zoPPbo3ZVj2xbPEydpayxC8X5/X3nnbSSfc+vzUiqRzP6e/jNFLWamAlFUoPTaJAaUSHaI7XQDkpFVgLAtPMArPvlQq+p8CmygJx3Gz3VSpTSXuiUZuqTRQHihdddNHa+57Y8eLLFoRATWCSNIZACiFIsInTqtTvvPa6t1z2prFDhwpKeShA50y3myVRUCqR48y4QhBkjdbmUzd9+zvf3ddqahAI1iaR8kMi6qaJF4SrFi78xhf+8ZHv3/mrt/3CBWed/9zzT//hP372zW+86KTTNrzz+mtGjx3KAYnMnHHyKXLJorBQBkAv1CBEErWTNCqXi47cVL1xZGS4UCgt6rRVoai0EDPthR6DASIiaxkZERHIZs4w6Hzh+Z3bDwzvA4A3XXjpwv550aGjTrnpQ0e8lE+cv+gLn/70yoGhkb2756e60W1Jz4VkPc8jpsbEeLmncvMla3/riw92x+8Je95sOAde4ux44KtEoCUHQBKlQAWAjoCdIx8QHNsIDXssfcWaIiXiQv0r48OH4vpIChHaRp46Gxb2b9i0fP26SxYNDi4bGphTKCnH3UYz6sbQibo2QmbBpAC0EFJIwJmRXw7wVbvu1b7m/786RY/bwOLVUsrjpZvMhA4AgtDnzFlrSbAQMknSRqMhAIr5sFurNYePBYEWnujz9dze0imDJ4ozz3j7FZc+9PLOz3/nzidfurP18uNy4Un9a6/gnrOm08GIihAScBNSlD5IpTKbADEIJGtBBj+pfLhZZnlNmVVms/xUMS4vS+hYQZCIrmq9+HvlY/d/9J1v/cjN7+gNQpiadK2az4nHHPgastjFmbWW0CoWQmrphUDapkycTiZNUSolquwEfOhX35+k0a4XX0HWxSDwdeAcAzAjEDAo+V9dkfk/KLPjQU3EQAyAoCQIRGuyJI3jWIfaGetLJaRCYsKZghj3o7ALnDni8cNqFIKsFsoj7tQaUbOtivkF+fDjb7k+uuzSV/btevjZZ79258MH73tUVpb3lebJk26NuRCLASPywBoUkRLGsVMxoIYsyutJaY9ctGHNYN+CxpHDsbN+T28nyN318ONfv+PuPQf3IzpCd91ZZ597+knnnbGxXq9LcueccfrDzz7nwG444cSlCxdTJ8GsC03Rt2DhDVe9+fFtL2cZL+4Z2HzKKXkyGLcBCI0B0M6mgaeUJADHQhASMUslgX1mY8FqpYmF6cYgqVzwMKfbACsWL8hJ8Z377rzizZcOjx4ql8vXXfSmz/7D51qUBGGYIHUypwRaa5CNBti88eSbr722KFUrNbkwcJ3ExHHgB5IBUpskidBhoZJvddtnbjzl2suu+PJ37xiOOwPFUtuYJIuJCH2ZtVpbHrovGZ++/oJLP/rzt5lu+tUvfaMLcMLG9fkAr77w7E59pbJpFrcXLpiPAwuALSdZqzZZqhSD0GfwWUiUun9gaPHyZb1zh6TvgUAiG3faMh8AIEjJzEgWBQgkIpJS+vnCZLf78JYtIyPjm5bO+bm33gjtBLKMkoinm/0Af/DRj52wcPHWhx7sKXiiZ2WlkhfKRK2azWKpMO02cpXgzPXnI39n6sgLqnyDTXrB7wBZawJQCOwQM6QUbMaOQuWHYeiyx5TruuaImx7R3TFqHek297psCoW3pLf3lHXrNm8644Rly/vKhZ5SsbdUAYNZHNlOO62PpsZIhgJKsCkKkCCEQCkQAIEdsAMmQoEIiAAsZpQZM//fq+TxPzwBAT/sjP6RXU0zHQTOOaXImFRKKaQGz7OOW62OJSiHYU5LVqKoZeqMq3e0VFnmgrCwZMG8JW+64PQVc/aNjnz/iUcefOqRvXffDwvP95dc4/rOsnIuZD4I5yyBYgnMmCJIx/AznII1yyz/K2aV2Sw/VaTsmNQDRskiGf7s/KZ5x8XX/s6v/irUOke3vZAjWy2EUkqpBRkHkjOVWqGEyLEftLtpljjhtKdLXhCGQVTo6+VIN7uN0bGRyqKhwQ0b/N2HO3HkhMhpadKUBQolWAoyBACABP9uNxP/ze3mh/mZwIhCApHLUhYolQoKeUB0bJSQAhAdMZMQUmgFTJaJXwWAEFFKgYgCOIkSAeCF+VKxANbF7Q6127LdqpSrm1ectnnN5reef80ru7Y/9fTjW7fc9eKzR1LXU5hzRnHpmV3VU7cBQeDYA/LBaVDKt63p0e3nv+Mm6PDUdLNnsLfJ/PnP/t137n90eLzmyaDtWr70/vr2Ox548qnf+fgHzz7lZJOka1es6C3lbbt16dkXlPw8NDteLojrNb9UPHPD+hPmz99+4MgZ6zacvGSpbjdMfdoZ140z1IHRFgoIHiqVYS4gREIiQIEeA6H0hfY4ZSVQCsFR7JJO0FNes3jx3IG+V/bsHG9NzV+6+Nnnnnz3VdeFifvS1782HNUMQKBFGmW+xIoQl5y3+dZrblg+NFQfG5MKp1qNUEqhFfieEMjWhWFgAFuthkFsjhz7yC23gqf/5F++kLZbuSAgotD3uiYr+F4yOXnFuef+n1//hCwFTzzyyO333LNg3sB5Z2+idlNrqHqi2+okxlIYyrAKSWdscvixR+5fsHDeaZs3h7lC6phSWrRsZf+c+YEfolLMpKWy1lprNWuNEhgFk3PWsSUyuZJf7ultga1P1cjBTW99W6l/Trx1N3JW9vQ7r7r64x/8yNC8pWOv7Fy6cH6lmq/FACoIvDAo+tSo2U5Tmpha9QX9J65ZfsJznVolmKpnFmxLKemcnsMpUAvtmE2OdOp7WtOHo6wdKyEP/CCvICDo8worFixbvmHx0JxVvX2F1QuXLF6wcGhoLoDkxKCFNMma09PKdNlkCtgDIQWCpwHRJQnSTJDszGKY2fNHEIgsZ7qT4dUSyP+eV1Nmjr/0h/GBNDNrc+a4/G9XmhDAhk0GQDLMd5NYoR8bYxwHGnJBKJ2TJpWSA+lSVL6f91A0am3b2BdWSyt7+tetWH72eWd+ZHziyaee/frdDzz90v8TDZxbXXNjGp5oMDDGOmvR09JmzmVSe87+37JpZpnl9cGsMpvlpwrFOdlTc9O5FaVjR/c+d/rq7JO/9Ludw43u2P5SkCsHAdkU2BErY1MEYJeGKiTKmRitSQvl0AsKQgYipuGxXU/94PmXXjg4UW9P2fqGk0+67sq3n9U3GDdU1m4CCESUgA7RWCv/6+L6H5/QfPz58dp/csjC0yAFAVuTWWvRU+xIMngohfaAAZidYxYztWoIwIgSZ3a7EGNrwmoBUECUZZ2GQhkoiSigxVQfa/OoP9C/sn9g5dKlbz7vgvHx8e/94M6Hnnju6efua20tuMpikV9anHvm4OLTxqNSWxQCwa3xl32uL18238atXMWznv/ww4/+zZf+yUDwho3nLV+6Yu/+PS+88nIm9MvjI3/4d//wux//2FlvuMg8+2K7OVmQ6qKTzvBSdpZBeQpFWm/Mn7fg5y6/8qmnXr7mDed5nU7n0EE3XZck0oxFwA5SG4MIEgx9qUCGgUV2xIKV0J5ULjWZMDYMi+CiQ/v2HD64b+kpp6w544xzTj/9a3fc+Sd/+ee//iu/dPKGE0U7d9sNb1s5NPTYS8/uGDtST7rMuHzRkjefdtZFZ28uBeGhnbukJ8NibmDxvKTeDJTXGB/zAdBYPxcSUWKTwUWLJ49N+oXcu298e7m/9yt3fHfX/r09gJRmCDDk+TfdeNNNb3tb31DvM88/+cu//esRpb//zncuzpd4/JhNOiCdFJAvlklIjpyS2hJNN+r5ct5aq1iwIWAt/Hxe+UTQ6nY1ilD7GrVxLAGEIzAOiFAaqSxKzKxNTBaIoGPtySuXvP1NV2V79ilrrMgk4BmbToFcde/2vUMLFvml4KkXnv7qM1tHJ8YKnjx7/YkXrFu7pKcHag6NXVgRG3uD57bf00HO53tNEmcdg4oSsztp1Ux3uiBpQak4v2/OgiULB3oHV77lk3N6q0OV8mC1d7BnLvgKKAZloJmCMe7AkTROBKKvtHYESQqBFAxKKSZKkkzZTGkNSGLGMGYAAEeAiCBYCGUJ5avrgv83vc3uxyKdAUCQ/Lcfh+D4j0MgcEohAnu+AiE6UVyp9ExMTU42Wn6YK1d6rCVniIUVnvQ9TqOukmG1VGapHFA82Ygnp9VAMNervPuKd1y4/sx/+NcvfuZ73+hGtQWbbzxsTtO5qokVk7SSwWY//LmzzPL6Z1aZzfJTxc9H0VRPruDGXvoaNL7/lov/OD/A3aNNP3HlcpWiJMtIKYlWBLqYJImkIOk6Y5JyfznflzM+P7dj59ZX9jz+5HNP7t8+zrnS4BlGLE+SsYe/8dhLz2/70w/80vqVKzUzWKMUMTEDCwEzTf7Hk5l+zDP7zy/VzATsmEBLEXiMEKeJZYsKpUAgyDIjPSGkZGOICBABJCL9qHENmdkxs9AqS1NjDDAHQSiUBudsmhnlaz9XRICoE7VqVguvVBjoCW677m03XHDxrn179o4c2js18dTOV1585YmxHT2t/NK+5WvDat/o0XuWzcsVq/0Ce3KShicnv/SVr2qAW99x4/VXXHvqxk279u99123v2zk+6tB7et/Bf7r9O6eccna1WNo4b+GadauWhT0cxbEBQTYoVU2Seu3uTRdceNb81csH+toHD6QjEwVAT/ostGQtuxFkXfKQi772ET0hUJmZ4AQppARkYMiAUqY0sp1GcyqqTUEUvf2qq/Yc2P/du+4zcfvDt72vJy1VwvCKN5xz6oaVaV7Xky5nNFjpmasrwBSPTQ0NDXHOOzxxbMeWLWPDR7122lcqbT7tdEhil5qgmE/YtmpT1b5qo9PW5fJ1l1+5+ayzt2zZsnv7jiyK1q5Zt3bt2iXLlnrl/Ne+8+2/+sxfjx2bft8733rG3PmPfeNbJy9bUi0X0C8455TwkigTNkXN1aGB8y+6tFIpBbkyWBAsPF2yXddOEz/nS+VrFAASolgRceYoBUFM4MADVVSQCzo2GzlyGMmFmbvlquuKOt9pDytLQVWkNs3atfHDw8vXbtx3bPwLn//bJ5597IXGRGJAADz+2JO1q9/yiXe/2y+4tNtUzeb8sNJnTLL/zpUrFofOc0IODBWWzD25UsjN66ssnTOwoK+vWizldCBRdfOghRVJImJjG8MyYyQDmm0mrUkFUyAB2bqoicC+r0jmAQAloFDe8bcpGZNJPwSA49uWzG5GhREgyle1GP1Por6QgRHoVbeMGMTMNwGAfzh9ln607ISwNhWSAQWwsGmESud6eg7veH6yG685YeXAvEWWlVA59BSDE67DaSY8B+iDBWMyT4DSmO3vhvPCdmd4Xk/5D37jN5cvXf8Xtz+w8/t/BGs/VFlyxrQe4ESARhCSrUEZ8OwQpln+v8CsMpvlp0psNASG07RZ27a6v2/lCfna+Hauaw8hTbpSqKBSpSyLosgDKaQWoe8XC6DDLiT3P/3UPVu3P7htdLSlgwWXBGfd2t+zsguL26ZU8ep2x2e37vj8V+/4ztzb3t+jJFtGAiYnQCjP+1Fqxn/KD20zZgBgZguAnrLInaRLCNrzcoWclDKO0kKpQnFqk9QY6xxJKbXnccYA9OqwTWJ2M8aBRrRsEVEqD4XIshQBdC6MVYstQMI+ejmljWNodbN6M82HxULPSevOXLdhky6oWtLccXDfyNjE3Q8+/P2nvjNFIXgwb81cZh9sIKNg+yu7Dxw+et6Zp7zrhisG8rmsOTw6ti+lRpw2tC/jFO566qmrnnj6ijM3/+4vfXyov6QmWwla4ee6aRT4OYxSMz4Z5HIrfD87etROTOdBFXQAqIUTSWJLrCGxYKzhNPNBh57IlRHYIAsikyaekCglUIw5MXfFgkrRLxb7mgcOr16y9Nd+8Rf/9NOfevjhp5pTk3/2od+yJpPGryBZAYGvC/kwD9qOTSZZ6jzpl3P3Pv7wV27/1ovbdg/lg2rXXXDW2esXLC4qDUyQz7fHJn/w5ONzV62as3jp/GI+6ZqqH17/xku9N17abbSk41ylsn9k5I9+62/ufvJRAfBr77/5/e94x7Zv3rH/2WdXlKo9lT6bAIESQuYxzz4QWz+XX33SyTbNyCKSUJZAaUtWoBeEZZckwlqIbdzsqDgzcSYylEKQYOc5H0MZSvbIGpMD3Lh241s2X5gcPhIoGacpgkvBZCwXrVv91LZtf/53n39y+/MW6NQTVy9euWJ6qv3oQw/ffd8jV1942Yq5A912VCiU/FJ/UQRnbdj4yY/dOqdYRReqkLWmnOf5ICnJKMkEsXTMnFWPJA5jkARKIniGgcmiIal9FGSdY2CtlCqE4IicAesQJDsgIsssgZQng0IhSTL4sQnlPxbSga96XT/aAZyRX/8NjD/2guMLTrw65uzHZBkyIzGyc04KYocZU6laARQv79zjEJeesDas9NRH66EIDGFmOR8GXs5Drcmx8P3QAhgHiKFfyMbGMaA4Eh6bm666fN7ilf/nzz61f/xukJ3ynIsacggcCKnJZq/u2s4yy+udWWU2y08VFgwyxCwCWUgxktTT4/UfmT5aGSoY41LiZqemhdb5IGWbLxayUGWktrz84tfvv+frTzzZ7V2fX37l4PxzhpM1TckIZFBBUJ622QlrTtu74/OHR4Yzcij8mfR/AQhCknU/GrEEP7xnHP8H8T82a7JjRhCpsySx1FvVQXD4wIFtL7082Dd44voNXrnkYdvG6Uy5f5IknsrNhFUyzVQ3y5lodDbWU76W7OjVyYPM5GyxmwePwUusSFNMrWXJoQat4mbabUGQR0+2a3Go/c1L1/EC9c5N59+37el/vOeR+556uj1dVz4IbBTzyeGDRzVAtRAMVENtoieeePY3/vzPdw2PL1+wjHNi75F9E53o9nvuvmD9xpPWrmuNHhCJZWGCSrXrbGQg0IFgduMT2LGNo0d78nkthU2tY9Ze6IwRKoCsy2QoIRtJmRkREiI6YAZuNpvC2qKX8zwlhPKKftWbDyoHzu/U6isXLf35W2759F//ZeD53Uajb/68dGoiqOY6cUcDaAO21ey0XaWvF8r5L3/v9j/827/JAG66/prBSs9SCApKtyamU0f5Qk5m2cj+g089+PDO7961fOXSt779prPPeYOJspH9B3pyOQ9ETvnRRO3gvoN7du45ed2a3/j4R89YsoiOjS/u6/U3nVEqlCEo2agblirU6qDNXIEdU0ZO58JuK/JAhbkQsw5YDHLFwENArDXb3I0CC3GtlU+MSTJlpdQeSYrjxIqsoJhL84YG+pf0z7vlhndUhRc3xqO0W+ntIa9LnPUvmLP90MHf/tM/evHIkY2nn/3Bj31wZdkv9A3c+8Bjh7btH5+qHxmeWLFyNfrNlj0S2WOWklXzF29as3b68B6thXVCTNal5zMJilNBTmsE8f9j77/D7Lyqu+F/rbX3vsup00cz6l2yZcly7za2sU0zxBQDIfSEvBDSSEivlCSEJBAgQEJvBmNTbAzGDfdeZFmymtXbjKaedre991rvHyMTcv3e55enEWznfDTXXKORbB2d6z73WVp77+9y4grQI2zzwhUiAMgiqEkRQpFMRVGERuV5kWWsnSYi7zFgB6REBAANGRHP1pEDNFpEWJAEEAlJzb0cmB0KzZVTDMcbYP8bfrawg7mvUQDAe2+MERYEFPBEJqyUp6anntjyVCqiwnCmnfQAzZ+/AJwrZqcyb5Qhi9zMZ8qaSBiENSndWyRHkh7dA6Jn9h2FvvSys06q/slvv/1DHzi0B6r1k6q10VZaqECxA/i/ldvb1fVzpuDE3/9FP4au/0awIKNKWh0sju2yBx+/fOOGVadvPMKpH3eRqbjCx1E83Umk1hsvXJGW+x/f8diHvvDJv/raNQ91RqKT/4BW/FazfuEUDHkE7bwmceUEMg9xX2/7SLztiy8/7ewXX3QRge9kbaXBCZNGZCBAx9YqlRM7w9oIcoKYIdat2FSsCQPwXGReRVEOlKWOSrUZpqEVS9pAX7ru63/+T//6zbvvuebOe9uoa/31oZWLkhClGrR9wuRd0oxN1RapicKp2SwshVoytIghuSIXtoQizhtUCgJMPRgBEA9KwLAYBUYhInGuQTSyWLB5wBJ5lrTF6UwouGLx0oH5Az+69YdDgyMvueTyGECStGmK5v4DF6xed9aJJ0tY/uC/fPqBp7a/9GWv/NBvv/8l519KKe7esb1aDc89++Q6STo+aUKIKFAJVS0aTjC0wI0inXXjeYlE2ZzEi9KASJDHpkhKsz5IRIkSE1O/zwNVqigDAkXAzWM7Hrz/9utN4IcXL2KOJIs8lFLrMyzCqAiKqWce+PGQtN7y8gsXLxrNs0moqKymxsHO5rYn7FE5xWikVr5r99O/93cfVJr+8Q//8NJlKzdWetaW4oGCK0murc3TJO10YqUv2nj6vDB6aPvmbz12VyOE8848uzfzlVYRJGkHE4/NoSHz0otPveqic5bXB/y0Kzq6MrAsHphXHZ6Hhhy7Iu+IAhUZZQ0WEkWlvJWUozIXVlfijhZOHVVj21u76f57/vqjf3vv3Xeff+rJtVBFrY7xVmOuAvHaexCVg2ljnMUnL1n54vPOWblkoXhn86yvXgVrnW1SKZrw8rsf/ocHdhxMoHTmuee97KUvO0E4mGot7Jt3049/UuT6PW99Rx06hmYSV//eDbcfGzv6+ldcvrzeHzaLMO1Q0jQKlLPKeQOi5qL3QLxSKJ4INQbaK+MhYDKiFGsjih2y8wqU0QoJEYAIRUIkPXfeBZFIG9QhoC7ACguxi8JACVub6oCYfBExamk0G5VFCyUI2x5VUGaLzSINg9hlqXYeTYDCLOJJCcpckYUCxEL875sFBFhABEAABFAAWUBDwCCqVBmbnin1DAV9g4canY996UvffvhOJzQ1M33nbbdueXw7qjzsLeqLRyGIsqyI8koFyaQ6bR4rDww18qSdZXFvNScHwpUg4FZatNrLly6o9/j7f/SlTvtYz9JTGtDD3oM2KKp7AqDreaHbM+v6LxVEKs+OWDuy/IxLJ2b3/OPXP7bx5BPXLlreDg41Gy2jTa3WN9o3oPrqD27dfNPtt3zppjvy6gbc8Ddm/nkT8bB4BJcGVkmlVNg8BgszZegNa81njj7woX4dX331a4NAt1uzvrBJYUtBgIRZpxMFxpjAKJVah16xUj4HQjSYGvEmIN/uKDJhHBWZ9USl3r7ZfHbxqoUHJ7NPfuMb37h1qtF3/sBZ57QOb/mnu7b907evu/KcDa+94qWXn3fp4OgIFMXM0b02mDVUbkyng4NGEJpTptaDtshRgVIGNZKHorDI3pQicPbZs29w/BScAAoESgMAy9zIQhQBYRAPLk1dZJJ2xxVgrc3zXFUryLJy/qIP/cVf1eOYjN66bcvd997b09f3tre++aSFq6NyKW0177z9R3t27MiK1Az2lfoqYAPxhF68WFGiUJzlTu4j9gSiCUCQmdkDERMJMCIoRNBBNN1qlGp1E0VTnWP1ahUcqrikolLixBZICJGKrZdqqSRkC9tptdrNRmYLyhIBJ6EKIAxNlg0o8qGBvE1MaIwX991rryOG977+ly9YvLazZ7dtNCeSTjWIwiBCwAhUluSRdbVq/cpLXzL/tA1/8fUvfu/a78wvDbzpgsvYMaUSxwpU6DAvBaFSmrOiSECcgtgD+8JmNu0g+HK1DCzgPXuPEQlKaAJwPlSBTwrnbLna56Lw89d/86Of+UwN4MWXXD4QVmViWmlNLOiBvQMkJULkgYusPVEbHSr3DxUBZWlKmqznPC+CSllFlS995aubtm5LAZD0d7577b49m7/0W+8e6B3afXDvRGPqnAsv6F/YX2TjHe/Gp6ePTk1YlLhSjcvVbLbp2QuKgIAIzo2vRDx+cBJB2MNcKgwAHK+CEABAA8pc1AXjXIwyIohnLUgCpJFZnPPWMTMzxyWFpMATWHZOAKMsxzS3YZpB0DO45Jxd256574kHLr7knPJANNOZqNfrLsvmsmR9u4naqFLknUOi/8+mGgrgs6kbP/tt750gdGZn5s0bbc+0KtXep7dtue7m78TQn4XFvqnJfagfO3rku4/ffvHaM1556SveePWLq6XasX2bo7xSK6XVeFln6lgtrqsqJ3mWZVkQxGAUFtaxzdud8ze+6MrLnvqXWx4KZ7eaykrrSZm25wwg/EXfAru6/nPdnlnXfylF1vsS1DpJc3HSeLQxC3fe8oV+1d83f9HA4LxKT48j2Tcz+enrrv/dj/zTowfHZ054b7Diap730hYtEU9AAkp7CDhLTcUUVsj0lAqxW357ZOqpD/35+y7YuHHy6FHO095aT6g0eRDrNQUoAQgAs0HSCklAA6go8qyoUoYoTFwO6JWGtOg4sJUoqCxcsnti8g/+5ePfeqQxu2gFL/uDycqFrn5+bclpeRhvPbDr+7fd/NTTWwPglcsWxyMD4qtSQNbuRGHdsSt4Oiwb8KADI+K8c0Dgma1n0iQigCgABPjTNgN5UaCVB+WRGAlICYEgCqImKpXGW60f3XHbYP/Aq17ysgoo22iWo3hoYIiLHIzadfTQN35064IF8975jneOxL1je/dVo+Dxxx/eM3bk4nNOG62VXdJAKoOgALNyEnhAm3by9kwSJtbMzYACssLOC4nXKN6wBrKZKwooVFxftgT6qqWRgZmZSW2gf7i/f2h4/qLVUc+o77Bi5QoADy53SqlST99g79CSRSuXLlntM6HMH316y4GdW2tRUA1izEQ5wZ6+XYcP/Os1Xz1h4ZL3Xnl1+ehMa8fe0WoPVQ0g5r6w4sloI0CdTCeFmHj+/IVRrX7jfQ+2kvaLr7g8CszE+DEixYWVvIhIaQq1RWTNAkGohC2RI3JxOWSbjR87BOTDesWDT9M0UKZoJyoqUVxKnY+HR/d1Zv/80x8/3Gi98aUvfc8vvT57Zj9ONlSsSQBYWJiBhVgJMxesvYTslG9mbWGplkog0EnSuN6//cCRP/uHf57y/NIrX/2Wt/7Kg/feMX5o32mrVp98xpnf/sGNtz18z1ve9MZTTlw5NXUw7g2eeObId358U7uwF194wZpFi4pG02hFCjEwikjN5eYjAgKTwPFR4nK8nEd8ducWC4mACIiggAiigDAiOmZmL+yAPcDxq0ordDazeSYA1rvM2xyZFUU9ldJgIP01Wwq/8N1rv3ztl3fu2vLKN72pVK62piYKbzWiQiRCRGAWrfXcIDSYW/dExGe3rv3MvrO5vLTjPxGjwPuACAE5t6i0M2b3M/uPTO1tUVE74eq+U/6kZ/WVk3l5fHrmljuvfXrnMwNL+k88ed1080iRmnIYBWGJ8kan2SpFURyFIOAKS4pAqZnm7Oj8JXnW/s5dt7WjeXHvOYUEKkiZFXRHl3c9H3R7Zl3/pYrUqFrikzgvNQbP/CAcu+bxTbe/6W8/sXqovXL5AhPgjt2HD86aVumE9uBrTjz7ygneYLXBoiNZQ5sQQVtxABkE/TbbB/Eyac32Na/Lx3a84TWnvPHVb5rZ+iiCCxSlM9PaizERIoEyWQXSpI3eKgByIKhAae+yyJiZdms2y2s9NSiVmnlh5s8v1weh4zc9fd/7vnLdHfvzvlPeFgYvbwcasOKq/lh+ill44uDq907vu+66Pd+55+l/+uKN15x74cWXnHTxqcuX9g32TWw7GNWo2j84MdkuSV7iSEDYWh1gqA0Bz/Vd5oYHHN/Bw3B8zSefe0MFRSSAQAhIRIIBFc5Vw5gLnp2eAQDSSozWqZvcuQdj3ddf7emtzesxO3ft/eRHP3LpqjN6KqXRBSOq06kC1MKSQYgCVSReBIiQiBG9OJDUQyLae0QPSoQIBYWYAUBEMSlSQYCJM3F/32NPb9v6wOGzX/aiwXqV0UFQGg6r4EPbsc6iiQIDwIVTWon1kMNg33wY0oAqSxKSzs6n9ySdifkjCyDIgjAqBJjTY77dgMzEUT7b4JnO/J4+MKa0fLDodLIsa2V5niexprisi1aux2bA4xUnnvnd+Xc89uRTD2956pKTTg5qFe9cGAQaCFJnp2fQhEHvIOQ2TWa8K7RwFCJA8eSmhx5//LET15901rkXF0VaqVQAQmMptX5yYqJ30fy8Hn3luhuf3H9446olr7n85dUcZpOiXKq0i04MSgmhZ0IwGkWctwXknnOlJaqVygLae8ssKoqE4u27DgAGg709v/e7v7lyxZIbr/nXXVu279i7Ny/sfffdGwGsXDCESaM9Ndk/uHDvxPh4JxGARtZJs0xATBA6n/u5c42EKDQ3OGwum4XU8SOOAADw7zvzmQAIkec6VQzPTrg0hDAXHSsCHubKNSA0ZlCKAhQ5thJgGIVgVFyt+LBvJs/uefyxa26/oeGSezZvvuF737n84pfHvb1Fu+1tYRjAaPCeXUHG/A/rHYX/MckZAUBEUAEKkAnt1HRUrc02ZteesOYDf/lnf//pf/jS3fd725+ZjUdsZE5aWoFnDm+66cantzz413/7kd//zVdfcFK60x3YtXnR6GKgThlLkFpRSADoHKrAaJ0JcWd6zcLlp69Z+sD0/oBbcUCpawMsAmj9om+BXV3/uW7PrOu/FAXMqaKYxZcTl0D55J4VqysrT57s1B45FOxo9OcD59CSVwar3mBHX3GU1yGCUC6UgEahEnhtOCub3KpA/CCYsSXB2PTdH3jJxsonPvjZ5jNbp48droZBSRvNoINIkApUEIZTmAnpSm9/qdYPWArjvrBnXmBqBdmeefPL/cMUhmRUqVpJvWx++pnf/8e//cj3n3ky6Rm55B9b4RlJuyjVhtgflCKkyHqVtqSHSmcPLLw8Mb1PTx3dtGXf1773xX0Hdq0/ccW85WHqCucGwrBWIkukCFABgSAAKW2UMk742bNwCPzTrTgA/GyPgXDuAAMQIiIb8B48qZ/cc++Rycnzzz1n9aIlebNRDqpQ5CLWoh9dvLBUqe55eusTj2665+7b28eOnb7+hL5afcXipZece26PMenRIwajgDQJoFgQL1khTQctH/tCiUNkIGLSgKRgLj9dlKCQUXE1iysfu+brX7//1qIUnnnaaaigNdtgC7ZQWS6xCUlpJEUKKCDwuS3ypJPanJ0VDGtBGJH44eHB4fmLycSgK5nFpGaaAVx3+49tkV+44dR5ccXmaZ53gqXDqhSH9Yqulakcleu1ar2mtA4LQ4Id52a8fWj39tUrV5yyYnWNjEuTKAyhsAef2fPE448leTY8MqwUWpcqxYFCJOGs8/TTW/ft3zc4PLR04XJU2rIqrLSsg0p1aM3yQ62Zz3zv2n/5xpfTQl6y/pRXrjrFPbO/SogGEk4UKs0oAkCoDCGwd5mOdFStUDky5YqwJJ1EKx3GUeL469+6dtvRfWedds673v6Wz3/qn27+7o0jPcGbfun1tbhy7513Lh4ZuvLC83q9gyyr9g1ce+8DDz35lNbw4nPOP2nREuzkgUbrbM5OvEcPwDLXNhMUAUDxiHR879ZcGYYgIEhERISERIBzDVkURBLweZFnhXhRRoMJvEheFAIVIcMmhCiuji4IensOHD7y8KYn/+3zX/rst772T9/+8hFMGgKphnvve/i88y5cMG+g1UmAOVCELKA0aeOKgnBuhsDcB8qzX1lFHsHTf/yYW18lBWmuFIBRCbskz4ZHRtat2zB5LNs9fiwYXGjrqwvdn0ZDQe/Z5XplbCb/8S1fgtSdf9ay3uGV0+PPmLhCEoBzIEBakydkQBMGWjdtpkvlHz16/55OvbTgxVbFznWAegGKX/QtsKvrP9ftmXX918KMdI1bTBViUElQS9rLoLII114ekCbvGp5ZaxeEngigoCJhRoEISAuyJwRnsgKUKlh3+pPOxCO/uX5E/ujdv02NY0kj7y+XxdrCWwUIjO3cmXo9rPcMhMsOHz48NZYq5RvN6SRtKCWFTZU7lkEMcd+R6dn9Rw6NTzd37JveO9Y8uvSy0csuLCcXHy064FkPmySZgmwEogZYrTkQSQvVno17eclbw/lv67H379p0w9ee2Hr7H/z2u375kktOO2tRb619LEFSLksVu7LWQApYgD2LF40yF0Mwt1fo2XUeMXT8CCcd75IICyKKY2PMYKV+8bnnf+7737n7/vsuOf0sp6mYbZZqtRLnU41Gqbfy6ktfvKh/ePOmzbGpLRvoHa1WXvOSK3S9v9VoHH7mmdGwhMoBOABCByIAOZhCEJRhB+IBGZTCuemJ7IWFPIKiwjoJVQ50LEmmAH744P2//NrXLurvpU4KhSgTG6W0NlmrodEoDagZfB6WS4E17cRqrV2gOlm26NRTwXaAGUCzKEFPGvv7+8457+xbvv+Tu7c/sfr8SxsNS+jcviPlchkVmcj0V/uAAaaa4nye5BjXVaRb7UYd1fyevkoYpkenAMAWBVnbareb7VaftyI5M2nDGokIwWbsZM3KtfNGFo0uXAAmFCst51kFpZFBiMKHtz/9D//6iTse3dwSGCjr1YOjgx7BAruihVaXNVgERhRSSAAk6EkZo2NhSpsJQYAmCkkHmrxY65NaOVjbM/rqCy9K9u+b3L5t4+Lh1131S5ede9HEwaO/9vo3koZhrdOxyYHhYcnp6NgYARiiOAgjFWae2RERofDx9e5nR74iAAggo8hPJ479+yljL/7Zs8YoCCICQgBQFDYqVWNjrLfN3HqxJgyDehVcGtZqU0n+yJZt93/7qSe27dy591CS5X7BmTNyyryXfTiJVyOq4sBtrb1f/etP/MVn/+ofStWqb0IrTSuESgDmerA/Xab8j7EaDPKziYHH+2cIdPwCsxgHEKkwUMcas8ywYHHlt9/8mq1/+eFND39q4IJ548EqawNb6TX0iuG+VYcfS/74s9/Yd3Dfe69+8+oV66bHZvow5SAgYCUKAMB7Z50LTcrhjJ1+avcuGN6QSZwXAagYIPlF3/66uv6ndCuzrv9SyJHP2kF9uGiNgYrAT0NYhUKkOpsLAoeQCzCDOFQiRdtDGVgRGvFWJAGlvYm9i5WerBa53fF36sDWj37xA+uGR45sfiKo1Mk7YgmMyTMbVEq9IyPHsvTezY89fMetO/YeOjA+CXEFAl1wDqrwLus0lZRHoL5kwgZFVK0uOA9PXCmnL/Dp8N40gtpRcvOYp7hVA0CoCEHEaSIMJow8Su4IvLehPqDO7jnj9N5g+477PvWHX9y3+ntPve2lG197wSudDcN6VdJOp5No9giECCoIUNzcvmiYS4EC8IQMAvp4pBoej+CYG56D4JjYBhRuPPGk8g9vuPO+ew6+/o0jvTXpzIJzwBxYaR8eD/v7Ljn1tNOWr+0dXgCNaZmdaoxPkgvTwg0OzcfWpOdMkQKJBAIkQLQAQCAoDCAgIACMzIhq7s/1AloLWwyCoF5btGYNPnrk8d0Hb77n3lecd+5wUFG28Dk7Eq+sjaywBwVa+cNju4mof3A+qdC6FDUmRSsolwpxYl2kEDiPNRYzrcF5/Vdf/vL7f/STb/7wexsWLTxz0SI/Mz05NpGFLUUUhKEOQp9bnVpKCluLoCeYxPzeJx4aGhpYv3YNFJZdUYpCEE89tVUnrRmYP1Dvq2NItt1mYEAwwpxbEFowumxBHAEQM7XYl4bnT7WzZpY88uC9H/zIh6YYrnzxhTsO7x8/eDSyHgqGZpOqFFeCTBXsxSMo1EDKi3hQCIFzgZEwjmqsIkKtNRc288JxGd/5ptdecbixdNkKe/Dge1772uRlLxkdHYWxmTj155x8OqgC2jMNm0NU2bT7wN7d+wjAkNJIJKAASUAUhWQUgxICPh74giyCxzf/C/80C2ZuUxeAMCDObU30SIAImhAVRnFG6JEkDMxARIpm2s3J2ektT2/etGPfbQ9v3T3jpGep7lkfbXhZpWfkSOUNmW3vL8UCGiSvLDtz5tBdt2zacudDj15+/vmlek+WW4uQpakCjMoVyFIghLml+WdLMUTUP03M+I8ZrwpFnMcwcGxRh9b5gb5etjy+P9m4as3vvvqSP/zy1w8/9Rmz+rdssBzYd8KRjIslF33w6JYvfOWh3TvHvvD+X/6V8zYu51aWJZ1itlHT2gRR4pJcvKlU46By2z33HetE8dCGTGv2iBgDe+nOAOh6PuiuZnb918rLUGHvJ1TYbxwq74kyRoAUwRklBI4NKXICmTcQikZ0oEEFbMQDIqCygqko7bZ+dmj6yY+8/62XrlzbObSnp7fPZ1OVuMTWGjLec9hbb4Ncd+stf/GRv73enTKz9PLs5HdOr37n0SXvPLzwVyeXvOfYov8nXf3G9pp3He1/Rb7gpWr+i5p6bQvWtLNFWoWeWgpLnDbKOAzWU5AxThpbQ3IUWKssMIIKwNlYiiyqZgAdWNQzekm9f9mxw63N92+5/tov9PaUav19w0NDQRhqrRgw884CKgQEmBsWjQAegQkYkQ16ZCZBQkYBYUBBQvJCoky56rS+89GH9hw6csbGDYvnzTO5uCxTwmEYGKObzWaeFn09vfu3P9ODjFkOGIQ9Q40kLRmFLs/cDKERMECajCEW30l9mpkiARBQwlp5VOyFPGsQFBL2VkDXe/XQyFPHjt6+9bFcwyP3Prh4aHDV6OJatc8wZC5v2zZGUIpMbtt5OvvoI/ceOLB/4eIltcFhn+VAPizpxKbNpKMNifWaRRsdRxWXZFGlHJXjp57cvPmhh09bvWrBwGClp65AaSGNKmm2fDuvh2VtSrYW+J7y9x+99+6tWy558cWvfeWrJvbsjzSB+KTTIhTUFJQDEwWuyAW8CY1RGtkTBaQDQANgOu2s0BT29SfKPLnrmb/96D9+8/vX9dbq73/fe9/xxjft2rv3yc3b3/Pq1y7OBFodQNfxHQ4BCo+ONIWgjYA4ZgYOwjqbUJUqjgFAtFLWZiYwquRDFS2etygSrMZB3pqdv2RJ2mzlB2eqtZ7O9EyaNcAWYRiqnr6bHn30+h/+QADKQXDFuResHVmIeU4E1uWAAJ7BA/00egIFCJUgAtFcF02Qju+3R0WKSKNSiBqVQWNMEOsg4HIMYZCAP9yY3bRn14/uufPz137r01/98tfv2PNMI2r3bayedHW87peb/Vc065fOVM9zpgPQqYEtOgg0yIVatmCkOTN14MHvLVmydMnIaDkM0Tq2Li6VRAS9n6sPAY6fVJhr3REjspDAz34gC3uniABcTj5FTooiCmPIPOqBfGr8jI2nbdvzzJbD0/2LLgccKdweCdFLrcHlSv2MSk91z/add9/+RZ8eWrB8Tf/wvHKp5DILniUIfCnMIwVl+tw3r93V6ItXXNUxA2BYiSGOGe0v+g7Y1fWf61ZmXf+15goaCYW9J/aKeC52nGgu+ggIGIUJRJFHFJUY1gXETmWhnvSqxFAnn6yY/Vq2+yd//c6XveaMdarR5rYNBSIEWxRxuTQ73q7Onw91/5lrb/jz7+w9etKvydo/asWnzMiCpqulLnCiLaMTyqWUWwRAAXKsBANABpV5sIBGGEEFlgqvmYFAIo+OERk0iAZAYAeEDpVxlrnwyqe60pJ5pUWn4ZITd0v1vkcev/Ynd+ybPZiyXbx0XVQbahUdiYqoKOVJ6nzOgfJRLCY0gEYccwVQeWZSAsjOe2W0JhW4IvfWlyPfW952+MCunc/0h+XLz3qRahU+TUGTi6gIKWdLeV5yUvUBiWE/a/qHH96T/94/f3L/1LYzT9kQGu0cBUEltx6QCC1ImiRTxExGEMQ7IAkiHRkgsBYRUQcC2My5PDI6LXDfts3TWVIFuPehRw5MT9ZHhkZXLA0C4jSHnEuUBhqLJMnSzLIsXb48iGIkn7ezSqjjTuPw5kefuuv2wVq52tfv8oxQgc1iHZy58bTFS5c/+NT2r91111PtAubNy0v10uAIBZWoUje95VYF1ILafh18+c5bvnLbTevPOuXX3/m2AaNsaxq4yCSp1iqEmHdSYNRKoSIkwgwIQ5AYsOSczlWUKIO9ffHggp1Hj37ma1/+0D9/bKY19dpXvOLv/vjPL1p/hh+b3bT1yR0Hd65ctuS01Wt8o+HR2zCIZjuaSAw65QgZkR1IKkK1cljtl6BPmXJhrYlMh9nHpdLoiC1yYtecPqY9Jq3EKFSKIhflOAUlDFWEIFAZmlTxBz7zdzsajdjoPqTXveiSxb0DlFlgr4lYDIEBZhDGAEE5h7lopzyAUkAKVYBUygspCmWCejtSPi6rar/qH+FSDWu9E5nddXTsnkc23fHIg//2vWs/fu03v3LbI7fvtIfg1HDJ65oXfDhd/JrOwKWNYF3D9nuIAS1wGzwDRjlHqElBB6loUA0WX9Q4dvt1378Bis5JJ62pzZ83lSaEaNiLcx5RUIvSXsBbB+JJE7CyhRNxrkiEC2UAnZWiEA0kAkQgHlE0UdHolFQYxYWzrUDXRwZGrvvOpybyMbXgJGfWUMco8gZVJ22qvsXxwguPTOV33XfNvvFnGnna0z9S6RvOwlI0OhovWThepP/86Y9++uZNef9FNHoZUh+ieJ9xGAD7/9M7WFfXz193NbPruQ21Fw5CUxTsKGIg0smAP3jo4Zve9OJTLzt1bZltkSVxGClNRQFRrLLppNLXB5Xarffe9fHrv9MafGl59Mrmz/lhChjSyODAe8C4wxGYUmnBQHnVBXuf/PEnf/TYv37tu7901s2/8Za3nXnKeSCq3ZmhRkU1Z12jZf1UXK9iCTvcwaJTrlSEmZ1HRvCKGIAdEIRh2Emzgb6RE5auuAHgkSefONyeWUCiKuVOe6ZWqXbazYFanSHjLKdS6K1Vw0NMcM0PvnX/1vufeaZx9UXnrlk4nHSaAXgdKBH2gEwoRrFCFkIEImIA9p68FxHU2tsCTdBOOj0iS5YuasxMzRvp/fUrXnHjD2664Y6f3P/wI7/xjne+9bWvrYRhOjk92zgSKGVKPaedfWGWZWFQbszMlOJaSALim53Z/WMHjzQmUrJQIkYC8SxYJGmpVLn0vPP7a33Xfed7t95/530P37Ogf2Tp0GhvXBrorw8O9zfz5qHxg4/s2L13fPqCC894/3t/e2nPQGPfwbLSQWwKNFmSiZNypYpGFVmnyHMdmiiIsjTPM1eq9CVAcW9fpVpR5fiL373uy1/+4t6xo6P12nve8WtvedOv+MmpvVu2LD3pBE9gPfT2901OTsLMzMBAvWyAggCUsigijOgBCBQHhkygQDFLhhBGpfjAkcML1q5pZMUPb7/vlLUnzOvrkemmCfXwvHmdJMuKrGIwLg82sgkdwNQ0jqxc/OSm2x/YumtwWd1NNwipPFB2UdFqzWrwpIRCRaCVI7QKvBJvmEMhZEQRdCApCEUQDw+FpTgDrmAJxE3NjB/as237vn3b9+x95InNe/cdPEJVKg1Leble/Kr6/DPz8tIpLk2zDrnDQgAKhObSNwARYK58oePzmIQAlYBCCfrP/dje2z7x99/58fjMwbe86uqzT7kYrIOpcUBNYF3RzvMOIupypXCU51bVDxsa9Fkt0hql1ZyeDKAnCoZRTYMwFznpMGunYSWsjc5rHRrTLqyYgFhWrVx65rr1dxwbH1CNg0UmUeqgcFTB0nCDM1S91fVv6Vm2+M5Hv3P3/Td+cfBHJ68YWjw60Ds8OtHw9z+29alp5KGX1U96ra8OFs0CTQBE4NNuakbX80K3Z9b1nEYIbMWDAHqkSFAHyc72k19cY7f8yTtet2FezY0d0Q6CUoWdLWxhfCnHPOittdz033zlC/dNnjDv/A9MRBrczzdhkl1IRkRyAAYVexdkUIZ43jT0Qd/JKzdeGfSuemjL09++6Tubnn5o/7FnnNMDIz21hX1BbxyVwkY7bc4mVVOPq4HLrE2twZAwRCTwHorCKWDBJLe1/v6BwaGbfvCDqcbsyPLFp5x2+sz0hFFKI6LzBlAx+LRIMU9dEffWnj5y5O++8fUj+XRh+YqzT1++bEXRScmDMGilFIEUuXcFtzMQD+xFlIgWRvKOmL04VY4doarUfK3+yM7tdz7x8MoTV37+Lz+wZvXa2WZ714FDN993z+annt546qlDC+dr1HHvQMGYe0QVKB2JxyiIKUlRgVZQqpfrw0MLl60IolKS5yAaAV1m81YnJLN49ZoXnXvuOaeeNWWzyXbjqX27tx45cP+e7Tdv3nT309se33+kOi+++nVXvetNb1neM+QPHwtzZ7ThTpI6q1ETqDzPnXXKBDowAph0XLtwpYHhIirXVq50UbR3evqD//CPf/Plf5tut684/8K/+6O/ePG55+eHj04fOjzU19sid/P9d+7cs++S0884dWSxmW1rYJ9mChwoYmEQVoReXCEWIx3X+6BWQURPONlozF+1ypfrn/36t/7ik598csvW0YHB1cuXJrMznNpIlctBvy5ljXYHFeeFr/Ut9uXoTX/87gOu/Ud/+9uTxyanD029+MxLhstDoQ/Lul60lSMsCnAOLEMmYgMNtRJUIi5Fql6JhwZLAwNYKVtSh6dmt+x85pbbbrn5nrs+9o1r/vGb3/3mAzvuPap2+eXZghfxhR/yK16fzntlp3ZeJ1zVwpL4HChFb0CMgBZUiHNnPD38+3RJQkCZyycDAqBpv3h47Zliyg9tffL6274/1tw329jfyCbU4noRKeqph4NDqq9PesswFOqFFQCBkikAAIAASURBVKOWeFONe3pUXxV1FNYGdaWa5Z1Gp2N0qIMQHSgyBJqTNA4D7HiNMUuh+yvTrea9994V9i3tVNey5AAeWCtTExCAII8XFHrZgg1nTQbz9qf+8cMTd2w/eNvO5v0HYEej1n/G/2MWvdxW17ULBu9JxcAImP/MYNCurueubs+s6zlNCsHAiM+V0t4ZE9pqus20H/jDd7zunDVL0gO7uZWUozqwWGvDMARbUtWONdHeo8ktT2zRay6cohFIDFDn5/tACbwXEAfkUHVECNhbQRXN90VlR1Pi0df19G9o7Lzhu0/f9b0HvhUW/3b5OadeuPGUM9ZtXL9mQ295uD12BEk6HckzjoMqqrDIOs7nYURYJh3XAbDsOBmbXDF//qXnnPeV2275+s03vOLci8KBXpWkNkliE6YzrUAbHURRhMgkQfW2x3+4q7GPQwCAx7fuvnTDaUZpck6sI0RQhkjHUbkTtIvcM4sBgWdzQkFrIA8aZmcbAyPzcw03//AGVWTzKlUqsgs3bjzzlLO/cf2N37juunseeegVb3jDZZe+6C2vvGrp4iW14YU+TTtT083pdoQajCFTsnlBYXXB6pMX5DnoAHIoQayiElgfhgY8tMemsqlGZbBv46qVH//QXx2dmDw0Nj7T6ew/cmjs2NF6X72vr+/0lUvWnrAOZtKZ7ft6KYSwAu0GEVZ7e32aC0BUrYBSImx9AeBr8wZrUSlhKMhcf9vtX/zmNTv27ppKZ3uG+v/g//nNN11yec3Bkce39lXiwXptujmL5YFKGKcF3PC971z2ziXVQLtGi4idARKRZwfeF946BUGkGYXEsYKUfWWoH/oH7nrssY9f980Z5Nu2PHXak1vOO+10kXHFRFCBJMiV6LANXFa6JxyufPL6r2w6fPTCt56+/qJTvnvdjdO5SwQyyFGaolSmc9Xba/MiIFUtlVWpDGEEDM20A2kx2WhMHth3aGpy5769W3ft2rprx4GjY+N6oNw/30cLgxNe2jNyBlZPmskHUt1f5Ae1CVgZFuC547EqIl1hl4GQEIEQkMzlncF/nDGLQoxAc2M0JZ/w/eWlvzK07NIj277/8Xsfk2/9uMe1Fgz2Lh6ef8KKVYvnLQSAsZnxieZU26bcofHJ3aOjtaG+3pG+0dNOOG35/CXzF/eXZk1rZrIiRMjICjy4wppKiAJgXREW1meveskVN/zoBw9tv6k+dEnDL4OYfV5gZ0Zp9gbAmxQr2+wGWLwyXn61sU2NgBQkOZVNZQxt7qvQ9hAoXalIZpk9mAh8dzpT1/NAtzLrek5DVKIIOBcxIBzlh9pP33BBX3bZi17kM5t0bH/PIDCILZBFoQHtc9/r0P5k84O+dsbI2kv35Q3AxQA/58os9OAdSEBOiD0p8Mp7KPzUEdMTWEhTD1m4rrRiUf/yq0M/cWj/ndfvfurG+7934vD3X/PiC6966StWLFli09w006Acc25bSUvYR6UIQxLg1myDglDHcWdmNg6jX339G29/7KEHNm/56veuf8/b39Y6nKAvwFMcx957CMIiz1W1cqxT/ODBu8wiML2B3VVMNPK5YVEaPJBAbgGJKKAg1NUaE3DHMyitzNxEJhCLEWY+4wAtOSAhawOQE0dGs6mJLOWe/gVvOO+i89eeePO9P/nK96657kc/vvPu+xYvXHjO6We+6JxzTl65tjTfQKs9c/hordbjbO5dHqVKLGBblAVinUsRAKFlIFUJosLmdqZJaZY0jo729s1fvgzCCOTUNEkCRUohzDTSx3fazMY6hCgAFmsCcNZPNQGViUuOdStJPHOpEpdqpUOtZPzo2AObn779oUfuevwhAFToCfDyc857wxUvqVnoHDg4WquCwenmTFyLlTKnrTnxsZGHlJd20iopDMoxeM/YAVSAiCwsyKhVKQxrdervBRGKQxDEnvLB1sS7Pvj+A9zAMoQdeOrA7oNHx0ZKNZ0SZN6n3pWt9TlgUBmoTORT/3z9Z3khXPU7lz199OEd49vDgdrg8lV9S5fMju+3OtD9YRqmLs+TPNs/fujAgQN79x86cGR8fHJqYnpipl2MNe2ML9l4yMdDYe+V9ZXzBue/DjBMcijApMoAKKvagK1S0QfOO0hZOzLiETwLewKJn92rL89GHv8sBiQBRgCeS99TlvOsJVEenKKXru8NWqWTt/n21gP7Nu9vztx6776ifT+IUDxk4gWiFjB1XLq+UpT46WPJ9N1le92ZJ6x86xuuvuTsC/t6RjuHDmhrq1EveDKh5lZTxVVwkvm02Z5evHLNG6+85N5Pfi+eetCXV4EDCJzyuRFVoBTSCYKogBxAUhekrs8EgZB2kAApcAQRA1sQzUXO3FZBGbDmYfYXfUvr6vrPdSuzruc0BgKbo1LslS5Rb2PnzOH7r3zXFdWw2hg/GkQVCKO81SDSQRhCIVPO1QdHpuPsC7fc1iidn7eWgC6F8UT+cw+YTIG9VjEK+gKUMUYxehtUlHNN8G2le8jXOtzT0cNA05XV5w+u3AdTd23bf+uHfrTpWw9tP3ftyvVLl56wcGD54kUj8/vCIgbrs1Yy1ehEcTnu628XmTIqjgJuJ2uWrXjHm9/8B//yic9//SvzF4y+5PzzUaliaiYMoixJDNtCKIyjW+6/7+6dOy7/41MHly/9wruv2zM1TqWa0WDTIwaNsEMMIIqZM12vOvTAnnO0wiQk3ivwLS48gekpFejBFm+++nUn7995/gUXRoDk7dimR+cNz1852Ddy5UuvuuqK79/x469+87ont297bPu263/wwwvOOPvcU04+/YR1A6PDLRCESLIstQ4dkueIDGlVqDSsVCCzkBVAGCjjxLnMKmXT8bG8sFoHlVI58uxsLiDaqyh3gYlyook8I62iSjki1ZqZDssViKJcUJUGaz2VmZmZx7c8/Z277rnpjp/Mek6BchAFRRXprNNO/q1XXx00W+MHjvTrEJx13sdRUBSWJmfPW72u/s5fnz8wUPW6M3skjgM328BS4BCYFQh6QTCRKVd1uZ9FeUOtPI2G5vla6Y8+/Ke7W9NLLlu4YcPq27952zNThzuk9dBo45mDyEWtvxfLVLRrvSM9SZS8728/vquZvP4jZ832Hz6w+1BDuDfAex566OjWp6YOP2Mz32rJ3my8k2STs61DY41D01kLYlUbCcvzsf+ceMGALs3rjUYlXNC0lXYRZbrsZBqcBg5Ql8XNRa86gCLpycEzeAWiNQVG0AizlwIZ5oaRIzxblhH8+6QleLY4AwAAQWDUFIigKxI08YSrYnCW9G009QClrWi2qhOtNXMpt+W80FGJyXHS6gxVcAkda+y/9aEDt9zxoX/+9ddOve7SszYOD+Bsw+WeBKVwSgdQDlzaLDh3HcinJq+4+NJ1371r27bro3NektkIVOAiQ3kELCBpIRSoPmsTYxSGPi9ysDmEJQgM2FklqfcOfAURTaCZ2LfbEP2i72hdXf8TupVZ13MaKc1gtdY2Y+cnprfftFhPXXT2i8LAMJHWmDYnRbyQMSoGoQxsRM07Htq5c3bF4Pmva5Q0Fnk+U4Hyz7c0Q4fCSjSwBhZfAIoFYO18CqgU9RhXzosMUMA4UNjOs0yPQt+ryoMv7wk7Bw/e97lNt5YfuaePkhULh89Yu+y0lUvWL1862F8v12qBCshZId+0mfGu7F37wJHXveyVT44fvvGb3/nnz366Uo1OXb4yqsRJ4XxgWFHP/KGdM0e+dfcNeilsfPWq8tAQLIRbnrh3065dp65e6EKEPKewzKBMiB4MKjLggVmgEKu8F0ERkUyJKFQG0WAQqfPOO++8F50Hiief2WFIzRuutZqHI2hVenvF+V+57KXnnnHOI0888eM77rrtoQeO3HLTzQ/cvXzxojUrV5xx6smL5s1b3DcwUOsNWGyrkxfeOTeRJykx5NYwluJQAXoP1lsw2gRxFGO72WnOzAahBhBmB0HFibYiKozq/T2NtDM+2xis9tSXLkqtazJMttt79u7ZvX/v5s2bNm3atK/TTAEy0KWeHu4w2WLRUO97fuWNJy5b2j5woKbJF528sOXBPkiTuFKGyTSuxkOnnE7V6tSWbW2xOs01cqQj67wIkNKKQl0qqWqvBBWrdeIyKVXC3v5Pfvsb19x6tzoBrvj1S1evGrzlztseeuLA7Vs2LbliKQ73p80ikwREqgtGJnnmo1/49Ffvv/tFf3DKypcvOBQ8peJRKMPMzuKvPvH5qGhY3wmMSa2BBWeQKatwQbR4afXU1eXSkjYOZBynvjyrFCACMxQAQBAREEUePYADp7GwxDyXzUIRFAKo5xKNXeEcAKCAJpiLogEv/6Eam3tf4Gc/MyAcz3hhQB27ogBokpkADSJ1kJqlDBwC96EMgxVxDpBVWWWph6oBE49JeCyp1kaGBxae29l1+5dvvn/LjkN/9uYrLli+qHFgPHCmagLwAuydyithjKy43RkdWPTml135wc9+mooHIDg7cyUvRYHOC4HS4IMCWiCdonBQiiBmYATKoNMwYcQM6ElEGJXnkACg5KG7mNn1fNA9AdD1nCYCIJYZwVSDoBnu/tql893Vr34HzkwUrRntM3Gd0kDN5YUUqCBsxFmgF/7D1z+zqSP58DtyOwpBA8Ma8M83xyiUsmcvYIU6EBZgCgALoYaAQBkBcuhAZ8o4coyFESMMxBLkvtrw/Wm8Qs0/P1r1ijByu6fyh57aduOtN992zx3HpicK4slOS1vunTdkQlMxBks17qTRvMF155y5b8u2J7Ztv/Mnty9cMH9kcHCgbyDsrQtBC4tr7/j+l2699dSrV614+eCUNLBV2v/I0WpGZ56+Pg7YWUtBKfXi0FNJGyCDqAG1kHhEIE2oNRY1beKwOtCvo3JYqk+MH1MgWbtZCwICz5DFFSOKx4+NiZMQVKleO3n9yWG5et/Dj0xlScPnu8bGntyz/ZZb7th/aOfk5MTM1IS1BUVBqa+mapHpKdf6+6N6RcehRXboo0opqlediVLnTVgOo5KO46BepnKAldDWy3G9J6z3OsDE+7BeFa3Gpqd2Hzp45yOP3HDH7dffcss3b7rxx/fds+Pg/tkiyxGs0lQp5+w5T+sG//A9v/qal1zOBw7nrZbLs0q1ogmxsISQzTa16GSmEYRha2q6Vq1UgiBvNEtRpI2yzEQmCMtBVNK1Xqr1chAl4rxStXnDT+zY8Zcf//upID/9NSee99pzZ+3BtJUd3Dr1zFN71qxYvXzFMiyFqlZWJbVvavuffvQj33tw85m/suGK33rFbtyZV/bDk6VN9xwlOLPSf/HwhteH69+Ap77Xn/RbzUXvtIt+KR16Ubu2oRUva9BAhmVnysZkzAkqa0IRzEHlQDlwx2GdVQAAoOj4oKQCDVS0y5S3BAWRE7KoAFA/ewzTH49JOx7k/9M98gjgARlwbgYUAwA4YeUAUogr4krEZeMlkI6IIo1ALL4ALoCEkMDaqjdYeOcACMVQRlGq5kv1lGW19v6dO3xr/IwTVg/39BftPNTaFxkYLLgZR5VkNjMGMxusWL7m1hu/sLMhPX2nWTXCmAVGvGuDdoAEfiaoRIIh+ABdAJYC0Mjk0AFXgctAAkqBC4WdClJh84u+pXV1/ee6PbOu5zTNuQToHSrXWVg8eOTIY+te/JbqQNgeO1YCxQC6pzY2dmwo7heUDrYHTHXi6J47793df8UfTRlFrqAcnW7+vM9k5ZiABgANrP99NJ/72fAkBDCeARBACXg83opQfu4XC6hPFjDZ93vBUFo109Ta/vTeu5664+Hwe3erbGLFuhNOXbXi9BUr1i1ctmzhCrNkgSUZqcaf+cAnP/Wlz3zx2u+9/6OfPfPCNZdd8JLzV184T9eu/cmP3/flbwxeDYvfPbidtkZh+fQ3LL//hseuvfsnF11w3stPPd3ZozqsFLOH+6se0xaE/bln1VNWtYp0bJ5bIoWIsVHaGBMGEGjxWW9Ns2srkIKUmAhYIEdimBf2gRecaURtLhpOpmfSpFMQSBhihO0kFYC7n9h91+M7FMCyxYsGqtWTVq+e1z+4cnR0+fLl6BgBRgeHDRIrTUpbSKFWmgUJSkG73Q4DbRPOs9y07dOTh49OTCbejTVmD4yPH5ocH5uYfObwWKs5C+y9iAB4NBCUityDKAQFbVcyZITf/arXvvOXXt/YvSfsNGLqUboCbSJog24BpmHJgtOlqA5FUFYx21Qq5fKqpVz4IqvkdrLcq4DEFhiUIiBB8LnKBhcNH2hP/uWXP/dUqzn8yiUv/t1z96jvyrx85atoZlpt+/KRN//ZH/7aVe+58KQzuZ3euf+OL93zmYl+ePWnVi083zwVfaHp8nm8jHwCByDa8O6pyro2VPOsTmmbAwPesgcADaifjeJi4MyCAoyFwRYAEPzMZWaBAQiY3fFvBGChA1odfwkcnwIGAB4EAOj/J0jiZ9tKNDfc6WdekHORGjHkPPdbC0KA4Nnp6Qio5/7/DACkmsGzARxe5v7Lgh1o2ld7r6zu+fKjv79uaeV33vQbncahku9VhQBgCXqh7SvMpQ4y5kG950WXvvaRB/eGvYF1MwBlnxYQCnAFrAdVL7LjL7a5v0oBDBpBjEB2/EXPHpQFAG/jn+tNoKvr/5ZuZdb1nCYIIAoQRVyatJSyg71Vm2RR2JtOT8QReJZytUalvuZ0x5fC3pGRr3/7n9XoOlM6AUCLyrxXxyfbPB9gAEWqprJhrYeD5SdHy49icqDdOPjQwU1PPnj0iz/6cs1PbVgycvr601avOmlkdOEpJ535B3/2++vOPeejn/nkjXc89uO7Hjtp0Xdr5J4Y23HeLy9e+85l4ag7lE+zZP3DC9e/YsHm7Yc+df1XT5i/bEl5YHbmyMBgPU+mQl3zTgJTRhLwGNaj0In3HhFJK1AERPDs3EaFpBGLufwrBIJn5zQ+O40dSdrttveeGcQ5IA2kldK5tR4AAbbtPxAp9eCWrSUiEA41KSRFtHLZ8uHBocgEYRC0mp1Ga1bH4XRjNipF4l3SbmtSjclGVCkfOTbRzFJRJvWWAXIAQCPiDJKAMCIjBCqQGISZBJz3XORnbzjlPb/6rmRiwqV5TBrYCWSACsgBMAghhEAGgJw44UIwU0aUiiAmDnV/ZaFwCh6wrw8KlxbNMIqAMwjLH/7Ix2/e9HDtrPiyt6+RvrHZ2fFWnixeufK8N5+N6umnb57+8Hc/+OFvAWZQOwF6zlRve/tZ8zfUjsouU8MgVXmSHtzSUWplT/WkxA46BlQlQs8eAV6gmfVhEvdsbJZP+sF9d7/ijMtWjCzjiQYEDOCZkADiOLI2T9tYHRxctmixuuOJ0E8AzYNCUHtAA0hKg5fu8mTXC1C3Mut6TvOABAFoUC4vbMKSB8a7JANngiBSmCEFos3k1IxTumdk6J7HH/vYTbdma97t7VJQKNoqipWhonD/5w/mv0CYFYUABNqrIPFhggPQcxJUbWWo0xN3KNnePvTwA8eefvAnB/1NDxTZ5JLqmktfvL7WV9f1cjwUtxvpwwe2EXDpBLj03efB+sbuYlObx3Mf1ePei962ZnaHv/m7mz/8b1/+xG++P02TSpFrHeSZYuY4DEBY2GMYQAjKuWcnAAHA3LoykMwVYqjnpmweT7oCBGCcGx7Egjg5M/3ThAlgBkQHKgOnVBTFQZK0E+8jpV7+ql/StfDAgQNHjx5l5+89vL+5bVscqizzFQBttEdIChcYYAeVSpR2MkAspqcUgAMQbwVAUaC1JtLOKQ/eOSEVOC8uS+emaXvx9TDQufu1N7xheKB/etu2CBUhMzrBhIlIeWBgMEQaJBRUgAJUKCpAHLAC1lSLvTjLJgpKrpXnLje94ZHG0QUnrvrAJz7zxVtu4RPg4vesWnxJctQ/2aHJtASTwfjAhvlnD52w4LLp8WemTQq9QXneur7RU4da0cRe97SPW4l02JcqnmYm2eulRTEAXGFIgOzccwkv0DmPubTiyvrq0lc9+PBf3f7AgyuufrvHlo8ACRDReWeCkDu5dxaRFo7MK6fT0NlpqhutBwgdeAPExN7jC/QJ6vrvrVuZdT23EbIQsBX0pKPEyrGZiVK1kiVJoCO0nLc4iEtEhZQc1eBrd/2kPe+c0sqXN6VfkfPOewTJUqDnx/4SQm/ICxSORZwF1IghMrWjSpvLYOpqwSm1ZVwNZotk59T0tvEDhz79vRuVP0YlbY2HMAR21KsXX1Jt900emn68rSZKEWDoD00/vWRk1Yt/54LPb/vWN+790e+96VfXrF3VPvBEpTKYW600sEfvHDNr5+ayJYBYPCPOxUU8O6/aMyAi4bPrYgKIc2uIAsAgDH56dhpIFKBXBhyACDMiELPkTtBEwnzquWf/42c+WxvoOzYzURRFURSW/RNPPPHe974XsvQf//5jZ5xxBmndaDT27NuLiPPnjwwPDf3TJz75r5/6NJBSSMioSdncFoXVipmZBQRUqANFLEgiQj433lPuXn7eBS857/wjm7fE7OIgRBQBK5ihIiASQGANEAoaBkByQjljhuK9hMAevLJSoNIiXtcrtiMzaWvBupNuvefxT137TTsPLnzHiWtfVt2b3ZOiBLUoN34iOdQojtWHhxcs7l8iS4NCxxgVxfhB96il1OtM0DnPJRxYVFv2QPsuqAy38gKiQiAD7mCkwMp/XKl8ARE1y3H/yMXt8rV3PPjAW654tQ5KOSiNQkTesianNIbKSJ5V43I/5TOHn1DLX20pclIAlMFb9hb0C/T56frvrVuZdT23oQJGoIKB4voSLI3sPnIM6j2NySluTcUZVCsL0qSo91fUssGv/uD733x0l175vhla5l0GuQddAsrp+bPmkQQElsBpIA0aUFnC1LsUbB00QBz4OJzxOAM9VB6V8PR4cLKJU37/DV4cFKA1sjGuyIZP6uWeXDArGXKOA8SGyY60dy0/Zf2Sy+ft2zP2L9d98Z//8L1RqZa0k8gMUYi2KJC0McTsWAQVMXjPgggCQIQKEQBEBFkIYK4p9rNPrIgIshduNpveC2rSSA4YRJBtWQU5uyLLlNbCvq/e19fXJwAD1QEibKdppRzHuuRyXrpg2Wvf8MY4DAvnkiQ5eePpSuPkbKO3pz40fxEggWdPCj0b1HEYeutydlprRVQUhfWenQWlTBAEAsbzUBT/xpveFCad0LkQ0FkbBAogR3KACBgAKEDDoAFRwLO3LBaxIESlAJWBdqBKmnmWydo0o2ql2rPo8W17Pvi5b44bWHfV8PpX9R91T2YkgKBNqUimy1op5Rr2wExyKA5rgQ584nqlYGrHYeS9OELwYUl6xnc29j0zXRpdJ2EE5AAZuSBVA2fhebMO/79GqV7vZ1o4HA+e9eQzXx2fPrx4ZFG7QALwbAHZe6+1KYTzPO/pqfVVw92TR82iDIKSeA+aABRyt2HW9cLUHSLW9dwmhAIAllFZWiDh8ts37bjhttvj0b6wv1eiatsixyHX4ge37vvLT9/c6n8R9p3lfYShA3ZgQkBU6vkzkiU3IAEoDQjATix7a0BqIQ2gDyErIE/BFpA5SJW2tYlg9cCSk3W5GhGhB5W7WAkYKA+DC9MCGUGzhTwryrUYSuoobD/5qhVmA3z69u9ce/vNetEyh8pR5pCdeNRIxhARIioiFDLGaFKIKHMQgFAQgAVl7vPx78/9EiOz+NzaAsA5Zg+IBIICFsGHxhAAigQmGOjrVwg+dZIVhqG/FGPO+7buoE4xXOkJTeCcj7XuKVcjjVmS91Xrzvof3nDj3MY1rUghZkWa5alnB+K999Z7AEFFqLRSoIHB2grA21/z6hMXzp89eKimTCkKXWFFCBFxbvKQoIBiBEFmdIBCCgwpTQGhQlDPdge9A5v5TqIK6a88dnDfm//kj+4+8uS6tyw58+3LaOHkbNYoxyXhUiv1JRNGOoyVrhiIFAN2GNsUFkB5pRy2p7OiZUOKNIW1oH/flrF8sloaOJ1VGZwDKhFXiiwAecGmb6HVEOROgrC6YDJpHmsdA4Qsyz1b7y0pIAIPnOQJKogrcVApadMnyiMKsAGxAIDdUUtdL1DdyqzrOQ0FCRiUB49TnV7qP3nLwem//vQnH9m2y0Xl3uWrpBrVVs5/anbmtz/27T3pxnjZOxOqAWboAAwCd8Cy4+dLywwMKA1OcVPDlNEtpTyIBleyMg7URhSFkaaakZp2keaALSazs9JsqAQqVDcQWMnri6B/gWm7hkVSQbVWr7CCFNIUeQoOzjs1Oul1S9xS+OJdNx+eTcujwy5OsqIjyguyuAIBNCBYRi+alKa5Igb5eLYVMCEK4n9s56Ai0mqu2AkiM/eeKSJEBKgA2ELRsS3Q7DhD8q1kdmZ2Jgx1KQwIgAsfGDp68ECRtLX3naQRarRFoQlRwCAYBTfddNPjDz2I7MFbl2eogJSIYkfOGCXgRTwAICIpIfZ52q4TvOics375lVfamSld5FKkwEJaiQcAItIAJKIEjQAwWIEcwWnQCiIFkeLAe3DOWZ62rgkBuSjuW3vCwwd2v+tv/nRrZza4Ur/4j84sbXCH82finlK7rQUrCQCaMLVFkeYhmXpYMqScc4VYH5rpJO/pr0e1yvhsp5Vm2oTOSqjWprIoLwTIAqACLfYFu8kMAITbQGSABBOKKHEAUCgmtoWaG7ZAAsAMEsTRkWPjE1nWO3QiGhDOCUvAKTCLvHCfoK7/3rp5Zl3PaehJvMMoA6krqK0Ycrb19KFDT99z652Spph7iuM7nrzzDz/+D4+O9a6++C/GaAO7ycCw60hQNd6nwFprzc+TZSEOUlYsQAwBsxYgwAJUJlwiTSKFSMqUMyVetVyUgQPe8+3K7FYFyruYFKSQD54SnPXmRa2glUeu2W6CFN5ILmB0NcWkyNyJS0/d9cS+Lfcd6g/r5512kgmSzqyNohBBvM0VISIhMwECoswdkAUgIqC5bCtRQPDsG6MgIhESCiKTkiC4/6knt+7fmwmiMkopcMxoKVTWsSkbD95bd+DQgTAM+vv7gyhotZqtduvg/n2f/dfPbN/+dLPRwABHR+bladZpNqamZ9Is++HNN//5X/35zMQxANFGC4r3BQXKsxcF5LyIaBMyooCwtYRMIGesXvVbv/ZrS/sGgjSLBXRcajUaJgyAFZInEBQS0QAGEAStJgQB8SzeofcCQKgJA1WSdtb0oakvX/3olqd/9yMf3nTo6JLzF7/+sy+bruw9YLc4nYEzmqo5KhVHM/lEqHU5CNBDZq0XJBOQDhKblcqVjnUFsylrR9SrFjxw0+b2prVp/ZWgyxR1JM9DbawGwAbIC3MfVawzawMsMnfshnq26+pLX7VwwSC2W97lYahRAESAlAMVjwzfds8937z99vq6dzRK86TQoSk5SYBCBYrxefOPrq6u/3ndfWZdz2khhIXucB6Dzgpd7FdnBud+yh587Mje6/7u2/d++ppvloP6VOXE5oJ3lS9+5Q49BMUx0KXCA8RQ5AwQgBIrz4+yDADA/cxJheMdAQMCoCwzAERzOewAMBdUBRWM8n0NhEpPrGdcs7DQixsvXD3Tm3eKDNjGlcg6ywUYzYWfiVDI7NejpZf/2bpvFQ//ydc/o6LSb7zy1X2LOrOHxyLHoQQoyuapKUeQJA5Q67n8/ePtKGEBQE+KEEEEvSMAUMIijq1CMIFaOG9YMyNLpVJqTM9qHYRYybIMBTh1QWhYSztt/ekH/vKrn/vcwgWLxUme5+Pj4wePHA7DoNFqfOQvPvS1z3+t3NsvgOB8e3J6auywc1kfYKTCPCsEQFCnmQsBgZUDZBAuLGgl3pfKkc86CuF33vW29auWupnZkAAVSrtdLZVA0GsGIZAQJCAJQQwgiDgUDcoxFOQRJEa0EOSip4s0DAdK0YKhTbt3/OYHPvLg2IHgZT2X/dNVyeBP0mwsUE6FQcE+55YBBVb6QvBQTAFIOJcv5lEKYqhEkFtAE8z6WQ1U0gOlVmX2cc6H1od2D+paZgmCNIGYrEEX+efHwZX/ZTlbwJIOndHzZqdobHYccH0mcZmsdgU7q4J6ozlbWjKYR+7b99yTLnt9J1rP2QiEU3nA0CIF1kIZ4Plx5rqr639JtzLrek5zUgAwEAIo8KpgCsxQOHgSLHtRXBwz6ZgKwpAGvAy3aRQyAGr9oh/yfynKOsnMuBZMExuCAU1Qld6FdecmmJ2IBxBEUYSokAEDjkHckdaBgSWr3/i+S685ettff/IfTxhddfZJI6Yaz05MDNVqzloIlTiHFILw3Eay43kZhIhERPJshu5cboY8+7VCEpFVy1dUS+WpZjvrJECEiHlRBDogCqy1tuNJKaUjFnnm4OH9R8bzrAhIK9SWmQv0QLn1+3YfcLBfgAKjvctZXGSoJZwrKyTI4r0wEOrACTsvYRAFQdRuNwmczkQ5eO+vvvXk1Seg9TbN52JaMQyAGZQ6/sjFA1hADUIC3mOhxGRFEpdU7hNyaCo1K+x1FWqB6el9fNfRN//+722dnR26tHTln14WLZ6YaIyxSVGxB68oBAJhIRACBUACxIJz+/JIAIXBWRKbJt6Ehpkji+mBarbvnJ5V54FfmrgAREMQAGsGT/oF2xBC1Fr5LCkGll6QTzzy7euuu+qi8+L+vskts/PXzLN5K81D3bc2XLTqa9d+6/5Hnwxf9DpWJWAPIOKBSIMi8C/QsLeu//a6+8y6ntPYACgAYRAAIW9N4nuwvDKV0fH4xL3RyU+bdYdLq73pQd+M9Mwv+vH+VythIel0CMrnjgExIuiH3iVlllygELACDoCJ5tLZCXJFFHSwNaafGbnQvPVvXpovhNf/0a/v7bRqK5dyb3U8a2ItoHLQyiyYklYalSKliIhBnPeeuWD/7IxrkLkDAc8e1UQRlxcrFy/tr9YDALaFQrK2ACBxqNiEEEUQhbocmLKI8aQyJAxCNAEQARg0YVyuqaBCOiTQGhUiaE0aQZi1QecdASOIJgzDkJGsR21KecGtdmuwtzcCCZx9xRlnvP9t76pTaKebIZBSyjMDYSHeCaOAiAh4QA9igXLAFFWBpiCdNtKjpiymt5Qyd3R5kitF79Bj+yff+Scf2OVn4/PgrZ+6XJ24f296q6WmDgvUzrJYyBxkTjIiVgAKRANrdAYLQ1apXGkLDERgAo4UlzyPqNr+x/flM1TACW1bKwoGIJASiEFEMM+fXu//IoTAFw1VqR/D5RPqhJ9s3vXY5kfiZUvqyxbtOLC/47Mc2+EAHJva+zdf/lIw/5Tq6HkpREAeSGEhyEZAA3Urs64Xpu4+s67nNEGce+9EAUIjgMzokKjIY0CwBBIDlcGytnnki1y9MPfl/I9Uoyx98uMBgEUyENqo3b9Rzn7d8kZ13ELGygJ6BUQAQuLFx67KCDbgprSbbubk1RsWL5z/0D3PPPTAI4uWr1qzZu3s7ExhUxaul3s5E+F8riHGNJcpC6AIFWl//GCjzH2eG82DoFA5AF0qPfLk5n2Hj+ogLNgJS2zKnr0wIhoP5AkLABAPIYGwAoTCsmdCKry33nthNkZp9D4Dn8fsBwCGBOYzjBAuDKKqdYoBPHumcq2nA4IIwDYACZxdPTzvMx/5SH8Qtg+N+SStRZESsd6SVp5FEBAQ2eLxEwMAxEIelCXb0pGNeqPC5a1UOhB2gurA8jW3P7H5fR/68KZje/svUL/yDxdMDm+x5WNjyUS1JKDZAzsEBmBmAq+JEIBA4VzfDEXBXK0GRoNSIZK0vau7vpHktBs/vaM92W97fpk5ACWkC2QSRyBOKH2h7jND1qi89+CtWXbC2nbjwN23Xf+Kc88ZWLCy3jMMLujp66fe4DW/9/sPTA7NO/9PZtSa1CrQAOjJAfiQgSF04LvNha4XoG5l1vXcxgzg5xJMkUQ0AVoAh84RMCKgChgICFipAvUL+Djb/yejk3zrJ4CZgwDYc7lY//LqSZcPT6hjFjOm/HjtBCQCgExOsyKriI2kkMx0ji1ZMrp8/cCPv7P1x3fd7Apev37DwEB/e7aBDsgBoGcRmIv6x2frLwHtEXBuLADK3BAtAERRSMwSVGrTjfb9jz1mBTP2JoyUBwFEpZkoZ8diwXgMSLuUMhs7FwPHwIEiL8wiUAmMoUCyCriFJTx7eOjlixa/bOHSVy5Y8uJFS88Zmb+mt3dhrTdANZ00OnliTRBGqqdSSlozPQRf+ZdPrl6waGrfgYqFkEgjeO+QkJRCIhExaOZicwkIUAkIo2ewSlvv07zIQVcm2q6+aEXPyuX/8u2v/e5HP7A/ObL+qvmv+7MLktHdeW1sJm31VWOmonDMBAYUgBCCIQBh5evkI+KQvCE2JEaEANAjA2AOtihgeXQGb1t6yzXZoqXvbqiVoAF1jlCw9wAKFIIS4BdmMIQACfjAhIJmJuXSyMj4kQM/+NoXSjVbG+qdzd2uieZ7PvhP94zpvrPec5BPtVwBYFCA3itRCAEDg8nBdzfkdL0AdSuzruc2BtCktWEWAQHFAA6USBA4FI+epQCfABZgBMi/UN/J/kc05H7XJ9ECB4p9FiyBC39lQX0dTLgpB4VHjwhajEKNgAJoxQkiKAWgjdLTrekg8n2LwtUrN2zeuePWHz7eSWYXLVq8bPmSIkkJUKu5E5cAiCICIiAizBoUgCChoAChCNPcXADHzBBW6kGp8sCjjx9tTVnAIAqLPCetRZMFh+CN8jHnQZ4v9DIgMAowD6AHIBAfAEdGdTgPOumw9adVzMtXrnjJ4oXnlKobVHCSUUsVjgLPL0XLFoz2DQ0kSTbdbrY9h8hZszEY0p//zu9cftbZ1E47xybrKlIiLB4JlFG2KBBJIREoBEYEmKvMhBwzizfIOWPCka4ODyxb++TEwT/73N/88/c+1xnMLn3XxsvefYaf18h02ygdACkvoqVwzEJEoYAnAAOoABUHIJ6ECQSZQZywZfZelJaw3SgqanA+L7n7Kw8deKgHBt6bAwNYBBb2IKgCg0qJCLxQgyGUAiSfp5Emi0Ea9o2OLj165Og993zr337wnR9se+YTN23ZOjN/+Iy3z9BKF4wCIxgL7MGJ0ghasxBQBvwCPSLR9d9b9x8cXc9pqAkEBAIgAufQk4CQRxYDEAASiSdiBHCFE4b/btmTAZcLASQEdFCCVacsWrhxaMztFTmehjV3LJWEYG5XaeiLomM4JlKFcKW33KLZwrXr5/h3rLjslk88/vnrf7xj746/evdvnrxgiQ18kKArCmSZi/8nQJqbpPnTI3F0fClTRBSAc55R8lZr6fwFV738yrFrr9nbnPbeC6HX7HwGzkfIdeeqAFWAlQID5Xi0t2/eQH9Yr08jPD0xtXn/3rxt12o4M6qcP2/49P7hPmKZnqBO4qUgrUA4jKLemE8cGmyuX1VA0Tw6QWmxpF5+4y+94qpLLs7HJ5rHGgNBCaxnb1VMQggA3nuFShEJA+DcDwWiGRQIMErDm6BcL1f6fFT//v33/8WXPvTU7LHhc+Cit6xedfYIDzR3751oT5DNYMW6/obbg1FkyDg23guCQSwQhJAAUwJSAMAoyIxMBIxAdjACo1SlL1hMY+Xt9+wrDV/W4JiwAEZBA6iBvOcchCAXCF+gF7RYrUIhZcWCiaEVjJfWVS76o3rzyjz0Eyqun3AidWpTVMvAQAZgLFHCXhOGHjIRCzoA7r5/db0wda/sruc0ReBy70EAQkCFgOgcCaOZARV7VswiSpMSYYcKnzdjmP4vCSFu5UACgF7X1MqNK/sWBTvSJ7SK8fisSwBAEBIQAUygqASBLRIEBaKCsDJbJMTeDHYqRl79Gy97vH/vbV+4+03v/d0P/9avv/6lr6JjmQbx1gGLiLCIAgSRn5bAc3+IPPsTrTUztBrNnr7B1/zSVbc9/sjY5icS51RkWB0vFWORHoDVpfCkBQvO7Bnsr1ZjYSKgSrkRhnmSbmunCw1csnj5K3qG1zquHpt1+QxzFsSRpxSRlPMoueRhDLVqKMXsxABSX2/tHb/yy1df+TKZbRWznZ4gpNxDFLHNFCrnHQKGYahRcVYwIIGgQgAENASKEQglqA5jVOao5zPXXPPhf/v7ZMRe+msrz3rdelix/ajfNNMO2zL44y9vggRWfXh9/4DZn2QqqBMGc6cTCJgLpwhISihETCRzeyVFFDBCScU6qQyV62T7k73DjZ0nnnDWazfbaggNy8pTAEAgbcACVYhBzFD8oi+xnw/FXOQI5JSCPCmV60khWTg8VVsukII2YEMMPFEikkBUxdyiz0m0VlHBHWBHYcT+BdpQ7Ppvr7ua2fWcxgJACOABHCALsBAwoUAgPDfQEQBYRAAI5L/ddmAbJuGma8pQTlwHNsplv7P+cO9hF87aItFEIYbKK2BAFEJRIhEEKKRQE5IGAS4ClFCrRIqWy2Ge6Turf95FIzuOHbz2S4/M7glP3biw3DvkddT0eWLyXCeCOYEHCm2RMzNq7TQl7D2LQcPshL0myDvtgb7qiSesGh8/tHf/fhEg8WzzKvMwy/k9pbdvPOOVS1eO5FzrNEPX5BimAnXblu33PLllUNfevuGUi4cXLgfW7UmXzpChwMQ25TY4jzHqHirNz0rDm451rrnzgX25Lw3O/+v3/fGrzr6w3MzDgr1nr9AFShdORzFiqFygvCanwAEi0dzhg1LUzByiEYSWb9aWD5s+emT3wT/47Oc+duNniwv4LZ8878w3jErP+Kax7bW+MILemTsn9nyhWR+Ak69e3cS9JDpSJcPKSFHWEkMQwEBFL5lXrK3zvD4arvrBqF2PW4OlmXl4qDb2ZO/Mk51wpyoew0/88Y1curhdPdfjiKWCCQA9oAMkQANCgv7//Ap5jmISRCEEESCyYoEscA4ogApk7iUvIhpEg2dAEAgFyUMBqIG0sOtmC3S9UHV7Zl1dz2MKWwJtBwIVWHvKYN9wadZ1PHdcqKxYEItqbv3RIyAA+Lk97wAC4oEFhJmZwZDCyE+6feVaMv/CwXeseOW2s3Z+6u8/f/tbvv4nv/veV19xxeDQctvIxw/uz5LxeT0KpaYEtCJQpMCBiIhwketaWQFyzkmn0xibOHnFmvf/2rsj0j+858HcsQlgYX/9VSdveMnQyMDew8nmJ+tesGR8f233VOPHDz++a7ZYrOHsExZcPFoP2jO+MV6GXJeQxebsncagZ8TGpWapcpDl5m1P3b/78DGAWq3nbz/wNxeefIqMjTUmJpVyqCQqlX2R+VJIIOystTkAhJEhQuc8KCJDaZ7EcUmRcaR7BpbmRr58461/9cmPH7H5hreuuOTX1veemG+berTwreFRDwnU7LyJp45BAzauW1iNaTatxDIQ5JUeUy8hFbPN2WPt6WM01XRPPLTvyJFDrWbLELHFrO2zBkALojTMGjnYUnXRmcCv71vyS3lpPjsL/816vV1dXf9/dCuzrq7nMS3eI3cghRosOX2xL6XtYpZjMRRZsJ69IgVADCwgBATAc8uanr0gEJIig8haQhNigbPTPL1v9olFoys2vm+lWzZ9/58defe//v2/Xv/tX73yza958UsXnLDOjvc2Jsc1+UpUAvDcauZcxPU6hCVIbLPZNGRQKFam6OTJ4bH1I4s+8r4/XjZ0zdduuP5YkVQoGqr29QSmCsVobwkKl/riUJJuPzK+e7YYjvHyDWtPWzgS7dquNDiVdsgZE4ouY6nOYXgk0wfy4tGJQ3cc3L+rkXuEc0895aMf+PBoZXhy184oy0qGACUoG4YE0WWErrCRLsX9FfA+z1Nr89zauEydVqcUVwvxOipFCxfftfWhj331s9/bfH9pGbzynSevf9WirG9svxxqV9qkMTWVpBGw5f1HCjMUrlt3AbUOj5RGo32jB/akT+x1h3c1n3l8d7G/gA5AG2DBVdBZBMYE9R6jywbK9bi3tKDeGji9R5eaHXZUDiBMdJy1Uwo7/N/tUHFXV9f/WLcy6+p6HtOFYiRb1maVH944f0wmm5gEBox34FkBEgGiKMC5LWEsgHP7xBgRSGtNQt57sIzKlkJiEmv4cLLTxcXa1y5funDDg9c8cs91+7Z8/K9vuvOWX3/jOy46/YJyuKjd2tPKsjD3oTJxqcxefDMDxthEBjSwMECpXEk66djk1IIli3//nW9fNDL03Vtu3bxz87XX3pCcsPzMnjgtqf5ypQOQhUEpt2soXLlowbL5g0XWnOqk8UivLdes1symmeN4UhyamNq0Z/JwmuyUbAZgYGTkrVe/+u1XXdVv9N4nH51Xq2nlNIpDbKbtuBQqo7VnpZRiW7RtURQmDOJy2SB7mIqULvcNOS5vPjr1hW996bO3XONKsOT14aWvPnnR2dGUfnL37H4OdE91oFm0XGHqwUg+LTOHWuBgSK/KnuzcfufDO66f6Iw5yHogXqziDb0jJ9WGTrLUN0PLnDARCUKn8CCmrUsImn0TVAQxAzMggfOgI0LD0g1N7erqOg7hdeO/6MfQ1dX1v2mhmTr2jZPyPj/0uvorPnz2BG1u1sYUcMmjUoqAvHgRmTsLICKATAgIIIIKEISYwVsHCOUgtrnrZFZXdcbQSWCgZ2SwWNaXRq2HZh7+2rbHv9uqFNHbrnrLr7zudav6lE4sT8yorChFMYi4JNOoRRUggmSsLdgYioKWzURRVI3L/cNbduy57vs33XP3T2Za4/MULBwyPVKeN9Q3PDhEKiRVrpWr2iZ5e7ac5Q0jh2wy49xMMz84Nntotj0lTiAwEK3fcOr6dSdefO4Zp6xdWjTHksbE4ODA0b0HB8o1Y8LUWwpMmnUiZSIKOcsJAwgiEHDoChILTsUSBNWndu375q233/jUgzvy6epZcNmbLlp1ccjlqQPtxzpGVBW8BIA66SSDwdC82Q0PfvLRBz4zAw6G5584VSQOT+rtXRXVl4V9G1I9Mplp7wVMAIChVwAgyF6YEbQxzODzzKjI5ikpYWAdGAdAJubcAb5g4/67urr+V3Urs66u57GFwe4jXz/HL4Jz37983dsGx3lzXk5SgAqDIU1AHjwDz+0tY2ANKMAMAAzEhKgICBEVCfrAtVWkq2G5moOdhuZsOluP40oeD3QGhu2yI0/kN33ugUP3N2IV/f7LX3bB+rM2zl9VtgYyT0VhCgcIoJ5dlzOq2W4VCgaGhxKbp8lstTagdE3F1a3P7PjK9V+/67G7jkwnVYQSQpmhP8TB2lBeyGyzwQQgkoCfZJ/g8QlTtepgT9/QGadsPP3E9RuXrV7e32+UwOwYUFbkralsdmRwxLbzwoGpVJwIeEbHAYt4ASChwIUmCyQz6A08un3fj277wZ2b733Gcu+ZcPabT150dkX3dhJu5TQj5VYGRQ7gGJyDOIBKo2/p7Mk3vO+ObT8qSe383iXnlxesP8pri7ICHYElyFmBUmQKBvAMcwdRSUABsANkQAZEKEIQiE2JrfPeOp9D2QAJ2G5l1tXVdVy3Muvqeh4bhCdnv3PZ6Pn1V3/oxWrjRFt2t+NitjMbc5WI8FlENJdDRkpc4b1jEkIhFAqUCYKoU7QwCes4GnL92MxUJ5w1o0VbTU/6mZ6gJyoCbU0f9Yetvh23HPvJtU/LZhitwlnLTr/s1EvPOfG0xT29UZZAu2U7oAOTJG1lNCrl0Js4nG02ayVlU0dYCoMSB1HTp7vHDuw+vO/uex+cmDxy9ND+LAUFkAIwQFlr78gYJYTV3vrCFYtPWLl6/coTFgwMjwwOxUqVoiifnJCko9gaBaC1qDxv54ZCCCLW2gtLnkekEsI4KjMZH2ipVw50pm+8/85bH7zr7qef9rFdcEa44oolK16yJBz2R7OnvJ8CrKa2HVQ4A28FQg3OAyKslrOfvu7ILe/fH5ev6jnpj1rQk3Lko36ddZCUZQ0sAIzGG8gQc49l5xyIzI0cfbZzKaG0vEeUQNiQjj2gJxDnjldyXV1dXd3KrKvreW1Ibc9+eNHay9a/6k8vPBg/bCpN6SkJQF3VrbXe+7mCzPvja5pzEykJdaAC8Whzh4xKqcR2pg9kU88UWx/e3c7daS9dtPzCHtsz84zLtemA6igA5WjALx71i6Om2f4j/8Sdm3c/NBm04KT5K1957nkvP+2UZf21mh8BZs7zNO2IeBHx4qIo0mIVKMQgmWmWylUoV9PWTFyvpcCHZsafmRwfa7abiaBgHKDRrq80WFY6RqjV457BejUydSbIHWQ+z7OcLCuJwhIUHFEgnQLQoo6g8BCEorGTNitagdIwOs87nmy2dh8Zu3Prpu8+8JMnjuyTijrxpevPunxVfYPzyzv7effB2T3z++olsLmzosCj8+AYQEABlNEHG5P11/7dlt03nLD0pN/bDS+CYjySSgaRVplzhSallPICXlAQwHsgC6gRjTCg0Ny4dwAAKANa0AwqB2eBQaNCj/YFGijb1dX1v6FbmXV1PY+tan975x2fB/1k3yIOF9HwusUUe2tbg6XRMAyLomi0mu12u91ui/hSqVT21Xa7DQBxHHc6nTRNwzB0zjUPFtkkFnkEjsKiw0vh8n86YfhcdyTYy2CtQAlD7cXnBZgKqP4lWUnyautw9NiPD2z53j7YAfOjvpMXrX3F6aeeetLGdSvXRuI6U2M+n9VYALogdUKBVZEX7QGVsAZnUFhRzgqDejnsQSZwDjgvOA84BRUAafBobe7ZInqjgLxwkRRKTDkU1Hm7kAJDCjrGalEGAkMhBSUIAwk1hnrX+NEf3XPXd++8bfPhvdOUw1I48eVDZ125sbZSOnpm2ozP6KkUCkVcQooAq56KIqOwmngEIxrSrOUWVpYP7V7xzff9eNfu18Kav4FoELIG6FCR8v6FGznW1dX1C9I9m9nV9TzWWnhWcBarqa2t1qHG1s6xrZmfPgyOMdiOGLLXQPW4vFzrHidRg6J20AbnAFGHobMWRIIostbKcL3vlAt17RzldKX5k11P/ObRx8ZXbjy5oSZybBM6ZwUFBaHIUzSdo8EsqVK4cuSchStfdNUps09NPXbTAzc9cN8tn7yvt6TOXn/CG15+5WVnXtBbmg/prBQJlqouT71LHBXA1hW5eEZUZKPIBM7aduMoZ64UGB0qBFdkGaAlDMgYo4wGskWeulwo11HICqc7lsGboBpXKk50T7XqCtE6glJ5dnZiIps8dOzgHffd9rHv35QGwH0w//L47Is3Lj1zOFzquSeZnB3LoJNAw0qCJEpQg2gE50CZEClotTuR0Z2OW1Qd4jbJNB0ZJygtA4rA+rlYY592IIh+0ZdAV1fXC023Z9bV9bxWBXLGdtgVEEekAfxULcgNioDKLFoxQJXCG1cAoAbgufVNERFmJFJKuaKIXGB7wdscpDJEx47d9e4F59z9zk+fP1E7cCw7UERWKBQPCIX1TgV1Sy3nBJ1RNupVffNMfykLMJWnrju49f6Du+8DmIY1vUNnrtl4/slnnbhy/aLehZWqKVVE6wwkg8JDK3etNE9yR4AaDZK2Dtk74JxtuSzM4Dx4hwCAWimliKAISCkFQA7QxOWwUmdt0oLTWUpdMj479vjOTd+/60cP79zaIrAM1Yvi01984vqLl5bmOxdMZzg9YQ9NpTPlKHJU5Jo9AggawdLccGyPQib1YcIqiCBwaa1VWxyu3fqPk9/9alI/4ZNZ5cIiz8RbiGLyKUt3GbKrq+v/sm5l1tX1fCY20oQA1msnBCSgLBazYmMdBKKIgQUBhIEEAgMd0cYwM3sPiEopAPDeY0ESV6FACDPlnjQHvpQ1v/Krn7xywTnH9ifbmqWmhKXUCUKuNRFE1nlE0YoIUAoPOcYSlUx5OJ7HTTj0RPuJm45uv3XWHgAo2BAsLNWGhgYWzRsc7utZMjh/3eKVq0ZXDtR6TVTOfCriIiURIrBnAUsAUY6oSAgEmYGBgFAIvY/zdiLiwzCc7sxu2r3rqd07jzVn9h3Zue/w4WPt1njqoA/ClTiybvjMi09bcg5RzTdgbDI7aIuWCUgFnmluCx7I3MRPMZpFo1MIgDpzkrlAxT22aAzpuD7ZU50d+dwvPzmZviI84a9yP6gpB20cA0mHMfhFXwFdXV0vNN3KrKvr+Yw0sAV2oAMQBaBDpTjpWIPHI2UZYG6wuQdABJUCEYjMzSsERGAGophUmufGe4xUwWYRjx/Z9J6VFzz42j89Nx84ejB8ZlaDZQPOlsPAOQ6llucdz5kJtTEG2LBXwqQESlSv+t4oU9Lgxn6/Z3PrwM7O9M6jWRPyGZBZgCbVqbZ8eNnS+QuXLh4xsTZKDPsKYU+5GldrGJnDzYStc9aKE2ZOrWsnaZIXMxPNvNNBsUrzWHNs59Hdk7lVVfBVAA1Lz6osO3NgZGPvwOreTpBJhJndnlDWkVQAIoyUF8RCGQF8dhySGEADwEAZIDgiAOMkEjBZY2ahHliLp1/7d3ds/db6aN0fNsJLOS0QE9ERiJAqWLobQrq6uv4v695Wurqex4IMGJUTC2BBA3ifMwIp0A4AwAMoQNQEBAoUIGPMzIgoICAgLOIBlcopAQyxUi58G8LakbY25fO3fee+HRfOrnnpvDA+lhUNjECRFvl/2fvzKMuu+z7s/f5+ezjn3KFuzV3djR4AdAMkAILgCA6gSIqjLCe0LYmyJI/Lg2zHduLkJVnvvayVlby3/F6GF6/YSd6zLc9TpEiWZYuUJZHiAJIgiHlqoBvoeayu8Y5n2Hv/fu+PAkCKBhxDhgQ0eD7rdFf17a57T919u+pbv73Pb6tJWtMw6zsgByRoDJTEZjGhI71Im012udPN/VzfrXbf/u78LtO1o/dPtuPuhbD+/PTiU9cvn7j26PVHH73wKJ4DFAgwAbkAEbDQHDNHSIqIFzeUNIADDMMKWRgGMewAK5/0H377zatHVsxR7cx3Fg707aJuNhcumCdtv2kwDmKTg7L11M2RQUNIMdiQpQ4hsShgFD4hNRSEU4JkAKVo1K9mq4f97Re+mh7+xRnk3bC3SY1O19bJpSBMIkLtpkqtVut11yazVusG1hQRbKEdRDFklKLEYL2PjWNmYlUVSTEhEQPMSSySwDmoQBXGgo0CrA7kG1U0FbsqFpi/7RNm65nv/PqJ/rFFfu8K2VmCtUws4o2ZujIiNg1UkAhioczBqsVVCJrGzqSxZtsVO3vbDNRrL3QP9ubeMbdYFXdN5mQ8mG5Xs+Hs2ol6Z3ta7lZZdL7Sye5klmA7yAdaeO55a1hUE5yxRcd1Okv7u0WRW4fEle9Jf63oLDpxs6Gtye1cjbvWS+w0s3LCjY/Ree+dkYgYw3iWSkOUrEQgGrUQZ9QoQ1RgImUNaiAR6tTEZb+04vfPLsz96t89ZUYfWbvvZ7ayQxg2ZT1S48HWMyo4aLsVeavVep21yazVupHpBI0z3NVoNSTrqLESTeWC06QqICZmVmJVSqJESSlZNlEiJBnrFSopmQC1JDC5LPktO+pgMz+4duzHzj7xxOkT9eF39Fx/UKYJCTIIlPe+cGQM532jOiqDZBUZExI5NpRDYhOUI0xCHVKcZm4H162uFx7dhSwfdOyBfJDs4sd6iItUZ3lT+IrCrG44csdN+8YzOwSDEKUOKpFZ2DAlJUQNCTFytWU2rpsyIQUwIOwBQBKsh6XoLbGAIEYbKDImYleSaYBNlBlQKHJESxwpi2QjQJgJUNjci0eVf+VfPnXuYT62+KPXdLWaRNuxGmNyHdSiMcK0y/9brdbrr11n1mq1Xt1jfxYLv/kn/8c7lu5zJ6Ynoy9XfJEmavJZQgoUo4EAEUbUqJDhGgBAUAPwXncJgC3Kvfv7np6rAJA1HezttU60t7nnnppfuRYVafaKt+99KLECe1tQvvjhIjnASmbvb5UiIQIygyjgYFmdE2uZQCFIOUcLu+VOB4dvd3cOv5D+1n/x1ab5Q/jof48qe6NHotVq/aAwuPM/f6PPodVqvUkd2X9kePHxnc1H3nnv2+s+kp/sTncNV9Y6JVWSvUarRGyIDTFBCEQwRCACkRJAJEz6vfHr5ffVQIyISYlT4vjyAQqg+AoHf/djv99eLCMivPhr730wmMCkRAmUgAQoAx1kGsHJkMIaMAkoeqq8rqza1cWto3/zv/7l6fVP3/Kx/3JnWqC9BrPVav1eaWczW63Wq7oQ7zbdz5z/0qMvfPjq2ucXK39du2gEmaoSlNiQCEAqBGJFfPlLCikggIAAUnxP36+9+tZe8UxMAKBQxYu1tL2a2qtNExLcq/yF4KXV+ET68vtsElQBVYJqMipKCsAIWBLNtNvLokYgNLGKNTqEOeofjCtf+rkHd85+CKu3Xi/fziFI1q4na7Vav0f4jT6BVqv15qWuWDr6+3zn09/630+sDrtZ2RlXBmxCilFAMARjlVlhU2IJDMcvXjr50pbppPxSkex77/mlmtZegNPvuf3fdoDklY/vkpcmTAUQVmFERkNomNKLJwNYAjR1cutYyzROVFmLTgFT3bbcHPjOPxx/+edfgN83uPn/OpEtYztv9Di0Wq0fIG0ya7Var45mQ3uL3f+HrjwoJ7/w/GG6tYdlC03KuneIVTEQUihBSRLJ3jzn3gESkEI1qaYXq2gQQPZuYRgDa9TY7zkcLGBe8SDFKx76ohd3sVTIi11k6cXj5a90BGZwJMCR8VxiFAkEkgZpYvp6ePho74t/7yGMPrv/jv90muD8Usonb/QwtFqtHyBtMmu1Wq+KY6x1WRY/isOf/yf/y+ntb9Pd+d0YieEM5GKyKVFIECUlAgPfXcsFKEMN1EB+2+TkXoZ68f4TcSIjvHe8HM72qnH/5vG92e6VDqjq3iUALz7WS/W4l6pqrLCAD7BJOIQQo3QcAOOrhRU5bq6t/LO/9a/rnftu+9hf3a7uiyqSZtK80cPQarV+kLRXALRarVel1kGMwh25+Y7dk+dGm1u33jzXXXKVK1UoKYuSMhGrMpQVLGABE8gCBuQBD2R7Hfb3jt8+O6lKAta94+VSG+GVD321E/3uhQAvPw4IALGSvlg/A6tYVavqIjkONoO1GklVx/ktxbvmp0e+9rdPnv7Ge/bf/acu77wrdAP5nlTO5aVI2yCj1Wr9HmlrZq1W69VpzHgEqS7Pbtr3rv/ihfvtb/7NR/vlbVAmckSGjCfjhY0S0nc/bK9EZaEW6qAO+O2B6eW7J1VSgShEIQIRSHr1qhiRvvLxvWEPwHcfyABmL5YJSIlVjQojFRQyqi0Hl6V8yazOhbWH/uWzj/x8d/9tP7oTPomBQRgpj1Ds6rj7Rg9Dq9X6AdLWzFqt1qszZQrzbBZinCLrhGbh+rMvHJmNbv6hY4pymjZCmCy4QQeLs1hPTTDwVUzCYPJVUgHIppCGhgyUASj9tnDG4H9zoT//thT373RYhUIIunfPCqOwqpZTMOSrRoy1iliGaJ2oSKXj3KUOdbiya+7g4fT+r/+tF772v+XhyF9q/F1w/agGjqAR0cGyor02s9Vq/R5pk1mr1Xp1YiEEUwKVpbl+sVKNLjz14K/GzvTOw3d2s5nvddbL8TCN+r43QNMIGcsGiCJG2bGxlIgCkyFWohdbaOzdtwL8KhtPvtrVma8+mwkifbEfBwHYuwSTYpMy1xPmEJOQOiajXhoyWUBdyIjWzP7bOu/8hb/5ha/+3BG/8n4a/JCxq4l6SRhIUIGAxCq3yazVav0eaZNZq9V6VcxOVUARTLHJ8nytNzc/G84u3f/gzbccXDx8RLpTk8KAF3Izm45ilaI1AAmTMnMKNSTkltNLmYqAl5PZ3qqzV3xcUd1rcvZ9x/e13njZ3hYACgUBe5cjgEFsXKxSzYYzY1SjEWQGOVOP2daLty28o7PT/xv/l1999jc+Mbj5syH7CWRriXoheZCCE0igzHBKbTJrtVq/R9pk1mq1XpXqjMUBzuReJVR18MVid+UddOn5h3/zCZmvbprfd1O+IMMrdZ3ni5a8MqcIjQpiYctECqiKQnVvrpGJAWLwXpx6xccVfeXq2Ksls5fPF4C+uNhsb2GZRhCTIUhO1GPnAlEF7PhVO1+d6/yd/+dj15782MGb/uIsfbru9qL6JAxSmAiTAJBYhheKb/RQtFqtHxRtMmu1Wq+KAENWNKk28AaEqtbEc6s3v3+4tXvxsZ1TDzx4ZHn5yM1vC/bidDwq0cCoZSRCAzAsE1dR7F4mw95afXopkxnoK68bYzZMr3Doq6wzoxcnSemlxrVmL58FNTl3NWiYNl1kpvS0ky3QTUf820en5W//tyfGz9539F3/3U66fRJyMkZtAyRwgknQiCgQJljl9O/3RLZarda/qzaZtVqtV2W4p1QbriQFUAbbgSZyaSfsmz9wnyE7OqcPf+kRb8o73vEu06uY+hJVGIZNVISUiNkZsi9vbgkSJShBX9qJ6RW9SmlMoa9y+97HqAB7i8xE91pxVJ5ix3Am0UywhLVD+d2DeMuXfvH5n//rKQ3fs+/Y/3B5d6kpGK6yoSduAn1pU4EoEAUZMu0VAK1W6/dOm8xardarUlGV4L0nk0sCJAKBmSR1G6/BHjl05N2jc9XzXzt1Zefq4YP3LA6WOOSxISFjODNwRuHZMCLoxR49pHvdK/BvmZxMeG3rzPYayr70z0hBe/ks41hXIrO4YBf32WOdybHnvip/+69+7eQD74G/Y7Dw17eaDroO1RhEljipQgBlEgthkCFjlNNLF322Wq3W77o2mbVarVeX1RAnVabRq03wNcNInaO3rVWybr4u5+fWbtdu79pT51544OTMbi7Nra7u20dsVMEAUkPSgAWqIHqpd8ZeU9hXr0UxvSJ9tTLb3l+RvlQ8I4CTwtSLfbfco32r/m2bp/J//r89+81fmIT1Ow/f8RfJ/IlhMCiWIDNnkoELaBg5iWU4hidYMqycIA1e3qm91Wq1fpcRPr/+Rp9Dq9W6wXhKjURwAeqhms37DRcf2Xj+C0ynxT/7vo/te/enerfce3zLzS7bx6cGobrkDbFQ7p1yalJUkyX4nMdNQiIok0AFMIkMCsNZkjLFyhpkFgLUAqg1JkZBSLDOeuQ16hhjYTORDjMLyoSpAzjAp7meWzGzbK24uTkTLz2w8Q//p0ehH+3f8rNN8cO1tDWwVqv1JtUms1ar9ZqxBLERFIECoZNz1uFpNbq83104feofQ55HfOyWj+NTP/O+lXuWh/5aScyumepmY4aRqxDEG2TsGkiECWnvGshkQCY5Cj652hoDQBEEKSQlgXNkG828q6NOppEYnU5ORCGESkxuM4pqBR3yfbc4Zw9oU9hL3Sfuf/KL//BCvXUP5LaFd/5J5O/cGY7AnTf6KWy1Wq1X1iazVqv1mlGaM1kVdQRiaBfBQ8EGFJKPGyuDhzbO/lp57RTyJ+/+ED7yieNybLBwOB91rl9trpYcyKpzNcls5K3jzMAomoTKJliwRQY0xDYQh6SAMMQhWqa9xhuqGqOykncZMzdN0xHLKByKteJwEfu7p8Plx6tnHjz/xG9eJbpHwx1rd/7Rif3QhDJU120xH1P5Rj+FrVar9craZNZqtV476RA3KhXYss0kNtAxbA2zDOqh2iysXXZnLp74+1g/ifRU9/jwo5+7444fXswPm9jNJjE2aZZoFmi3TlWSimwgl/ZazKqS9UjkAlxUy8yWopGaUp1SR5MU1uc2a2aNRnhTWOtJw5xfwravLtMjv3H+W7+6jp1DlA5l/Q8uHf3Ajr5d/JEqVJnjuopwb/Sz12q1Wq+uTWatVuu18zMkRXRGMlJPFsJlwhS1R9aFjBH3wYBxYdHPJuMvV499E4uX3MITK0ebo7evLOxbWT64vHpw2a/M6jRMrqROiqYep2mtQS35VAmZBJuURWBIM0OWQLRKSXNyNhiXMsfd1NB4VF2+tH7hic1Hf3UDG32jb0/NLd3DH1s68I717R6KxTr04SzCBhAg3nR6qWn7k7VarTepNpm1Wq3XzgAxOecQNNaw1hNzSkk729QcsE6bplHxcDvQ2mYLg/JyU74wvv5NlCcg59GcQW/WXcba8aI/b9eOdvcd7vuBlVxt3/cWCm1YNDHDeSMJTa1VmZpasBs0SD2qJ5vldDdNRnTt2uzK1d14tgd3C6rb/YGPLx14/7jpzlIGeGFiXvZUVmmC0EPXgCYYE3x7BUCr1XqTapNZq9V67ZoCGkxhFVFSzWRVycDGxMi3LXpx1mSZWlqcjqfZHNehyb3jVOc6K8xGmD03HT0xHZ7G9jbCdchl2BI53JztDFzWNTTopzDMTdMrSJVGE94aajMW3gokSA1QZsAAxU1+8ebe/IH9iz8U/L5rzeKIB/A9RIFQDlN5YHod2nV+LmQlIkO6zs1CCG/0M9hqtVqvrE1mrVbrNSssVTEpG0DBCgAhUpb5UAcJgjn4GYKAutZN47hLPlNipAAb4ZQjsmi44qy7a2mX9Qo3GxymEqaz2dZkuo3RM3F8Fc01opmKIbuS92/13f1x/lbvOtb2XLHPdo7MaGU39iJ1AAYsKRkpwRUoJjiFdzQJ0oNzSDOHQKES6qguJjt5o5/CVqvVemVtMmu1Wm86nmtjxdjGWAEoBZ9CnqJt2l2SWq3WW13b2LrVar3ppGSSgKIFRShDWYWhBH6jz6zVarV+l7XJrNVqvekksoBFslAFGGQAC2Kgvaay1Wq9xbXJrNVqvfkQAAOyAEMZJACg8Y0+rVar1fpd1yazVqv1JtRADeBAwIs7aiZAAPNGn1ir1Wr97mqTWavVevNhhigQoQQApICgncxstVo/ANpk1mq13nRYPQiqSaEgIRgiC22vzGy1Wm99bTJrtVpvOhodKAJEpFAGVMUABGqLZq1W6y2uTWatVutNR7l+6d2X+mRQWy9rtVo/ENruQK1Wq9VqtVpvFm0ya7VarVar1XqzaJNZq9VqtVqt1ptFm8xarVar1Wq13izaZNZqtVqtVqv1ZtEms1ar1Wq1Wq03izaZtVqtt6wcDjKDcdAuJBYSXRLwLNcKDUF6gAEnEJMaK0ykKHuwfeQBMmVKNjV5YGsEMgJlLvUQSmQJ5KBvuq+fpCD97p9e5Wi1Wm9qbT+zVqv1llXXNZxBSkBjPVLSEAhqK1mG2TG9TR1fXiKNTVNmi5UbeKm476vpGFYcrYWahKfJQ5thNri53t5OpvGd1SZswa27xgbMvdGf4r+F7uUw0r1f0H/fO2y1Wr8X2mTWarXeslzmGxIosaOkTQwE6pLNlYKX9dvc5R//LH/qvaU1s3/2hed+5Uv9s4MfRmNpflllN4SZK4jTRSs7mT02Wd+CjZJrk6ZoJJOBpAHM5I3+FL+f0r/xJwJUQd9fLtO2ftZqvSm1yazVar1lKYAYQc6rrRqFmyPuUXk9H1/+0z92/r/8w8ODeg7VBCLv+uNHPrb2wk/8g2tLa5/dKZcio8Pbg+bh33fv6NPvW/jyQzsPP7X9/OSO3XQ7nPcxk2CCe9PFsld4AhT4N0NZq9V6EyN8fv2NPodWq9X6XcGiYiKiYyGBoL/K083u7LH/+DOP/kd/LFvhr8r2dgRkPtZY3N1a+xN/+ddPnDjs+h9a3L/yyY8c/Okf7b3n0Flbn93srp46zf+ffzT950/fgv0/jGYVKvCXERff6E/x+9D3TFq+VD7TV11d1pbNWq03obZm1mq13rKICN5C1ahT43Q2ytLjv//ea3/lxyvDX95NT3SX5oq8f2X92f7KsYp375q/em14edlf/POf+9Ef+7w35svaXIgqnpoP3XLs6t1XH37waxfWV7Hvs2iGVGbq3ujP8JU+aUC/b1EZKZReXmz20kUCBMLeTW0+a7XeRNpk1mq13rI0ATGAjDFGiFK6dnj52Z/9CcrsMwkXgmxINps0F+YWgk/juTrL+52Fhckf+Zl3fvYzffA3h81jNht15gfNZAZy990+uC+7+OUzD4bu23eKjnXdEN/oz/D//Cl48c33XLOp9NvTGO0tQ2u1Wm8Ob7qrvlutVuv1YsmDCI6iNqmZ+W59YOXq2w6dnOBpqdfX8jmEYmz7253FabZcx/5wGI/fNfe+H17s3nRqO3yD+cpiAdoZ57Q0NZOSd452Lr5dfmFh45d8qEIs3ujP798BfV/PjO+/QFNBbSxrtd5U2mTWar0FkRoiQ6TgBA6wNVwD1xQqHEHiciqKaH1MoAA7g8kAA92rMgVoCUxhq9fthDRlxvpkXW18yq1aIMEEh4wUoAZcwQYYBnKkPngO7IDa0LSwYBgkB56DiTAKa+ASbAkuSdmGHmKGVBsbEQixj2hBBkpNISg7qGvNDWXVYFP/4ueG/fqcw3SQ9RqVxo0NRgul4e3swYdPn7tYvffeA287pnF2xXuTz69MQkZF7vJpLjuHNA7owLtT+NS5X1w7+QVvpq/5ebAEFZaAMHXEJIUjJl2HH8PVQASC4cQUIUDKjSuQakgDtVBrDCElRgeGTSRSD7CVBA0g9uJAL89j0otzmKoE2RuDV+ubQd//x7a9Rqv1RmpnM1uttyBFhO6VSAypR2SAAW5sEk5AqjSC1MIbcklAugNYIm+pADiqqCaNihe/qf97y6hOJayyyQw0CYGVnYbYgMDkjQolGAkWkQhoYmCurE3MpdYwDMqtRqSOwEJZKVPUoKAUk51kfr4OtaSaHDLfVHUNTeSZw7DI5uomhnEA0J+/tLo/Jzvu2tBUM869JIQYey7b3NFnntlZXerf847bep20MdpAPiMUSZsGymUQHLs4GTXN+UOyVjQbJ6/+8u7BW5rB+17b8yAGqNkW5DpBaxCCdr070lS1NQXgVAVaSWoANobSNIctskzQlIgzkybazCwX1tREdkcOIFtKaReaYNBo/dt/2P7eBhp7Yeu7s5Yvz2DuvfO9E5ptCa3VemO1yazVeksSKKBsYJgAKEQACQ3DAC4CCQyIIipi9FwIQUmjBiEQMStITDSvUzKbFTAJJgiVwlPiwtVZ2FT0ZgSjYqI6lb14IFBhSqqsKUeygMAGw5MYrzusGhVS1mSUfGJWUyrXde2JraYGMgtGAYZCY0ipMyGFLdBZJR2G3uOpqK+H6Yq9nmd5VCPRLc0tV5v5I9+68ti3p2+79dgdt91KfMbozDBJiGBwRk6omWZPPnOpXm8Ox9lKlNurp87y1eFrfR6SEKsqp8hwEUUPU46hNmQYlLQSmRhs57ptpbJEB+nhXjGd60kBzHf88ny2OFd0isHM3v7tJ0/9+onrwX1QIQY2BYI1kL0mGd9X9SJAvncDADJKgCheDmcvf0C75qzVesO1yazVeutiVUoJAihsJE2GVhIaIAECQ9GoQUUu1nEJ3IAaUAOQwiYtKDkgvC4n0vWjKuQiPbiupl1tRoE6ttOP7BURGoEKVpgZYBERLLFlRkQMGpNWQuQ7Np/xjDQyQOKhGWAACyikMq6rppsSJfXA3uRssEJqysSKervA1bX+/V0pMLu6k8tSfyZMXX/A1ytPfuPco79+pbwKe0Q5helw0zqxBmXZkLMBkoqFred2LzwwWtqlHlOAscnNfiezfsEbq8kkVrBBlWh6ef/8yaaZeuKurVb609v3lW9fDYd7cTm3+aGjvphkvkYkTpBmkhBnYTqcPnNm+nhnvVsVB2q/37JLTQ1joEQAlIi+79xeLpW92HpW9LvLy/R7imttLGu13nBtMmu13opYoUzkBHvflAVMgM2riUUUJFCm1BERRWNYBBMSVSaoYyUIcWogoclen9OZQsg0VoUbEvJi82QpIpoysxhxvMD1BdNsZGi8WlIT3CTZYxPcWudLbs6FpHFaULOAYlOpSUgggTZQDzEgw1mIsUIk+AFiQqy8c4aoJAs7B2PRiFXMdq9dObfyzvfcfXW8PWUpijmpF5782u43f+HK7DmsNN04u57SEK4m35BNntjlvappyvHqU98825zS26q5PmhCdmo6IX/tWzNRFRovTUUFqbi8mnzojp2f/oPpg/ll6zuwRq30u5Kb2sZKg0zq7UZ3BLOGuDE0aYLLFoLOP/3QhckL28fMkfPjM2HpQA1jbCJNEd8/YPTdt/piXzN+uWmGKmgvlhGpapvJWq03hTaZtVpvSQomVYJ6CAGACEirrAQUae97swVbqBM2RI0kQrTEHElha+QNTEQ5eF3OJpOFhspADagLDLJm0pmdzHHxHb1njxzK337MHtlXz3UqoxJrNDXNxnZ9fOKJ8489c2XpyvjYltxU2bnQrTDLgB7AMAmoQRGwJA4UYSI4J861urTUvTrPO9sXLlVLb9c0QFzIKe/q5PoZ+eK/Xr/5wN1HD31SZevSpc0nv372qX+xMXsMK345SJjsDutmtm95YXOCspn1s17h5zi5E18vn/n1UWdH5sIsC2anw5uDDudLSK/xifDGp37QMqWaY97BlQ/ecebzH742u/CwywuwVs0EGMdYpiSaspw4hUpZibwaTXmjjja25cLFHRnimPfbu+enC+8tUajvaojg75+M1O++fTGcMUH+jRDWxrJW682jTWat1luSAwyDSGpJ0WjtOLCJ03ATu1GWNlO9C2Rku2xAqeGUSwwMMtbVnFdwiH24LjB+Xc4mlOucd5PtIaW8evSoffJz927/+CdXjs+tdjqNc9ugTZGZWCumk5A1zZWCD0OPXt2aPnr+m998Hg88d+DE6X2YP9DoSi37kzrYCApQsLoUPPIZUqVVms+u/PSnxp9+Bw+fD89e/Nqw6pw8s3vlwiUZX5DJ0yf+tf7c5lPv+sDdGsdXL2yefmTcudg5ms/1fa+c7V4rcerE1tLbDpjuMYpXLAaz6/MXX6ge+afPzZ5ujk7YwY36eMzjhdUPDKtVvNZOs1NtCNZpgtFkbX5idfWRanLepgcL7RJs7qdJKwFiKsR0ptE3lhN6UYKyqmaz0jz/wu7oUvR1v1c1a7ozml4o+11JHqpAAr6npex3H/ilRWZ7vxFUIcp7k55twazVelNpk1mr9VakHoAiMaZOtj2GHmNL4WOL33j7Tc3xfZsr/eHCYqc/PyCiUE+qsFyXO7NyOJykM1f942e6p67u25qtbOz70OtyOjK3RDHw9uPH+k/+1O8bf/5jcvviloknRjpuUAbZgeywDdaYCFNHIbs4rJ7t2MUDy4MDC4M/8J6D16/Lk089+md+9Uwdb5/AzrAkSKAIIlIQFaojkDLVXZy9bd+1T91NTffsz3xgJTi7PpvfHk3OP795/fzHLl/dHqXLX/6VsxfOjusJipqPczeqlPW4m/nROr74r560h/Lj71nrFX62LU9/c+M3/sUL3ZM4mmcHtzSYwcXF5hvoXD3+4xG3QUav6XmgfEFLVkqgTJMEd2Zu9XJm03TOUSYkU5WRUgRTaCQQyO9wPZeaPFSOHQrxO9fs2UeuhaudNbsvn/qjHXNm/Lwf7G9kjqyoMl6xN8beJgAAXiqYKb67Fq2NZa3Wm0qbzFqtG9gghaksRbcB46E5dArtokgY9Qq61K0eurl75sN34L3H+PhN8cCa6S+gkyunikXITiBXm7jNrpF6H3kyHpQMVbYcm5Pnrj35wjP/w/0nLk0PVd0PV9iHWGV5rKUGOUcI0YEILkGtrR2oUT8BkOoOciAGyBwoII6tWYwzP9/83E/e+/Rf+UPHbjvC0/DtaNcFYs02I0IjoyEWhVgm42HCpnb6gmGAVYeoncW11U+uLn/7Pf1f/cov/N9//ivVvv9a6hyOkRdRrhEtkHSUg7isbNJg/rnd0bT0T8S8Y5mXFrP9K727bumFZnFaHisrPH9htnVp68KzF649f6nc2jo3xmQX46GUA+ycGp/5X79yy3v8kYPzet5tPbhdXaADVe9ANS+Uzt/UfEvSqWN/ZpjeWYDK1xhpXKqaHJG6CAITO+QHeSzNBnQ3BZsZq2RTNBHQxIogzTJXs4yGleuPqa/obzy/KyfDSurkWsXceknduhxSgCp0b7pSv+fqTPruLCb2amV7J0Kv2EGj1Wq9GbTJrNW6gQ0juJiRjZocNLqkC+XVufDYkcGpe+5YvO89i/fcemRtMHV0TdIV0W2BzJohdEIUNDTgZIpoXGBcbjhKSiTW+0GxctNd+1Zvflf+rs/O/4NffOQf/fojVfZD2P/+OmUQnydtKBA5ZhKJGuqIDgwgiuRdBzGwqoeZQFO3253uXt9nv/jnf8b+kfuO3JRfmE7OaHbO+ClIFY1AWEUURlkICiEozC4hQhswQFHVxbijuN7fN/7cZ5bnbzv4f/vb/9OW/v5Ruis2CewpBaEIUphAxrl8nHV2KI46vTKlJAl1cpAC3LNF0cv8e9+3wu85iE8fSTOph83GtfG509uXL+4+f+Xa5d1qc3fy+P3jx8qx38RBMYc7yz5furqNtHrtObP8rFsL5v2aS9lsQ81rHrOXUxApkbISaSJKChJhVQKIwMyWklEl0UK526SYgM1L4cwzm1p6C+JgC3K50a4kW9bwBimB8dIc5kvh7MWtMenl6PU93ctenPBsY1mr9abSJrNW60a2WMtOD2bOsrGT0c3dJ37i4xf/wEcmbztKzly2/Aya9dnO9ZqnxoeIkthbU7JphKMqsTGgUDXjgnswxJ6Zfah26mYdscdcHM1u/x//0qHbFh/9f/zNr1/Z/MPZ0Z8u7ULFASYiqCqcSqQoHGE9xAO5NjUCbM5Rayv96aXnbzpw+q/+ke1PfjDs75+MG88LT40fpTRBMshUxYgyi4maiCAkgDAlYKYUiAGuARLsJmw18dpi/+CPfyB5ZP/VX//5ac2p806tjEFk1mgMEFUz2C0y15zZBlsDBSVJCvZQZ2xO8GpfoFRo7q3Pi+XO0m394x86WDc376zLxg7GtRlNJmefPXvhsUuTc8MrmxvTZquaDa773d3+0entfyHRO1BO0O2h/J20y1d9sYUvE7FBjNGSGqgoQ1WJNHmAVDyD4Lp18uqQqv7V0/X2Ge2kxY7CJzbG52yWSK6Uk2mHNPBv7wz8PX3N6Ptupe+/tdVqvWm0yazVupGNnS/GZjw7WDz/k3/w3OfeH9+2HPvdU7W+EOJUpCSamrwhSmwNqyiPnUdMsxCC5UyFgDjXMWiMQKJANCkndslT7YyXuix3L/7R33+8N579z3/t/33lyrflrj97pXsXBgo1kpyQ8xY1RCWBc0uAOONCpBIxj5vDe/Zf/DM/s/6HP7KF8HSzcdJRst2s0ZiieDINl0xekxcypJxeLPMkSSRqwEZVGV4BJYIJWWhMd6sanvgPP3jf1euj/+z/+79LvhLcCkuZVCEZtJbkRBsNFUKS4IhhlC2rSJPQMNUEE9IEKMjmIrYmw5opF2qz1f3zy/u6xs2DBs2975z+6Dt2LzVbV8ZnvvX4b/7GhbPbpndLf7f4+HhUwxRUOkXzmoZLaW//q71+sMJMlgka2RKDICpiUmKFTUIxUQi1QXdUNqa3OL2q558c0XbWqTMHo4YSJbJ+nsWXm6ASlH//w33P/OXLt7zRL9lWq/V/ok1mrdYNzFJnrfjKn/6xrZ/5cH3QbIfxJe83d6prJr/OLiTMjKmdkRilCQqTqzMBkQ3lWZ8pq+pxFcukkMBkDcMqCVlhDikErVOedyrZMf3ee++1n3vX+Jnv/Nr0bLyE48/e8eOzuVthurFJDjAiMUZnnKISLsR5NGLUHZh78K/84Y0/cO+5evcBa7fyLAGow0RMtNaq7K1MF2Dv+J4MwTmrUbEEIlUwEVjJdF0+qrejNeX2C73penHxuSx/9/bgR0RZwEAGIabodY7SlGSbYFhUNYgkFSVSQxFGoI7JMKyQqNSUplAHtayXrO00wTfBGd9fPNpfOTq4jVYOHrrnyVOblye17k7q7Yn6LpjsVMLvbE9zFTAANUzeEjTxy4vwFUQUE6KaoMbYWdPU1nYo9q+dHO48L3OV81VylIVMKk6R2THbOKY4VXrF7nN76/y1rZC1WjeKNpm1Wjey7In/9M+Vf+7dxl96EO7R2I0zsvDbnWjZSdAmySywCjuhLmM+zw+PNrbTpK7Ve++z+TXtDHfrK4XzuXWkCDEoRzZwbKwo0DFczuKJ/bccv+OuW4cPnTlQXZ4Mz1e8uHGbXF+6E0CIRMTMMCKRghBDHLRXNI/+yR97/kfue6Y/e6H0V5wTtXFWzwTqnEkqqonFQIggjKREBioAlNklFVAiVVJlERUS4Qg7mdRpack9+7UTj/zTEz+k/ZPXf2u28EO19lU8KBHQyS/lpkPaV3JClUKMCkiIhSCgSApJhZBjYhIiioaToQQgNbvsKm96xs/Dzsq40QjlfvHcKIqr7lhK16+NV7q/EY795BhTyvBa446+vL4LIIiBOGcMqUoUGAKJsioTEVFyLrKgUukWi+vnzLUnp26H+sEVMB7KSjVEQIkFzpqkal6hJPYK05mtVuvNrU1mrdYNbKCcZien9TNinyy6pWIGnmTST01gZmcYwtS4zOyTZv9kN3v8l4ebF7am18ZSS97PD71r9eYP7V84crCUs6JkYjAJBAOCqkDNdhh1uitZyru9HnppGsKK07vsvt1LX/9mJ9/1gybbj0DKgOWkopLDEJh7dPneWx77yc9cX+g8TbbJaRSaRIGsBTsjME0CO09JSPfqR8mCBMIKIhtlr4wkrCQkCgULKG5LmB8cu/DI9lf+ztmbNvcd0+61px9ePHLuSvcdiMpcWpG8+7QzjQLBjhnCIGYiMIkqVFWiKpsgyglQI9CGKHCqjTK5Tp1q0SEYTKSuNClLsbh86rLspHuy5RkN4olfGvffNjn09pTSa/0SKi+35CdVVWJYywSIkGVRJVZKEFBMIIVWtXOMZmSfe3D3ytPSCXNZsh1FME3g+Ug+UbPpemV/EdwFGK+59W2r1XrTaZNZq3UDcztxWD6/XezMRSiPTEod12vKTOemk6aCRMtUoKCyf/rR3W98+ezlr9YyQhHQMZ0ruv3sd7bvutr76I+/yxxX1IHqmaXIjgUphqCCOTaiOzWnYXV9XarUAbBLzfhHUnZp89kTK+9Ad79GCinAWiEh6QMNmmmhj/2JP1TcNNielWPr1zvaMGBMFiU0ZUOup9SJMF5KhkIDq4CVlZWMAil4ELGaFy8d5AhSNhrdYLZNj//K1u7DfGSMlZm8q7N2afsMum+HKjB2gM9OW+vAtdgZuAvllEhFWRkwxMqkZEuVFBETMXFkiCiSEDULyWyRr4i2o0RLVkM+3ZLy7NayYHBt5RawC9dObT+4sXAbm26i17avqL50YSYplIShBsYwKQHEhiklgqQkSlZVIdLPs97GhfrciZ3ZNV7SfqHwoN1MNFHFfmpk06ZJdxC5o6q/k508W63Wmwy/0SfQarV+57YWu9e2ginnKi0n+TRlTQhl4hBjzAtrOm7IxW7n+Ncfjr/8d06d/pX64CW8t1p+9+7CXbvZ26Zz+WV8+9cmjz067M9uSkHLbjnryoSpMlpxSkVReYoxt9Vys5WNd4NE5M1sNTQDM/2Z0bOffPDvdWZXQ9GFEZDLGutSQjZ1k+lnj1+89x0ndneeyPPrVawT+WSzMnDkwuQ+YhZ0IkYgKSEkG0NeNb6MrgKiTWy4k4jFumko2A2ISCU6dA2vfvuXds59bXp0hjtGfGDcuRPTd77wTzmUzMib1Yb7i2FYsGxhxAaOnYd1yUKyBj5QBvW2YldlNrCNyaXokvEpz0KR1TbXHZPUh76deBNtJSyp31y16fpCJ6z17XlfX3u77X/+9D++5ez/r+bXXKBiVsSeN1FAqt7bYUbTUCdReMcxlNarUEgUQvJBurbo1OP5E9/aGZ/LDmDpQGjyFCKlbugHa5oCZ7P5S/2bAh/TZNpY1mq9NbTJrNW6gaV6YWdjLknu7cAiV7EhMbhkKuqZcuoN8lvOP1V+9ZeeW39SjveOHAv7l3fMWs0rVVqo7H6zYnZx+pHLZRhAB0a6CI5SZrlrfRYp5L6TUhjMD4ZXtofP7xy0RSeS1YnFOKOdFd7sTy9DSxBR0sSSzBTl7PaDD/zU58xqd8u7M7He6TqdljMR8d5bYo3JW+paocm2NcEZBRASRzEhSZBS3MzI2KExnHwn1mmzasZd08uapXNf2jzxL8/rC2mhzrpJF2xa0tEB3e00lYib8TjIjGa+2/QyKVOw1ayMTc2UnI3GRpgmcZNsrNg27MQ4YatqJO11q6CSkTxFCuxBhrJ8ju3i8y9sX722kzchE9fXtBhmN2k6OLvSm13+nY2aiAAAERsDIEZh4pQ8wUOhAqLMcKYxz6h/7WI8c2I0Wx/7SlIqCI6MC1I2lLayzpUiD+5dSWpGgr62Al6r1XpzamczW60bmKaVCxcXhmXZ73RMmCeMVaxxQ02GmTSayY498c3NrWewPCo607S4wx1IbupJmpqsR42TAMOdaaNZwZklRE6BopqAPGqtKRrTbybpzENn0wvNbTg8CFWGaRIqeOcomcXdkxcX7wIZqEYjEOTlzic/+uQP3T3RycnCbXNEFj11XNOkiJpYQ4yu4cLlhbcaGbBsMm9MIiFXSxrWaeLVGs6bCKEktvIWlPZdOZU9+gsnwzM4Wi0tsZVqxk4WWdZmNLf1C/X+Px06Aky6rp6Xji8jmUGe1zYpI4qqkoItTG4yl+pkGIBIiqTJaLKGmNmQNz7FamZAITRk57UpLpyezSYYNMlW3E9lT6d35fnN07MnqrOTzv7XNl6qeHlOk9QzGVJJgSmPwUJZBEnYOVJhS1m5k507sT28SEux6KPLyYINNMxsb9ea0z5t9W6vaYUpAoHQVs1arbeCNpm1Wjcw5eLaen9jPFvzUTUzvkxUgIdMlYGKaJjq1Rd282n35v6+YmNsDcjESTOpc9KF3rpMJjmWb593vQY8jnFIwiREkhubK7zG1PEHn/jK+nNfvT63S0tN7IRoDfnEHQ0HedQfXjTaCM1RErUCLZbN5U+/q7Kzx2ajy8WyYeogdBNNiCTRVETFOsIA1QBT30yz3fG0bAgutz03v2p9fxz0Wu1UaiU1xieN2unvn1xe+eaXrp68v75dDi2zd3Gq0BSH886u1XL0wi+j/1NX/GHYsjsf+5nRimzPkKjESCrKxthuRCeWHWP7ZjYhFqYAqhNKpaqRQJySeqKGUmOsc6qxxnB9tnNl1iVaajQPLpOxBbq84KtzNtt+zeOlABERAYAIW9pb/59SYlZi1DE5F5tkYzAsvd0te+Hkrhu6Fe4XVXBs2LlGm9Dtb9jmqi8qf5tozeJlb/6jjWat1o2vTWat1o3MhmkcjOpI3KASdUqGiSApGjYWLtS6uzmtysz4IsSdTZl18o7kc6FfXFC5ivFNd/fv/tAtxl2LoVLRrkswMco4JoRolvq37Zz2j//q1fJZ3BqyvBpZJVHvks1T3uHEcUbJkLGgGaCQ7TtuPXP7gSRx7DNVLNcQb1kSG2uC1Ilsnu+X3ZVT3xme+c6ZS8/OyhJlDevRXZ1bu61/+71Lt97zjmp+M8StTBtrEKOrJ/mZZ8aPfuPq/Li7GPNsPHGoe+ydVFlVr5ji2MZoc3iO833ijboiefVCEndMUZAmCCt8arqXzqUXnroURtmt+9ecpU7PdgedfH7J9YW6SUwsglXbJCqh6jssOn/p6vbm1mwlZkWFHhM0bunkTB2v+QLzfbzG+UOFvhjLQJBkiQ3DkkADswhEORoXpRRDhtA9f3p36wy6le8H6mjN8KU0E0ND1iuFnfbuaTQzzCk2gIfGtjtGq/UW0CazVutGRjMxy7tTn2eGyyQxwTZESMEb8s72O9ncYHmw7nY3UO5bWpiWNEY2Vd2qy6tmfOsHj3z8p+65+XB/WJ1jOM+5QlKYJkWR9QteGJ4u7v8nJ9a/Pjk0K/apHZjokpVgHcgkV7tQO1VhZVKjSGzio5/4wHrXr8MpmVqRq5eAmTO+Kmtr+nm2f/NS5+kvX3vhi5fHJ1K3zjqGsroSsSGrn/zW6MIjV3Y+c8fbfmxleZBPxicbiUV3/6Wn40NfPCHn4p18eHE2W0ZlYpkj78CNQm19Yc04ZfevLGclSp91plRbchxDqB3v7VRpcsjC9bMbj/zatLwyPYGht9rtmrllP3+gO3ew41e86WbH9/fsvEfOxpGd9ybajYvPDtdxBzIXuRNDMmbb2udt2lg+Osv2v9ZkBkDppdW9os6wY4YoMSlIVEQSKTtmSb2NDZx4aN1u876Q5w1yKOlsgzvDXv90rLe6d1XuVhAnsTCARlaSNpi1Wje+Npm1WjcypUgLl68zwJ6pEWEqWVAURao0pTS36O56/8FnH9594syZW/z8kp9tjHaHSexBHL/vwCd/6n1HPjA/K5+xbuJdnkSbqpaYiqzj06HJ5vy3fv7Cc/9qe+Wqv0UWimrWM2wFGUjNhNDZ4Tju2wQiCCzxzB4sTt57W0N6pUy10coiGGe10mmqNHBBa8Pz8/f/8pknfmVj/gJulcWi0QLBlGwpj1n/dNi5slt94/wzld7xQz+6Qp28sWa0vfDIl09f/ko4PlyZH6f5VPdslTRqStHSrJdtdrLz82Zn0OsX00y+tbLgkqGmdh0LazrEqUq1dZk3c1TNmsvANV6p+ohBQj3S6Y6fxi5iBynDE4vID/S7+5YWVhcWD+ViZPOhycqOmU9sqGOxWQKTweI5GpWH751Wr22RGQDAAEgpwQDMWe7YGE3BkRFxktQ4TSlCOpQ6p5++sn0yHph2FusCtUZjAqUqz3a6c6fs/lHxvgYZ4CGNMUbQCLnfvm9mq9W6IbXJrNW6kZGvm876VWnq1CclIjINhOow8iavZ9tqOh/69G3lBI/+yundc6Mqij8wf/z4oeP3Ld3ziYOD/TIKT6vZMGkDtkByhrNOb8FI59IJ/tZvnDn75e1iE7fYheUxx1JhiaMUxDNXg+oR17MOgQBRMBnxNy+Uy04cJpXEed9R2UXssxTqR0Ux3+wWD/3WxW/9y43+ZXu7PzRYn3UwKlI5l0BxNpkyzS3mPLt0afe3/s6JtcHbjn1mxXQXHvjGte/81mhl3R+N+1yzWTiaVaXJ2CS3EYbXvHmeyivLn9kxPyUbaukfLPezLJ+rd0ynA1aTVJokkUKPGYF5hrzpHN6hjLKMOqQSmzSZhRnHmrU8J1vP1mf5qhTXtFu5DnAV+0fL0CnbpbyOE81GZC/XMS4cC/UCTHxtw0WkoioCS2zJG2cZEoRdLikRPIAUyWhezrLnnt2qr9t8YrNSk+lYxxVCac2FSnZvvWfiDgGGUsMMjZWxWWwXmbVabwltMmu1bmRsY/nOZ07vH/vrc7HJ7LCuTLLsTJEkUidIvOQ1fer3H7jnPUdno44g5HlndWW+N1fXcm5WXfbFNKFsOpWUgVPm3UJdLZ5/uHns5y+d+crOcu0Pl4P5WbLKnbxLVQnEmaGqWnphUD/fn836B+B9MYuNFKF/4c6ly3MDjRwKMzIIlXRATcewS6HoHXr04fjwF67tP+vukbXe5njBZmQ6K3XqIsy8TyJrsxkcxh2324Rv3L+9eu/Hdi9NH/17D88/Zd6p/YXd9a6GKdfzDtmMk6WN+fzbNPhyd+70Xf+xKefKtF3Y9y90f15DNNkOmflI0bDNPDc8qmh3WlemwVxlrK/slBa114GtQyMGSkUVY52nehqkQ7F0o6tFTHCe2UyO7q5kGBHcxHXOZc3uwgfX9V6xr7mzq0rHYUaeG03SbN3cfbxpOvPS8QgVTzXXJuYGPZuWLz6+c/URPVRmc013jnkbW6UpAtsr1j+1fGzXvWvv/pSRABgn2lbLWq23iDaZtVo3Mi2FYh1sWbEar2IJViVClEFKmiBqpllvsu+wJzGGQVwBZwJdT3IVZiIAk7Fj37UFu8XJ9e53fuv6Q//8oj6FW8Us1N2FWd1LkWUmEnuUm6zYrEcy1znhhpc6703+R0G+dhOkjOqT77xnMD+/HsYTx9FZDmqixhBS1pkfbdYnHzk3uyRrWswF6gmbembJGzJRm6apyORNR0YdYG2+tP0TF6+tfXW28cL28PHy7ph3RjzPxlLX1OeS2ug7G1qeHuT3F37z6F9uqgwRKk5o0fCisRlZQ+wFQEhKAkMhNVM00xzc5UkzFxQu2mk5MybkmSVJXTIdtTFRGDVkmn2uE9Q1UyfJ+1g42qlQpyKuIw4X75uaAUyDYF7beNmpBkhkWOJi1pmbMvsklZDnlEMchF22OLoiz37nUtrg+VpydEMqbdfNtNjoZC8YVw/ufKNfdq1W63dRm8xarRuZRuU0LovNYXbzUhYDMztAWCEEIiINSUZKmswWZ12VKSAhjAWjrIjWGQ1WAvexhjS/8Wz9tV89ffL+cfdq/2jIlkZhPqROSk5rYuO5m8RuVWGrsFud5uHu6umVz07ym8GbKSOa+KV66/bbYu6uhLQJo4ScyAixQB2tjjfp6jPD7hj7Urc/S4tMTkxJu1NpDPnS5cO57HS3/o5N11LnjKfR+uyRf/Abt8XFO2lwQMyyGpPqzELVzpxOmDYW7L8y+uzxPzXq/iHEALBSDhwwfh/sDG5vq3RFgjWkSjW0NGbd8brR5cX5rJMmTcwqzoEcpa2kUE/VSm4pr0sOVV4TVAKEDClfdTwZJ8wcXYk0mv9wnfaBRkDx2saLSlAG8VCxdtTtTdg75eQyLVBMa0oxBJtfPt1cfaJeKbvLlfdhRiySzCyzj3P31Pwd4+I4XtskaqvVupG0yazVupEpgXl3snL5ev6uZcsqnoQRgs01EcOwNQxlmkHGiFuJp9b7zJuYGJpR6FqZVy1GW/mJb119/Ncvb5+QztDtr8zS1C6GfElnhlOZmiQ2cVYCWwXtHuh+BVdP3vSXri3/aI0JUgW7qKae09QtRqFeNxo9FRAWBZzCIMzy4dUwW0c/9bLaxGqk4ETScF2JNdnc1V79cG/20OCmU90708Jd1f44He889fAvBr/7ru5Bvb7tswmrUtzVfDDSWdXl+2148sB/uNX/46h74BpGVI3QovED2CFsDRNB1jknibURITcVd1moYXt94+KCy1ccL8zHjGIW0sJ81ucON67P6JYmH7umVG4CMGNsmUyJMObeBtW72W3j/H0ceqy78lp3URFHcGRswkyaMreRWXzXTGbDjBecZh3X2dlIZ54Yh6tu3zQbRC80FC5K17vo9Rm/f3v5w4102pX+rdZbWJvMWq0bmeaAzKpDF9e79Z3bHokYRFVDXjV5shCQkiVYBjFX1s/KBmDne84OTFzZuWovnZl869ee3jwxo3O4KRYrMfPjmasb5/ooUwNldCLrUIahk+2u8lN29ODSrZdv+sxUb0cDoA82yEaWJs5qijGzc4Y9RIjxUlfVYmdjUo+wKB2JCqAxTZXKnBcYtOWqR4rJby7e9uS+n9opPuk7h6bTkeEFf8sHd3f+/iU6d3zVTi/v9hR96EQmtrPysNv60spHdg/8J6g6QA0h2JlGTsowSU1pXbS2SUmT2hRB1nvqKCe3sDQ4cNtkNJspXhjueC5VIosf+IU41IX5LAtbS/lsX9fOz7pzde5TJWHXz0KHcW2ufobCcPH4yA6iTgnd1zxeIVe2SgIFJSpcHyhhjIqEWFm2bPoXT4zOfOfqYFbM12pNNDC7Vqad9Cx1d9buq/NbULe7MLVab2VtMmu1bmCkrExVOnj5el7DWibRyAyRSCBmhiLWUQVG1TqqgiPqdOYWGd2Ny/W5Zzaf+vbu0w9t4qI7kPUP9dDfjG5c92yXbH25Wk88b6UgRlNUk0yuFrNH887jxdyltb+4ma1iWltdUJqlOIIBMjaOQxRHVhIpQIYAqKphjhEgY12hVLMjsmwisyTbc+c5PWpvO7fyp3YX/2QIi6FeBw4mne/N/9hOdeU74/9lf1ay65BO5zo5Qu+KD1+au/3Erf/JlG7xPG1cB40AvfblMQAANjRJREFUAWojVcKzkEojIlqDmMlmRQ/WDydpe/3itevjwbJduOltaVJujMqmmfq5fj5YCb0js7E9tXk+ienbtFjU/Wy2KtmSMZnI/sYV2lvvmmdif2v/Z6c0EJMgHtq8xhEzkqBQsDpD870uUAZNXT83i8nB6rBz9Ynr0xf4sGSLZGvTIC1Puukpo2cH75r270QUFhFuG5e1Wm9ZbTJrtW5ghKBMKa1uDn2EJXYpNobhE6uIsclYE0WhLKKRE1Me4sLlc3PPPTV86Funzz/b6BhWugcWV5vJcEsaO99Fx5S1wIIze2nXdWMhdZgU9dZ88bRfeLD/7osH7t3Jf1zrZNKEzVxDCYAJyOZFTCxj6U0kFcsCIk1ikEWthbVOKaqoqoQGkjpkJjLbtO5JP3hq4RMXi8821QpMRVlwSZpUD1NRr3zieX/uaztf7q3MMmOsZle5+BeYnj72Zyf+A5AZlCFqYSJZkAUltrVEouQ5qTiEmJJILGex8sePdn/0Rzprh99+7O0f6tt8dH3nsaee/tZTJ56+cCkP3bvf+al5e2RnnHameqmchOm6mWz0JfRhV5tYpFDb/rfpo9vFxyV2YC1M/ZrXe9kSMVdxoMr7utuLhmJMLiVmjlnmzz3djJ6nxeA7mqtSEAxNdp7SM3bfxup7JtqF1Gj7lrVab2ltMmu1bmCKBgC4mNU2wTB7aZIkdCmr40y1ioaUATZJoJpCwuOPnf3yr5VPPYzZdmZT4bS2mI7TWZfQ1/yijE1Vs4AYaYp5YJUG83OD7Sx/htKzvbefWvupy93PICXU2kvliABa5GRMPN/rr6trNNXkEoEISZVU1bAPnIzHrEJIMfcum7FNjQPS3KFzcu2ZLF8/9LZ6ZR7bF4pg6tSHJFhGhiq752L6E35385D/9cVFmPrgV6rHH1373IXuB8FA2TRZkY81eoI1UMMGxsCwd9TP7KSEkCFmohAGA/7YR+54z71r8/uONnUwVSgOz334vR/7ka0P/N1f/uY/+uff2dqe3fHDf/Raffzc7p2N2Y8l4fl1P5320XlBvpXLSRfrS8WPoHMgn0wlFpKGkXuvbcDsmJInZEoTwsy5kVJgzhHZFlQHd+qp65tnZit2n6/UgiTmOi8vzGR4+F3b3TVEeOHGMlKbzFqtt6w2mbVaNzBFlpXKVk8Oh9dG/QNFV2Lp/EKJEhnpXrctZSRVIYBmvLY1uppCuuv4TX03F+tZkblupz/XFcXMWZvxQBtMRsPJqGrKLFw6/cKFcjQd7iTsHllId909270bdSIkAxrnRmndhgzsXNg5tPDEwCxIzCEzgolZLybx2m1oGzjqu76zjNnGNpkVst0UKRkKRk4U/Wdve3eFn+Rtlk5ZlyxZ00RnY5GqUtN1zB2/tvyf/9bmUrnv145Mn/nihZu3D/wB5YMou56zUO9WncbGApxAfjleyn1eYF/AQ0FcyFlmsz644zt1tT0o4nJ3qMNT5OsJI8qgw/N3rhX/7V++fb+Nf+2//cbpi/+w/vTfajpLGNXoXFNZJVNsUBf6I8CPIAMAlE1lHBCB1xjLAMzmtQOqt5W8N03eXewixcpIpwF1XziTHn14w4/44HRalHly3SwPp2fugSMHzxz4OOkt1FzVoocYQO1sZqv1ltUms1brRmZMsuNG/e61T26O/oV094ndrWlEsvdf+7vfv/dW4vfszg998MC9tx/I9UBuCovU7Xbhu5ARsogkOrMkCg4IqZ5ys333xpX40MNPfP2JFy5ORhS1FgezqFiPqhAPzSMl5BLj8rnt4ylcc3vNOoiURFUZsOrUTeYGmS+4dma3meU6WrUuxTScYghDdp9SV0iRRIMDCbgmMoYRRSB+tnDHBfMjE2FfPzK8/b569Y5QExCVk0k+ERM8MAPXxl50bgozBgA1oeSCOkwRFEyWotQiu+y985kgpjhu0nU2RebrD75v+TvvXnjm4U176v7hgUEobkXpKdqyqdBvkF6v8SKJkVQhEBHn2XJqpOxov66WLz5zsbqK5TDguhBBqdXE5Ce6Tbn0KcJKajaN6wcpAdPuXN5qvYW1yazVupGZEFNEWtnZfM/5S1+s9hVsE1F0cN//L0kAuPL6oOe5s4tUSoiaopCTmuoCjgMxS+FUkjVTazlbyu2B/tE7V275zMfeeeo9v/iVF/7+107GYgdzQMgtN1EJYhEiuIFbGsutGi6Qg7ImkgQRGFY2ymV16cjR9+67ee3U01e3en4ObjiUhWJxIrIbgc7+YAgUIWAYMKlJKdWWCJpQN1osDhc+MpxmOHifW7wj6AGIgY2hmUI91Ks6UAKCK875rCRzHUQA52xzUsQUJIgjoagUnZemqeFSnnsXddY09Wx6803vuOVApL7n6w9HWVq/9QCnRdaiyjWnWfVvPp+/I2RUYzKURRiQWCdR6iSllCvbV/xz3xjjMpZn+aDx0em1nnncmadWb9safFTjPGQo2QCYAO617j3wb6Vtzmu13lTaZNZq3cikZsnUFrFJly6jvGfcZVhTfG+Nh75n5qtjc21GjZQKsBPOWNWrsZJhKlNWdr7HhhrZrVMDdZwX0+qcNasHj6/+7NEP72Dn5+7/ZjPsweyPEHDt2HumaWMcw6SpJpjcCBJpUk0MYnEkxFrl3frdHz58/qnNs2cmi4sHKNaznWY4Z3YkarHU6BQUgcYao9wEMgqJxJ6RyjGJSRlrfszYpTQjlMlmDG4iBI4RmZSggHqXDTObqU6JDCCs20mYkygxKCc2klA3zApCnVDlhSMjDAFVHZuO93S5vnD9hS+UCzfNeu9tJFBHqyrBvD7JDCQgYjIgMoZUUgiVcw7iTj813jkVFks/mEiGMPTmuk8Pzh/eXP2DFQ04Mrme6pS0IIW8ntGsjWWt1pvLa+2T2Gq13kQ4WUqGTcPZdHv3chNmFHMnBuDvOeTlQ4GgdTCzxo9rP6vMtKRZ8FWikcsqW9TipkITuJqypC5lflIUu8Zc9Xxq0Z38z/74LT/6zpODyS8Yt+tsB7wUVNUFY4xRpHo3KFuTQYhUoImhiqQiedatw7X33rf0gR+59TLHR3a3h0srw4W5ndzumrzmg2AB0948XYyNpgRjBTZSZozhMPZNlXFB0+Sq2HPkWWIIcM4xsVSgAHUkWWaQ8ZwmEKmamOe1tZXxyo4FKoB1jhlJ4ZxLKZUhVkKUdzY2dlITenF4HLMPlc/etPuVZCrJa8dTmP7rNmCiZAwAaLJGVJqU0MkGkxGee+i82cR+yvI4Nlxf8/GU651b+1jTfTdiggY1DAk25pRer7nVVqv1ZtTWzFqtG5jTrmAUdJN5cXu62dQLmvVSGhN97w9d362vRA7iLVsb1APM7DQhJbXWplRCZio1kTIFQ2yMb6qKNBTsrZ9NN4cHblr4jz7vLz/3hW9vDch+xA7eHUlmugkLpG7ZZHVgNd6IcUIQERLVkDjFwN7W7NY//Km17Y3q/p8/S7ML77jpwKyeCzNfp8OAR0qAg3TFBsQGFgCJ+ibrwgggaBK5WjyJMUEE0RB8KGesqkYBz8rWkDdWGnKUiFMM0KQWJKRNLIWEGAZRqU9MhlUTnJ2TOjv/5PnJ2dlayIs4OYbKX38gHPwpdNea6QR2AXh9mruqkiEjKcIE4sDMhnoa/Zlndy49OV0YuyUIU9ruhpPF4Nnu7bvznw2xtugKFGkCKhTMKqn9obrVeutq/3u3WjewoKxWQSpY3li/Y1hmkUwUC2Xo9/3vVkCTQOHA84w1SoeNHCn4yKB7W04rTudIMmdskWeZc6rU1JLYF91+bKqy2uosNZPhNz98z/bP/geL+8/+Dffs/9rZeZQRQRlYk6TRhId1FDgDY8l4SSQJlNSkMpEiTEdnVg9MPv/n3vvRP3bLaG30aHnmGpqJ8WXThShSgkLJwAHISQWpAgQEWIK1UMDmwghpBhLAmuQAi9wAAljmynHt7ERiANfMRnXAtCQyDywWxVonX3KUG3U+93VdW/W5DhZwcPxCvP7wZm8dt9j5nqh3WZ1mxgFsDXrg12+XSmWAVROsEkeXWWe6m+vhya9udbY7q2Ehm5Jk3bNWnvaDM4v3VelIkkpNUCZEC+boJmL8G/26a7Vav4vamlmrdQOTGJBb0AA827r6kVH1y40NngpHFfDb1iKpKgCLXohZiN2tbb50fmN7fUixXhr0F9aym47051YXUz2ZzXaME2cK47qVq0dVlbvCWt/s3Wc6c8/xW/7g/iu/+dy/2tq9Obk/VNnlxAqNSPWsTgpryYLIpMgcEwxbtSZrZrNuN2vCend17sf+zH03rR391b/zlfNnT6/bNC2nmO94SpEgaQaawe3XuOtSaYxUqUZM3nsmaabzyIwyDFyqhD3DeaGSVCEGPCJTkq1EayARGefmy0ncvDasQj1YWuz2FrLU8xY1piq+mNuH3Xz3SnrwV5+6/rgcz27NN0aI5aQzH7J+Zng2bgwNUhqBXp8wRGRVwURwbCw5mxmur10dP/vt6qbm6EK0Wgae714106vF0mztA5glzgbJztDYXBYq2YYrkyy+vp1mCartarNW602jTWat1o3MqzQZsh2WfIduulQO7vEBcV24IAhBSJKqKhNxpoTSV7m57flH9MFff+Hiw9vVFWQEoq39B+3bP7T27v9gYXCM0J2l5BzPaSKLxqpaTJOgpjF3aFrT6i1x5dj+9z1TDi/d/3Dv6MW1T6DJutjd5bedu/DtD9zuShl1CiO64JrGNBXHBesSearSDph8oH6/ec+PLh76wOe+/itP7Hxl4+FL/436v9B0P4QmE1u62oVsHWxD44PrA4pUxiZ6Ypm7nk0codOYjH1sbAmrrimUDVId2BpSg5wKyaOrmtLaSuzNDzwweuYbOx+9a+Wd75g3a5FXOFta0hQnw7n1c/LVf/bUhd+QW3bz/fVOT+apmD6eT3Zv+zOz5qDlMUBsOiKvT9lMbWnVBOqj3Oot1a5rZCM+8aXd+W13rJzMRR55XGL3sF3ZPvxTIxRwExFG0wO0cmOoQ7PXSu311MayVutNpU1mrdaNjBIxa4Iop9Tb3B2n1IuxB5MAEBEzq2pUiCSQyeOBzbP6wD977tw3Rqs1zc26Hc1Em91r7skz1089dumH/9Ttt33i7cPq9DgMrWdtIkNFDIiJbIyNhHFd7/S603kdH2um1ckHJs38zsEPzGK/qNceeXrr93346L5ssYkNkWlC6HTyRqRuQuYptz42oYlD0PW8y/vz3p//sx/5+CfTv/x284VH/tnJzccn+Xsaf0tAj6fQJJ1uUZdVjAF5LtZVopgVxsVAtWgDcGY0qgZJRLyXLowxhlhVVRPDpGag9fJkY+vso0hPn3rmi6cWD/C+o0vZfmOMW7988srT4/Acbt7Ob4oL/RJ1vz6F6ye77xwWSyiqmASNQF6/AlU0ZBiYGZcnGUTpnzt1Zf1UuKmEm0ajxayf3d+bnFv7S9v2Lkg7a9lq/SBqk1mrdSPjSJKpKMAhzV+4uhH0uJU+MFRAVYVUoSoQZcNW6qXHv3713NdHC9fcYckWx5jjLDZm5pav7myfuXTt8fmtwdpScet88iVsZQQsJkVC9OQTSXA2Rjed49k8ze6M12nz66U2T8/l1dIxU/OJK9cubC0vHSiQZv05X9UaLZUhek/gFCQpEqgm3nY2OuTD8c7b3nfo9ncs/oGP24dOXPvqo7/5+Pn+DAeDal2O8sTTacznD83qpa1xD71lwb6aUpIINshUYoNAyPsICRACMussA6IQZWY2XiuL0vYbLNX7+NLuzpP1uLuRurAFwgS9IY7EwXLVcxFicDVLj3dXz698tspvR1KgBziXTDCz12e81AkIZkboO7NYTfITX7k4fFbeUR10zY7N/TnX+c7S3acPfqbmBQQHrt7oV1ir1fq91iazVutGpskAIgSXUpy7tD4NMIW1AjCQRAiJiBRkjLM+v3Bh+zsPX6x3+WC+f2W0O9/MemJYsyZcGXS63Wz/uQeuPnQLf/zP3e6KadVcLxjEnoJXWENeNGUGlTS0Y7yHaTbu9Nlo58HxGY23/r7Lbnjpsnvy5PSeAyvajCHazfIq1pHQsS7FmEJksLdWOcS0HSSVWRmmWzZ0Duxf/vH9Rz5338Gd7Xw4Gp7e2lEpQeLsUp7RL/3i/V/6yjnF0tW7f3pq90EXsqap7SyoQhkEBaAKSO4sA5BIqkSAHRKPTBx2EtZAczH3JdmIyY6Kkzyzy8n3R4w4mQ3sZI4eDMOnl3/fxtofZJqXcou5m0ywqXl9rswECCbGBGsRUuE661e2zz11aa2eD1iMPu368ByVWyt/uDbzkBqvaz/ZVqt1o2iTWat1I1OFAEQwMTm/vj1XSljwqkLEBFaoEFkiQ7BMfjquJtvwUkgppklLRR4ndU5Z10y1kn3dxZNn8eRvXb/ns7ct37GUdBx1qixkQEoM2ttHYLQzvb7jySM0tNDp3tqUz527f7zdD3ffeemFo996cPfzH75jzk9mu1udnDnGzHHTTFidMc7AJyWNSpCM2dlrKl6pL6GJOusubvUWitVZc1d2KKVZnUInz7eef+bb137lE9PJHC1/+fnszPHP7QwO1JUgClzHqw9lrdYAYIV3ziLy3uI6QFSZ2VnLEQhNP9huUiOYJy5RwzCaGGyG1flLC+lp3XwI9vTKx0r3dsgsB0IEZcOaInThdRkusqqBkDzHOB5VX/qtx7GZjmSGsdP4/hmz/tzi7cPBbShNobbMdiGvXyu1Vqt1g2iTWat1Q2MVQ8Yr18G44c7du9PtfRmLiFpjYEQjoKQUFRS1h55p4CRz3NUwSwCBVZW0a4Sz0uzPl56/snXumd2lW3spROesAopGNECj5czrYHhtZ2MUDgK92DXBLzu3NtnefOaptTvvGx4+/OjzTz52qvOx9+VpGqOAExWZjRqZmWAhBkoEECszRQqikXWaeRDXk3ilTkIdW+OZkpMfHJjtTn7rt05eP/HEPf6WpWqYn/7XX8kWH7h1IXYXId4mawRQbWhv8lY9GaMNoKSqqtL0m8qr6QezU2on9vMpVzHU3S5mkGDV5x3LvWuMx+Ls/FzGb7tPs3sxKpCq4FZTcNBCHaF5fUZLSOAS6swYvbrpvniZPmIHdY/mdsfXsuaBTvfigZ+piEAgZND8jX51tVqtN0CbzFqtG5kShMhY1VLUl8MPbm//Wuh1TBLnWQERYWIwIbIouU7eW8IWJtLZF6tsczhaoqzSkCOzrKkadwsTdnHt0kh50fc9mggVpUqhjg2oEyfFhdOXze54IdiF2pt6Fy47kLlH1rd4fZItf2zrwqlf+s3Th24+cnB5EMoRGZA2hclUOIlGJCKGYYGKxKnYXl6wSKonjKH3aknI0JQmzP0sW3r64TNPP/Bcv8pWwL3d7U+w1TNfGBpz4vino12T2DQQsv7FiT9NTEoKJiVANWUkldbaoU2HJyeXrkvuEDk3onUpSAKHaV2Nnp+WV+Ywt3Zz3lvpja7M1ScmtJTyLtzI1D5lBTB9fcYrMvwQNhfL03BPXX/+audr6/ZcCOkRTU/s++xW75OoGU5LqhFzUNvuv9X6gdMms1brxqZKRA5KUNPM7hhNvlTXhWdRVUGKMRomNmBmZjs4NHf7B2/+yuNnN5qtfQv5ZJb6XjSWHJNQYIq9fDDfh7FZnSSyUiLWlHFyFtaZpqbxdjj1zNX5IfrJ5yHNYTtPsprvz7i+vnV6u/7Zwso3vvXXPvqhfO7DRZ9CN6tCClQxW2Jm1hQ0kBAbqJElldA0EVDDRMSkRpM0Iacc1K02mhNfPj18rr4rOzQ3rhfMrN/vv3/nxPrlpe3B2y7NL4iPcBGNBRFAez3bSJQZAEjB/npnfvHWu+fv/OikO57rBTMejhIp4DMSBNXSeAyOibUynRm+/uw3mtn26uBDmn9sTEMyu93p8kQLcdnrM1rJgGbsUFcN7M3U/fGnLz216J5fOpp9e/3ItdU/VimKNF9TJb5GSK9XH7VWq3UDaZNZq3Uji72Ul6CagjFpqRyce27r0sfvcq6xAY2ysul4gYmzIHVKMfbpjg8dfP476dRXN7KuHjrEcWs6p/3cVptNFdcGp8Zb4xy3rt2Uq5lE763KWLPuoJbJdsUDf+zJb25tPIW748FMGp8Pw7Sh5qaDhVupdi+NB7slTfhnh1nzd3/lfz5y+LZ3Hj+2Mfn2si4N7cQ6E0EqjtlyUo7JMaVUiskUMEp5MpSgFKI3teNMjz/7UPncl3YPz/hIjX2h8ZhgvLTmw+cmz9CTf+ML7/gLlw59GvUVpyYgwBiN1DGWxQuW2RlKO3UccJre++7V99/xAa0GUvsURFMiMyYySh7IE7IqmSpQnXR9d847LeOoSt9ANXfy0c2//388M83f/fzbfwLowHbQTMlG4zTWDXzxqp3FjEM99cZEceIGSMnaGmk3FsLNca2GpjdJuFzRoc3D/9Wvpq9Ndx/sHvgIdN5Kv3Q1uEZDRnvp9ZpGbbVaN442mbVaNzDrJMICSUkSNOr87rCvxioRAVCCWhVSigBAQk15863zn/6Di//80m89+cwGL/r9K4vV2I4TpZW5a1xezXDgztUDR9dcukrT2nOPDWbTKTLTy1Yun5y88MAFt2nmSp1v4JtkAQqhx8Yn1tpRR+I02vz9335h6V989dTxm+/udY7NZldN4UQTaWRjrAZLYqJSSmo5ppKt00RBooVNQIqOKNu+Mjn5zTNmE0sp6zSRy7prfGMuH0yFmW18KF89e/rXQ29uPT8ifszaFQhYDEdGI6kBCwwHmRKp8WRMYzojo16FCCI8IWWoJXjAz5EXNQl0qx9yTIlztSls1RsPfO1unB/vXjLn567d/PFdEFFjyYY6AYabJGxeeWCqLlzdFA1CsI2k0Ii14jySFb8NLlPjQH0kCdlNZfxE3r8lZkcirUUYaAkkgF8ctVar9QOmTWat1g1MZUroqloytRoNsnL1+kpjla0hIhZmcVBSRCARkk8za6/d9aGbm/iu73zxqQsndq9ubfQ7Cyw65dEWz1bvXfnA5z+wdHNe1Rsd1zhSYREYn61MNwZP/8bFzQemR8Yr8xX3krFJicEaOugYzWc8r0nBoTJ3w/yJf/mNv3nP0cuf/9TRbR1mLJDIFKExNbVGscY5YytmSGOsUZBIUgbgHBfGrjz79OT8N4f7xnatyRdCKFRcYuGyG+0hmElz+XadPbt5FLe8M+k1m/pCiTRaG5nrIKVqIlhAQU2ibeERwCoEEgBEAlVKIGUDQ2SUmICoDkGSetM5cP5MuPzwt+6Y9lY8Vk7/H1/v9Hb3fUhdJpEBWOtdXZWvksycm0YHbRi1sV1jMqkbIC2DdhHnYPrgcdaN9XASo0N3McQjDRmRACpBNaDEpPp6bsHUarVuFG0ya7VuYElKoAtACaDUpNXL15ZHcbJkHGlDqgyjSgqjnIAoZRn8BXSq9//+Y7fe+YmHfuPU+cfWp+tTbTx3suPH1t7/mXfcee9q7V9oqvWeDZqNJ2Xw2YqGtVMPbD/3xfX+JbrdL+Rx4kCRVHPUMURvQjY/K/aDcldIqAua++nn1y/8rZ//uUOL8a7jxzLdIQ6SxpJmzhtiSNAgTohBkUjBKjZGBNI56wdXL/pHv3Q+nsNqMz83bfKUOmCopAYVMng/dtdH891RlsMWKLsqAAkoOi/EIYVGVYmMT30lAYWERkmU016LMKacCExCmhR1gkaNqlqj6GXzzHkFfuSxU8NruHnoj+ZNPnz+4vO/dm5wczW4OzVjOBOJLb3qpkZBNr0YS4szDKpxhXzazWfZLJq0o7QStDtMCFSRZW0ab3wDgZbABNwQW4JXZeW2o1mr9YOoTWat1g3MWpuEVQgASKBz29v7dqryaJEBpaXGIAmsAEQE1tw7WzS707MR09Wbb/vsT94RP3lHNWzimOwgN8uMpXJqHle51JtryibMYlgYHErT/U/8xua3/vHJ+DTuxOLSeOpC49kgQQTR6MRImfUauwRNLoiTNItL6P7Yo+cf/et/++t/8Sfe8+47s8HSIIgMJ7vUQVEUNWlZq5XCmqipSUkVSSgZEFLvxHdGZx6uj2BlOeVFM/NslDWIVuDk/ZCqK/PpqcFafeA9iNvMORIDYCbrmA1SFaIYI3DKIFJKhkhASlbARCS1Z1KQgkg5JWhiI0hsG6mipfy5p86feGRzTov9RW8Q6wEV924+dmb9iZO9O2GZUYsUlXnVZEb5oJmOk4mZDaG8dnP37A+9bXL7arN/YX5z96nnLob7n1t4bn3VH7wNmaRhRGcMqRiJYZF8UqdQIIH4jX6JtVqt32ttMmu1bmCKTJFAARGwEVyIrEyrs6njWdRoMGSJNLKAX4wR5XScOxub7TKcLrIVWuTOikewKOpkq125mnDd2spwUdf9TmdQbSw+91ubD/7D0/IYjofufjGuHi2AgniGCyWmuW4hVDbn2IWp67LTNYHRSPe2ID/7jae2ffPMT3zE3fdDd64eOdiXWRU3y3qa2FDXa2nYkITGwEdDzmcmzm9ckme/usnruMkNBqNpn4mBRhIRNXln1JlcjnjcLlxf/mByN6EeielZzWEMKYNMBDWqAg2IlscABEkhEFUwAQI1xhgQ8FKmZWViIuY09AJb987f/xydxtqMlyRwOcu0+KAOn77wjUuDO8PaLc0swQicRXzlopbWAXNH0+7GXPHgT35m6498fPq25bMZrvlAoDTG/G+ePPrf/VLz+OVFZGvUaVxyqgXBEIwIwCCTlBLa+cxW6wdPm8xarRtYEofUwEZECwIglLo727u64FRBFJhJxAopEUgYUCTrTM5qDdcmnzRajuqq1/MhkQoZnuSZSnA8XejGudmF7jd+8cmT/2InewHv9fvmU2OnI0/O6GwGyimDIjh7NZNR14tmxvclyagJxII6xfyTaWF8/3P/L3f9/O7OlR/+9M2Hjx6xRVanHVUlGHAgVKzJGJMUxvbCuP/g169c+vbO4iwvwqQfZrk2pB4gJWqs3eGdp+YH35770Gzlk7GyhoqEBvAgiJCoTckqDJxRbmqaEhmACQwYJrO3b1WQkYBIQS9uLKrMRpmYc0tzWy+EjYfi0lVzYOY6ZW01Yxkezjof3n3izOUvPDn/07D7TUrJOeBV9m3q5BhureTn/vSPnvuTn332+Nwzs2unnGVLhTTz89T92PHR1g+//b//x89daxabPBeVpIYpU4JyTUaJlMRIO53Zav3gaUvlrdYNzYPEWAUMJCHVdRW3N7b1xR+6hCgSC5CIiMgooded5+gzLhy7yWwnZZHneNYZldkkZrVQU9i875bjbv/iifqLf/vpJ35lp7jUuyXsW9iOxWzSswaGa8SJiY23Dbgu8q2Cx3NZ9FkaOfVjdAHTAYzw6sx+cNb58JVrC7/yKxf+yT96+IlHt5tZPzcrngdovDEBqFhhmUNDsXG7m/qtr1xyO/5AseyrcsFzpsJQAysSmloj0yOGXzj86W13jI1P9QDkogoEIhyFRVnJGGuNs8FSwxzJBGQBvhZuEkKSaEKyDbxYJ85SbkwOKmCCAZifeuLM8ELqzjqrNpN6ogTPE6e4mzdu2XkgDtfh5orQIL56RWvmFtKVP/XR4V/63PUV/5Wd7Wd9t2t8GnefpeWzM3l0YL71mXc+fDj/uS4eQDTJTWFrsY2aCqZUriAqDf27vgpardZbSFsza7VuZH4b432k2+AAYzGbq/gD95/7zU+970Ie+3CpozPnuMtz0zKCjNEQm4qsNigrgDJvwUWkgM3CLVKzWM9uWr9Am6dG5x44femJ3a3ncVgXbi3nFmfJNw3Dk8BquF7gcLW8W1/c2dd91mRP0U3jlZ8AZfAlQheAogYM4vUyWyuzv3ZGu4fx1We+9vzWwyff+YF993780NFjRa8/w9zl8SSjArtxWszdJLu3fuuXTm8+jjtmBw9W9S1Rg0yScZyyhmlYWF3K//nu7lN3/ZHR4OPYtZltZnmN5IoYymw/wvPOg5YCr4vWdWF4FpQRmNSBrRoRRJCazKbVyFJSrBAyFausYlQ4y1cvnKIT397SSRxkHEfbXSTCVGQ+pE23ulTzqV6hk1hOswR59Qb9bnNfcfnHPnXOjn6jo0yoIg/jYGQa3mku5Qv7p/FChw5/Ymn0/Jf/m+5d/3hKa1RXahtkgDCiF1X4GdBu0NRq/cBpk1mrdSNLgBG2TEpKCidVYy9fXojDtLigvTiRutfk/cpMrW16ppdgSZEUiTO2meWuTY6VmuFN46HZOi/nT1y58NTVnZMNXUY2wjtcZ1BTb1JnQRyBjRGJUdNSbYZ63WIRUzm17E4d+sxG952oa7xKF4mLCz/Z29o8yFens+qbv76+8ejGOz94fPFdi8ffOz+3uB9Zsmlq0+LJR9cvPnB5reosUFWgdp5jEIJmTBNImdlvNdsX971vMvc+kgKcwt6jMRpNwDZ4/4VRNtryy+4OKpKIW5yLEpOmQBJIo2rDSGDysQkqBCGoBdzeG6KyWn7+kee3T9X9Js+Ts1FytiqkGE9t9mi5u7H0MTUeJERdTQ34lb+EGuQf/+TlhbUH6q2TKQtFZi1Wqkq7aJQ0hWmW+SYE2dpYaUI+OT2d//+3dy8/nl53ncc/33N7nud3q3t39c0dxx3bxEiO4yROIAFHCQIFgmQiQRbALIYdCFawmA2sZj270WiE+AeYYTRBCWECyaAktgMhthMn7b6k791V1XX51e/2XM453+8semY0iy4Wo5aodn9fu18tqo5Uv8Vbz/me86zDWJCBRIgAQgQhq5uZSj2BtMyUepyxA7VEImwgGZ6b2L9+88IP791c7m+seAvbzsVyrgwWedomrIKJ2UVybQ6LKRb3Zu1effEHi8O7s8n1Nu6hnGO1Ljfz8oZZDvvXi5yqbB0ElJJEMtZTIXmtcXtFZa9Wu99ZO3lp42XY08gWmD50mak8f3nweeT2lXDxWTpYXJ9/9dJ75Tfx7KdHz3747JlnRmtnTuauvP39t+tL6WxzYrM97KeUhYUcMrOLaVjcKfI3itXLH3htPPiMtN7YHI2BJCNsq4JiTqBvfPep1Z2/eqHnVzeapfqUL6dFsMNRsbLW6w2dDVnQQPIw5ORBhVgnklIn2Xpni3J6feXam4e4gZNm0J+3RTI941NGV6W9per1ImxvvGbCEnLHtERy/6hw6jc7L7+40wvXEfbY1ywrbAGKaMSVsujq0pTd4aI/PvgZuNt3Xr/ff6F2IxARZxEBPXjtu4VS6smjZabUY4zggS5LghByhsnshpPpx/70L77y0ulrL47ubiZbdKNB5U4MOKT5Yp5jm5pFV9eyqLkZ53YrxX2EObDASoeRLYfSq2oazFMvHxhkiyw2ZQuWiBQdyJliy04kuNtr7purn7py8neMfYkXe3DFUaOr1i43w1+7LM/Zw7+W9DcXVpuzCzv+6Y2LNxY3+hdXTvuTF1aT8J0fbBcHGOXmNKMnzImp6LX5cJ7j1qD/j0289NSv7qx/PskmusPsrRGYnBO5Tlp0S2HFTPZ/9atv/N3V+HfPGox2DkLOzqJXIoyMHRAVYh1bQrlGph/K5arXr5yVIpjBUq9a6d/8/nb9o3ymLjdtv6y7HlkLqqWrS3+pkvc2X90++RkxBboWzjprj5j/x/ry2+uj3bzolvuFB7dzm/0WlcH4wDb70hoeHt6bD2fNC7lyO+9cP3NrsfQ8pIQIgUmYjQE76OFMpZ48WmZKPcYMbKaOycB4SAYybC/x89fu//u72//xXfrLZ2fpqf3mRJuv5a50yKaVVqQGJThBkd2wK6toRxIr2AKwiZhrz6ZHtu/cgsqcpePOEXskI0JAztJs+D2Z/+0Qf7P22mH43WEONe91YkEPf4qUp4Tg4uijP3KrO+P0yearHwvjD55c8/eovbXf3Wgn724viMsGZ1FscDuIlU+ZYepMnXOHFb9j3NvLzxye/O3WnEesYTMQbIyOKFGJErBTmS0bu3bP/cHIvPPSuH46FsNZZyNTzJHzlGJLiBaldTshcWhjaMWMSWAtisFdPyzTPvnrdA5LSy33YHtEbc417HX4N5jvbPzKoljxkcAzUGcQIA8fNbPV7WR/knGQumyFgx20MiMqGnCMUtFwvBNuv7OFe/W5ZpS7yQ/3L94bPgVUBsCDTUzKYPtIzmgRRECk19Yq9ZjQMlPqMUcksORIckASQRbpGffp1PV226cH3X8939/ZNEN3pw2JQV2RpJ+lYLEgG+GzKdgMchEoOck550SWjSWgzgvjCgGEIuWUKbUGiSyH8ubQvu1n3zy1eWv5Zeoo8XaulkAR6eGvevTGZzPJ3GK4eW/pN75xRw52vv5L1Y2ni2qjqNzUpAWSKyhj2OblyEiGAG/K3dSk5Wpnqfwne+Lm+S/U/uPS1WRm1pcpGWbOjmAFeYYixZkJAd3KSzvzX9vx3/hQH0sHi0G0w1Q4sbVQLZnhPAy8NMg1IQkbsAhHpEi5TXEtFsskvpn0rUC4tbbuF+/5cLH3wfHgZbAIFyZ4NnVuj9xv3Np7brf+ev9cKdu9LGMTmoJtorbBqHJrdrZ29x+n17670x+bU6mI0p04eDec+7mO1iEi1gICEiOP5omZgKBZptTjQ8tMqceYiIC8MAyysAUTmVaQmRfO/ew4VpfJBvP3rrh/YSS9SdqYpjLyIOaSGeAoTGQtmZwdkAiNAUQ8Z2Ods6GIHcGIWNMa0zgaB7NX2WlpvrW0/u7qi7c2vlS6FyMhMwFj8BRYf+g6vdiYlhF8kbu2fmay8SdX+q92d/78o6s/PtelszD9SeMSQvamM0EcO+uSIQg5v2/4PfZXhi/cWP3lLluRGtZICjbn7G02UsZZYxLROvX2hVdhptv0u/9cmEr+YbVfhlk2DfdblJChgKTzMFFihE3WMblA3hi03NSpdYXzYgO1wNyJzYymKg4qf8m4xalfj36IGsIdFw6oGb2j/i9TeeWf/vnMq2tLT/meT1O0jaGCG+Nkw0x7O2/Hq98cp5/SyVSOarNu0/rsSoF5RxAYJmdEYLITdI/0ywLoNRxKPQa0zJR6jDEzyEGYOUGcEw/UbFrweiq2ENZm1b97Z+8TdfMfisHFJekvTdoeY5hNEESSGugoJbII1HAtLBZwZEFGJMecfRg0EmukWPBiqdga2ve8uY7mzdP/5tbwF+v0Eup7KCLMBtr7pXumweFD19mEAxiHSC3nIpQp92/5T20/t7p7889OTe/9Qr/6cB9+XJvOCtPhbDHwqU/S8rzoLx/y7NpC2gsvNOWLWEzhOtjl3FifmtwvwKlc7LflMibLGMwzGLMhqk9f47KX3/xYb8V03Yi7oXAFISNW2LFk49kXDajtGJIL4ytX9r0LzTybxAVLYGLJTK3FdmpvWsHaL4Brz6OUG7AFJZij9xor+cp/z5+w8Tc+Ua6Gs2nc2qpnuqXd+eHB5Ts/+dq969+l5VkYRWdzXg521O0X1M6MQSLgwcMyNo+4o+jBtub/81lEtNWUOnYsXvjjf+01KKX+fxGBBASQgWE2ickKAnxGyj5xNoi9zbo6n3PTyI9P5A+1ad/KzJuiSFJJ60wxNyeqLpVsvXByUpuY0LlkKykmuW77mKyXd5fLd3vu9dHTb5x47Yen//Ba+EKSETCHMRCCNDA2oT1qmSIWTEAGIQsEEcZmPrG39uW91Z+5RbNtsxPLljxs3+WKDO0dtLZbqm4Ow9d97/XTP3/r1GttcQY5QgpkgYnsCDmDpXEVwUs4FJOFCNa6NM6Y3Ss+vr7936qwu8LZN0Wy9YKmdWIgCiCpNrk14GxsNCxSO15Ey1lsNt7CUORsqp/2yzd9/i+/+J8OpE9pJZlKCgMkEgeho+bqkJZ9vXbr+p/H/R/S7WrnynTrcnvxzcnud6ZXvrazeMduzE6ePqQixhyKqVn6Vm96/8TPTYs1YZAtKXU+xzYMIAmPEv2LH5VSx4KWmVLvR847Zsc22wH8oKUwYbsta+h9rVopQ0r1ZA5Eh35iL9IVFI1YRpm4rKWYerfX451+mp7Klyr3Zph+bzT/0cqzl0Zfvtz74m55Adk/kmWapgn2/CK8dMs9/WNufsp3694kDfM4NLTRTEv3PTv/h6VXrp/6o8XKc9y2R539JLagDBHAgQOJIZAhJ4uYyoOqf88XtjblNNRdyI0fpFRFQ9nkjroGHUv0kNKYhL7hCUmKuSrgazf9bph9+8To1snfY6xmjBgBSJAEMVaMHFVm1WGU0XwSJ/ffmlzc2/p2c++NevJu115qzTXZ2C/Ozu1mbSoO+73i5rK8NXpma+PVhTtlWZiMSLKETMWjLjOl1GNAdzOVej/qMiekDOJOEODP7K98fn/4kfnW1k669vnNW88VTb3b0WxRAT2uxsYZz+RaDtIU7rBX3i2r/RB+UKSd/vhO9fyh/a3kv9BWJ+feQ0qgeTTr9OtTahHW0fuCW/3MtP7+7dlX3eG3z7vNM9V94voyPvve2u/NTnwEXKG5j/KIm10F+cGQOwuEMioC2FRvnfvcfr7a1d39cjQc7nuc6LnK03TQiJdkuePEHK2LRZVcxc7WVRHHQkWNZVvgvk3vhc0rp7+ccIppmKWEMIQBgQhgj7zVogvZnp/4P7gT73+g/euztTlx/3DUmco0g5oGi8JjhexiPtg66E/36MzBxkutXwcHQgIElGEMWKf2lXoSaZkp9b7EYh2McTlKs8uWsg8ozt7f/JM3t/8zx1vTVblgi82QcwtOYTacLzzmwcxdsR+qW2F4pTe4V4SdU5+cySsz8+LCVcjONgO7CKD2ET0yA9sxwBCHFJJsHrrPztd/Npz4t2mxc0VuLHi7kVe76hVwgzaVvmyOOmIoxogRMkwZ6ICQjTdk8tIXr+5tzPJX3jXfGfXGPZcqN7O5OCELn6UUUxZFZfo99mUnRRf9cjGQFRvRcpayvkru6ujji9UvReozWSADEZQAARvI0XNmOQK3s/Xj/Kmb8eJT/sYHi+HKlAlNkGHnbWPvoqLtsHIp9N/qu92Vj8ztMqIxD/6KpQeHOvTNxko9gbTMlHpfasQWiaxx4mNnuUE0OfnOP7u3/qU3DrHVvv7J3vi5ka2asRTjw7y+Z+MdK1tuZRye368+dn/48rg631ucbsg2tkJ0oDr7sfEWefCoVlnA5hSYiU2Cb2Ektydj+9TtqoWZIA1ADbj1TZ/cNHEFHLm7R0QgImRBCyQhyiSYz9A7NaHfZ/Pl+fL3PO1206bLl+1h36Y2pK6Q7E0sZBbStu/G4FuVQ+i4oLxwS9fchbvLn5vJOaYEJBgAGWCIIbL/Upl1gYqWbDeXT/zE3rS9/1Ga9gPhan9yzlXzzjWcbLTpakHfWnrlrfVfn5XPZC4hLMYACSAWGMl6z6xSTyDCb27/a69BKfWIOcwTPFCCLIgNRRYLMcgePnvZLRbvnJ7/z3PtdwLdakKeFp9r/doiPNX4CzXOz7HRSh/iwXuQNSMrgIjdFdoHCFwBxaNZaCKY1juK7JFLkFgz6fn5NJ0BN8aXnqTrGiEDMogO7uG7qCSWiMlkIREREX7wU9dm6tnIFtEheG+muYuUlnK/g4jJEGaSztG4ovulmVh52zkj9aJPw0k+d4+eM/3nuXFCM4AfnLcgMYAV9sRezBGHHmTofJG6OZmhc++M5n/7/OLaqfT3F3in32ZO7W5R3e1/+Jr5+evhc/ujjyJnJA8mazi7BBYILLtstM2UeuJomSn1PuQdIhMY/+eeUQMyECLL0s3hRjAj11xds2/1qnqalnbpFTBBAAhMBpgke0FnChCAhByRLbhnjLc+xfSIiqHISCmwR/aJCrYZaQKzsHY9162ze4RTkR3cAWidPEs8ooSIQfbBOL6I/N/xrzL6WB1m2UA3BM2ABPTg58gLkAEssv3f42KmDiZ2cdVYy2lGvhMqIRV8QtwFDwEmEgBEloUAAxDw8HcAIEQki8bBVCiTkVm/2+rRFXf4Vye6ixXavf5n7w6+OPUfQgw2mWwHhGTAmQyMQAQszlDSSTOlnjxaZkq9H+UAm61li8ycJAMgIzanMHCSTLcggeshWQghOOQxMpXsGNRZejBH5TJyyGARTmSZrBBZTj1p+yj2HskyDfrIC++6yJGNh63QGU8eNAF6SQLctiVH7WamPTY7wMmH/yIbIRbsIY4eHAQgEIk3sYuAdfCHLu/5bpXNemvrkIKhCORkKJkAsuCE3FmqDZYTCrE1bO07QbIcSs7egAF+cF8rE4QExEeNvRGRxP2iOiU86boabg02IS1jeLVqU5lcw4OWnYWQCR0CknjTiOEER2TAWYSto8x6sYVSTxwtM6WUUkqp40JP/iillFJKHRdaZkoppZRSx4WWmVJKKaXUcaFlppRSSil1XGiZKaWUUkodF1pmSimllFLHhZaZUkoppdRxoWWmlFJKKXVcaJkppZRSSh0XWmZKKaWUUseFlplSSiml1HGhZaaUUkopdVxomSmllFJKHRdaZkoppZRSx4WWmVJKKaXUcaFlppRSSil1XGiZKaWUUkodF1pmSimllFLHxf8C90Flwp80/xEAAAAASUVORK5CYII=)"
      ],
      "metadata": {
        "id": "eheve3CkH8Q_"
      },
      "id": "eheve3CkH8Q_"
    }
  ],
  "metadata": {
    "kernelspec": {
      "display_name": "Python 3 (ipykernel)",
      "language": "python",
      "name": "python3"
    },
    "language_info": {
      "codemirror_mode": {
        "name": "ipython",
        "version": 3
      },
      "file_extension": ".py",
      "mimetype": "text/x-python",
      "name": "python",
      "nbconvert_exporter": "python",
      "pygments_lexer": "ipython3",
      "version": "3.11.3"
    },
    "colab": {
      "provenance": []
    }
  },
  "nbformat": 4,
  "nbformat_minor": 5
}